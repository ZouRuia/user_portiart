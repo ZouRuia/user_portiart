{
 "cells": [
  {
   "cell_type": "code",
   "execution_count": null,
   "metadata": {},
   "outputs": [],
   "source": [
    "import json\n",
    "import os\n",
    "import re\n",
    "import collections\n",
    "import numpy as np\n",
    "import pandas as pd\n",
    "import tensorflow as tf\n",
    "import LAC\n",
    "import happybase\n",
    "import joblib"
   ]
  },
  {
   "cell_type": "code",
   "execution_count": null,
   "metadata": {},
   "outputs": [],
   "source": [
    "df_list = []\n",
    "with open(\"/mnt1/zhaodachuan/data/predict_user_attribute20200911/raw_data/user_profile/position_data\") as f:\n",
    "    for line in f:\n",
    "        df_list.append(line.strip().split('\\001'))\n",
    "df = pd.DataFrame(df_list)"
   ]
  },
  {
   "cell_type": "code",
   "execution_count": null,
   "metadata": {},
   "outputs": [],
   "source": [
    "all_set = set([v.lower() for v in df[1]])"
   ]
  },
  {
   "cell_type": "code",
   "execution_count": null,
   "metadata": {},
   "outputs": [],
   "source": [
    "#企业创始人/CEO\n",
    "ceo_set = set()\n",
    "ceo_pattern = re.compile('|'.join(map(re.escape, [\"董事长\",\"总裁\",\"ceo\",\"董事\",\"合伙人\",\"总经理\",\"副总经理\",\"老板\"])),flags=re.IGNORECASE)"
   ]
  },
  {
   "cell_type": "code",
   "execution_count": null,
   "metadata": {},
   "outputs": [],
   "source": [
    "#企业业务决策层\n",
    "decision_level_set = set()\n",
    "decision_level_pattern = re.compile('|'.join(map(re.escape, ['cio', 'cfo', 'coo', 'cto', 'cko', 'cpo', 'cgo', 'cmo', 'cso',\"首席\",\"行长\",\"投资经理\"])),flags=re.IGNORECASE)"
   ]
  },
  {
   "cell_type": "code",
   "execution_count": null,
   "metadata": {},
   "outputs": [],
   "source": [
    "#企业一般管理人员\n",
    "manager_set = set()\n",
    "manager_pattern = re.compile('|'.join(map(re.escape, [\"总监\",\"主管\",\"总助\",\"负责人\",\"中层干部\"])),flags=re.IGNORECASE)"
   ]
  },
  {
   "cell_type": "code",
   "execution_count": null,
   "metadata": {},
   "outputs": [],
   "source": [
    "# 事业单位员工\n",
    "public_institution_set = set()\n",
    "public_institution_pattern = re.compile('|'.join(map(re.escape, [\"主任\",\"教务\",\"老师\",\"教师\",\"列车\",\"政府\",\"常委\",\"教師\",\"人民公仆\",\"院长\",\"医\",\"驻华大使\"])),flags=re.IGNORECASE)"
   ]
  },
  {
   "cell_type": "code",
   "execution_count": null,
   "metadata": {},
   "outputs": [],
   "source": [
    "# 高校学生\n",
    "student_set = set()\n",
    "student_pattern = re.compile('|'.join(map(re.escape, [\"学生\",\"研究生\",\"博士\",\"大学\",\"应届生\"])),flags=re.IGNORECASE)"
   ]
  },
  {
   "cell_type": "code",
   "execution_count": null,
   "metadata": {},
   "outputs": [],
   "source": [
    "# 其他（自由职业）\n",
    "other_set = set()\n",
    "other_pattern = re.compile('|'.join(map(re.escape, [\"自由\",])),flags=re.IGNORECASE)"
   ]
  },
  {
   "cell_type": "code",
   "execution_count": null,
   "metadata": {},
   "outputs": [],
   "source": [
    "#企业普通员工\n",
    "staff_set = set()\n",
    "staff_pattern =  re.compile('|'.join(map(re.escape, [\"工程师\",\"民工\",\"分析师\",\"设计师\",\"苦力\",\"编程\",\n",
    "    \"清洁\",\"经理助理\",\"客户经理\",\"项目经理\",\"从业者\",\"规划师\",\"部经理\",\"公务员\",\"销售经理\"])),flags=re.IGNORECASE)"
   ]
  },
  {
   "cell_type": "code",
   "execution_count": null,
   "metadata": {},
   "outputs": [],
   "source": [
    "for v in all_set:\n",
    "    if list(re.finditer(ceo_pattern,v)):\n",
    "        ceo_set.add(v)\n",
    "    elif list(re.finditer(decision_level_pattern,v)):\n",
    "        decision_level_set.add(v)\n",
    "    elif list(re.finditer(manager_pattern,v)):\n",
    "        manager_set.add(v)\n",
    "    elif list(re.finditer(public_institution_pattern,v)):\n",
    "        public_institution_set.add(v)\n",
    "    elif list(re.finditer(student_pattern,v)):\n",
    "        student_set.add(v)\n",
    "    else:\n",
    "        if list(re.finditer(other_pattern,v)) or len(v) > 10:\n",
    "            other_set.add(v)\n",
    "        else:\n",
    "            staff_set.add(v)\n"
   ]
  },
  {
   "cell_type": "code",
   "execution_count": null,
   "metadata": {},
   "outputs": [],
   "source": [
    "all_set = all_set - ceo_set - decision_level_set - manager_set - staff_set - public_institution_set - student_set - other_set\n",
    "print(len(all_set))"
   ]
  },
  {
   "cell_type": "code",
   "execution_count": null,
   "metadata": {},
   "outputs": [],
   "source": [
    "print(len(ceo_set))\n",
    "print(ceo_set)\n",
    "print(len(decision_level_set))\n",
    "print(decision_level_set)\n",
    "print(len(manager_set))\n",
    "print(manager_set)\n",
    "print(len(public_institution_set))\n",
    "print(public_institution_set)\n",
    "print(len(student_set))\n",
    "print(student_set)\n",
    "print(len(other_set))\n",
    "print(len(staff_set))"
   ]
  },
  {
   "cell_type": "code",
   "execution_count": null,
   "metadata": {},
   "outputs": [],
   "source": [
    "def temp_function(x,ceo_set=ceo_set,decision_level_set=decision_level_set,manager_set=manager_set,\n",
    "    public_institution_set=public_institution_set,staff_set=staff_set,student_set=student_set,other_set=other_set):\n",
    "    #x = datetime.datetime.now().year - int(x.split(\"-\")[0])\n",
    "    y = 0\n",
    "    if x in ceo_set:\n",
    "        y = \"企业创始人/CEO\"\n",
    "    elif x in decision_level_set:\n",
    "        y = \"企业业务决策层\"\n",
    "    elif x in manager_set:\n",
    "        y = \"企业一般管理人员\"\n",
    "    elif x in public_institution_set:\n",
    "        y = \"事业单位员工\"\n",
    "    elif x in staff_set:\n",
    "        y = \"企业普通员工\"\n",
    "    elif x in student_set:\n",
    "        y = \"高校学生\"\n",
    "    else:\n",
    "        y = \"其他（自由职业）\"\n",
    "    return y"
   ]
  },
  {
   "cell_type": "code",
   "execution_count": null,
   "metadata": {},
   "outputs": [],
   "source": [
    "df[1] = df[1].apply(lambda x : temp_function(x))"
   ]
  },
  {
   "cell_type": "code",
   "execution_count": null,
   "metadata": {},
   "outputs": [],
   "source": [
    "df[1].unique()"
   ]
  },
  {
   "cell_type": "code",
   "execution_count": null,
   "metadata": {},
   "outputs": [],
   "source": [
    "df.columns = [\"aid\",\"position\",*[\"c{}\".format(v) for v in range(10)]]\n",
    "df"
   ]
  },
  {
   "cell_type": "code",
   "execution_count": null,
   "metadata": {},
   "outputs": [],
   "source": [
    "a_dict = {}\n",
    "with open(\"/mnt1/zhaodachuan/data/predict_user_attribute20200911/raw_data/user_profile/title_tokenize.jsonl\") as f:\n",
    "    for line in f:\n",
    "        temp_dict = json.loads(line.strip())\n",
    "        aid = temp_dict[\"aid\"]\n",
    "        a_dict[aid] = {}\n",
    "        title_tokenize = temp_dict[\"title_tokenize\"]\n",
    "        a_dict[aid][\"title_tokenize\"] = title_tokenize\n",
    "with open(\"/mnt1/zhaodachuan/data/predict_user_attribute20200911/raw_data/user_profile/content_tokenize.jsonl\") as f:\n",
    "    for line in f:\n",
    "        temp_dict = json.loads(line.strip())\n",
    "        aid = temp_dict[\"aid\"]\n",
    "        if not aid in a_dict:\n",
    "            print(aid)\n",
    "            continue\n",
    "        content_tokenize = temp_dict[\"content_tokenize\"]\n",
    "        a_dict[aid][\"content_tokenize\"] = content_tokenize"
   ]
  },
  {
   "cell_type": "code",
   "execution_count": null,
   "metadata": {},
   "outputs": [],
   "source": [
    "df"
   ]
  },
  {
   "cell_type": "code",
   "execution_count": null,
   "metadata": {},
   "outputs": [],
   "source": [
    "text_list = []\n",
    "y_list = []\n",
    "for index in df.index:\n",
    "    y = df.loc[index,\"position\"]\n",
    "    temp_text_list = []\n",
    "    for i in range(10):\n",
    "        c_text_list = []\n",
    "        c = \"c{}\".format(i)\n",
    "        aid = str(df.loc[index,c]).strip()\n",
    "        if aid:\n",
    "            if aid in a_dict:\n",
    "                c_text_list = [*a_dict[aid][\"title_tokenize\"],\"<PADDING>\",*a_dict[aid][\"content_tokenize\"][:512]]\n",
    "            else:\n",
    "                print(\"aid不存在\",index,c,aid)\n",
    "        else:\n",
    "            print(index)\n",
    "        temp_text_list.append(c_text_list)     \n",
    "    text_list.append(temp_text_list)\n",
    "    y_list.append(y)"
   ]
  },
  {
   "cell_type": "code",
   "execution_count": null,
   "metadata": {},
   "outputs": [],
   "source": [
    "with open(\"/mnt1/zhaodachuan/data/predict_user_attribute20200911/raw_data/user_profile/position/最终数据集tokenize.jsonl\",\"w\") as f:\n",
    "    for tag,content_tokenize in zip(y_list,text_list):\n",
    "        f.write(json.dumps({\"tag\":tag,\"all_content_tokenize\":content_tokenize},ensure_ascii=False) + \"\\n\")"
   ]
  }
 ],
 "metadata": {
  "kernelspec": {
   "display_name": "Python 3",
   "language": "python",
   "name": "python3"
  },
  "language_info": {
   "codemirror_mode": {
    "name": "ipython",
    "version": 3
   },
   "file_extension": ".py",
   "mimetype": "text/x-python",
   "name": "python",
   "nbconvert_exporter": "python",
   "pygments_lexer": "ipython3",
   "version": "3.7.6"
  }
 },
 "nbformat": 4,
 "nbformat_minor": 4
}
