{
 "cells": [
  {
   "cell_type": "code",
   "execution_count": 1,
   "metadata": {},
   "outputs": [],
   "source": [
    "import os\n",
    "import pickle\n",
    "import collections\n",
    "import datetime\n",
    "import copy\n",
    "import numpy as np\n",
    "import scipy as sp\n",
    "import pandas as pd\n",
    "import happybase\n",
    "import tensorflow as tf\n",
    "import warnings\n",
    "import csv\n",
    "import re\n",
    "import json\n",
    "import sklearn.model_selection\n",
    "import sklearn.preprocessing"
   ]
  },
  {
   "cell_type": "code",
   "execution_count": 2,
   "metadata": {},
   "outputs": [],
   "source": [
    "data_dir = r\"/mnt1/zhaodachuan/data/predict_user_attribute/data/raw_data\""
   ]
  },
  {
   "cell_type": "code",
   "execution_count": 3,
   "metadata": {},
   "outputs": [
    {
     "name": "stdout",
     "output_type": "stream",
     "text": [
      "['/mnt1/zhaodachuan/data/predict_user_attribute/data/raw_data/000000_0', '/mnt1/zhaodachuan/data/predict_user_attribute/data/raw_data/000002_0', '/mnt1/zhaodachuan/data/predict_user_attribute/data/raw_data/000001_0', '/mnt1/zhaodachuan/data/predict_user_attribute/data/raw_data/000003_0']\n"
     ]
    }
   ],
   "source": [
    "file_list = []\n",
    "for root,_,path_list in os.walk(data_dir):\n",
    "    for path in path_list:\n",
    "        file_list.append(os.path.join(root,path))\n",
    "print(file_list)"
   ]
  },
  {
   "cell_type": "code",
   "execution_count": 4,
   "metadata": {},
   "outputs": [
    {
     "name": "stderr",
     "output_type": "stream",
     "text": [
      "b'Skipping line 461777: expected 32 fields, saw 33\\n'\n",
      "<string>:2: DtypeWarning: Columns (1,3,4,5,6,7,15,16,28,29,30) have mixed types.Specify dtype option on import or set low_memory=False.\n",
      "<string>:2: DtypeWarning: Columns (1,2,3,4,5,6,7,15,16,28,29,30) have mixed types.Specify dtype option on import or set low_memory=False.\n"
     ]
    },
    {
     "name": "stdout",
     "output_type": "stream",
     "text": [
      "CPU times: user 54.9 s, sys: 3.33 s, total: 58.3 s\n",
      "Wall time: 58.3 s\n"
     ]
    }
   ],
   "source": [
    "%%time\n",
    "#读取用户数据\n",
    "all_file_data = []\n",
    "for file_name in file_list:\n",
    "    all_file_data.append(pd.read_csv(os.path.join(data_dir,file_name),sep='\\001',header=None,error_bad_lines=False,na_values=[\"-1\",-1]))\n",
    "df = pd.concat(all_file_data,axis=0,ignore_index=True)\n",
    "del all_file_data\n",
    "column_list = ['用户id','用户姓名','用户性别','用户出生时间','所在公司','所处职位','行业','微信网名','微信性别','常驻省','常驻市','是否付费用户','付费等级','关注的作者','作者类型','关注的马甲','关注的公司','文章id','是否精选文章','浏览文章时间','浏览时长','文章频道','文章类型','文章标签','文章图片数量','文章字数','新定位省','新定位市','评论内容','打赏金额','设备型号','使用网络']\n",
    "df.columns = column_list"
   ]
  },
  {
   "cell_type": "code",
   "execution_count": 5,
   "metadata": {},
   "outputs": [
    {
     "name": "stdout",
     "output_type": "stream",
     "text": [
      "<class 'pandas.core.frame.DataFrame'>\n",
      "RangeIndex: 15703265 entries, 0 to 15703264\n",
      "Data columns (total 32 columns):\n",
      " #   Column  Dtype  \n",
      "---  ------  -----  \n",
      " 0   用户id    object \n",
      " 1   用户姓名    object \n",
      " 2   用户性别    object \n",
      " 3   用户出生时间  object \n",
      " 4   所在公司    object \n",
      " 5   所处职位    object \n",
      " 6   行业      object \n",
      " 7   微信网名    object \n",
      " 8   微信性别    float64\n",
      " 9   常驻省     float64\n",
      " 10  常驻市     float64\n",
      " 11  是否付费用户  float64\n",
      " 12  付费等级    float64\n",
      " 13  关注的作者   float64\n",
      " 14  作者类型    float64\n",
      " 15  关注的马甲   object \n",
      " 16  关注的公司   object \n",
      " 17  文章id    object \n",
      " 18  是否精选文章  object \n",
      " 19  浏览文章时间  object \n",
      " 20  浏览时长    float64\n",
      " 21  文章频道    object \n",
      " 22  文章类型    object \n",
      " 23  文章标签    object \n",
      " 24  文章图片数量  object \n",
      " 25  文章字数    object \n",
      " 26  新定位省    object \n",
      " 27  新定位市    object \n",
      " 28  评论内容    object \n",
      " 29  打赏金额    object \n",
      " 30  设备型号    object \n",
      " 31  使用网络    object \n",
      "dtypes: float64(8), object(24)\n",
      "memory usage: 3.7+ GB\n"
     ]
    }
   ],
   "source": [
    "df.info()"
   ]
  },
  {
   "cell_type": "code",
   "execution_count": 6,
   "metadata": {},
   "outputs": [
    {
     "data": {
      "text/plain": [
       "用户id             0\n",
       "用户姓名      15281129\n",
       "用户性别      12543401\n",
       "用户出生时间    12543401\n",
       "所在公司      15493250\n",
       "所处职位      15164135\n",
       "行业        15539019\n",
       "微信网名      15616490\n",
       "微信性别      12543403\n",
       "常驻省       15703265\n",
       "常驻市       15703265\n",
       "是否付费用户    15358817\n",
       "付费等级      15358817\n",
       "关注的作者     14981704\n",
       "作者类型      14981704\n",
       "关注的马甲     15020605\n",
       "关注的公司     15483640\n",
       "文章id       3492415\n",
       "是否精选文章     4212930\n",
       "浏览文章时间     3159947\n",
       "浏览时长      12198198\n",
       "文章频道       6485058\n",
       "文章类型      10853406\n",
       "文章标签      13521462\n",
       "文章图片数量     6214475\n",
       "文章字数       6214475\n",
       "新定位省       3159946\n",
       "新定位市       3159945\n",
       "评论内容      15683678\n",
       "打赏金额      15703250\n",
       "设备型号      15064728\n",
       "使用网络       3159945\n",
       "dtype: int64"
      ]
     },
     "execution_count": 6,
     "metadata": {},
     "output_type": "execute_result"
    }
   ],
   "source": [
    "df.isna().sum()"
   ]
  },
  {
   "cell_type": "code",
   "execution_count": 33,
   "metadata": {},
   "outputs": [
    {
     "data": {
      "text/plain": [
       "'359998,376736,375646,376887,374409,375982'"
      ]
     },
     "execution_count": 33,
     "metadata": {},
     "output_type": "execute_result"
    }
   ],
   "source": []
  },
  {
   "cell_type": "code",
   "execution_count": 8,
   "metadata": {},
   "outputs": [
    {
     "data": {
      "text/plain": [
       "0                   359998,376736,375646,376887,374409,375982\n",
       "1           343666,350648,349454,348559,349190,347319,3494...\n",
       "2                                                      377404\n",
       "3           373301,361213,361120,373288,361277,361175,3732...\n",
       "4           364037,363419,363534,363337,364246,364164,3633...\n",
       "                                  ...                        \n",
       "15703260                                               265074\n",
       "15703261                                               108013\n",
       "15703262                                               363341\n",
       "15703263                                               299101\n",
       "15703264                                               217531\n",
       "Name: 文章id, Length: 15703265, dtype: object"
      ]
     },
     "execution_count": 8,
     "metadata": {},
     "output_type": "execute_result"
    }
   ],
   "source": [
    "df[\"文章id\"]"
   ]
  },
  {
   "cell_type": "code",
   "execution_count": 15,
   "metadata": {},
   "outputs": [
    {
     "data": {
      "text/plain": [
       "0           NaN\n",
       "1           NaN\n",
       "2           NaN\n",
       "3           NaN\n",
       "4           NaN\n",
       "           ... \n",
       "15703260    NaN\n",
       "15703261    NaN\n",
       "15703262    NaN\n",
       "15703263    NaN\n",
       "15703264    NaN\n",
       "Name: 行业, Length: 15703265, dtype: object"
      ]
     },
     "execution_count": 15,
     "metadata": {},
     "output_type": "execute_result"
    }
   ],
   "source": [
    "df[\"行业\"]"
   ]
  },
  {
   "cell_type": "code",
   "execution_count": 9,
   "metadata": {},
   "outputs": [],
   "source": [
    "age_df = pd.read_csv(r\"/mnt1/zhaodachuan/data/predict_user_attribute/data/age.csv\")"
   ]
  },
  {
   "cell_type": "code",
   "execution_count": 14,
   "metadata": {},
   "outputs": [
    {
     "data": {
      "text/plain": [
       "0           30~35\n",
       "1           30~35\n",
       "2           30~35\n",
       "3           30~35\n",
       "4           30~35\n",
       "            ...  \n",
       "15703260    30~35\n",
       "15703261    30~35\n",
       "15703262    30~35\n",
       "15703263    30~35\n",
       "15703264    30~35\n",
       "Name: age, Length: 15703265, dtype: object"
      ]
     },
     "execution_count": 14,
     "metadata": {},
     "output_type": "execute_result"
    }
   ],
   "source": [
    "age_df[\"age\"]"
   ]
  },
  {
   "cell_type": "code",
   "execution_count": 10,
   "metadata": {},
   "outputs": [],
   "source": [
    "position_df = pd.read_csv(r\"/mnt1/zhangwanli/data/position.csv\")"
   ]
  },
  {
   "cell_type": "code",
   "execution_count": 16,
   "metadata": {},
   "outputs": [
    {
     "data": {
      "text/plain": [
       "0           事业单位员工\n",
       "1           事业单位员工\n",
       "2           事业单位员工\n",
       "3           事业单位员工\n",
       "4           事业单位员工\n",
       "             ...  \n",
       "15703260    事业单位员工\n",
       "15703261    事业单位员工\n",
       "15703262    事业单位员工\n",
       "15703263    事业单位员工\n",
       "15703264    事业单位员工\n",
       "Name: position, Length: 15703265, dtype: object"
      ]
     },
     "execution_count": 16,
     "metadata": {},
     "output_type": "execute_result"
    }
   ],
   "source": [
    "position_df[\"position\"]"
   ]
  },
  {
   "cell_type": "code",
   "execution_count": 20,
   "metadata": {},
   "outputs": [
    {
     "data": {
      "text/plain": [
       "0                   00001D26FE991A4BC4A01325D5E222DE\n",
       "1                   00006C3EF7F79B0F37EEFB8381505530\n",
       "2                   0000D0E1960239E8362F6B4100D9790A\n",
       "3           0000f55e60d5ba7b36004429b235c95096f7153d\n",
       "4                   00014E9D5CF948B3FE6376564B23F64F\n",
       "                              ...                   \n",
       "15703260                        qlu2xsthqk7tp0mncpgr\n",
       "15703261                        qlu30bysbp1mj150uc1m\n",
       "15703262                         qlu30t7n6f2b1jgzexv\n",
       "15703263                        qlu315b37v5rc273amb0\n",
       "15703264                         qlu31nan912a53u0z62\n",
       "Name: 用户id, Length: 15703265, dtype: object"
      ]
     },
     "execution_count": 20,
     "metadata": {},
     "output_type": "execute_result"
    }
   ],
   "source": [
    "df['用户id']"
   ]
  },
  {
   "cell_type": "code",
   "execution_count": null,
   "metadata": {},
   "outputs": [],
   "source": [
    "本科及以上\n",
    "大专\n",
    "高中\n",
    "其他"
   ]
  },
  {
   "cell_type": "code",
   "execution_count": 17,
   "metadata": {},
   "outputs": [
    {
     "data": {
      "text/plain": [
       "array([nan, '内容/营销/传播', '教育/专业服务/培训', '创业者', '互联网', '电商/仓储物流', '投资人',\n",
       "       'IT', 'TMT从业人员', '商业服务', '酒店/餐饮/旅游', '金融', '政府/非盈利机构',\n",
       "       '企业服务/云计算/大数据', '房地产', '汽车/出行', '媒体', '加工制造', '其他', '制药医疗/生物/卫生保健',\n",
       "       '文化/体育/娱乐业', '商业服务-O2O/服务/社区', '人工智能/前沿科技', '法律', '智能硬件/硬件制造', '0',\n",
       "       '贸易/零售批发', '学生', '能源相关', 'undefined', '农业', '仓储物流', '零售/快消', 0.0,\n",
       "       '营销'], dtype=object)"
      ]
     },
     "execution_count": 17,
     "metadata": {},
     "output_type": "execute_result"
    }
   ],
   "source": [
    "df[\"行业\"].unique()"
   ]
  },
  {
   "cell_type": "code",
   "execution_count": 18,
   "metadata": {},
   "outputs": [
    {
     "data": {
      "text/plain": [
       "array(['30~35', '26~29', '36~45', '~20', '21~25', '46~50', '50~'],\n",
       "      dtype=object)"
      ]
     },
     "execution_count": 18,
     "metadata": {},
     "output_type": "execute_result"
    }
   ],
   "source": [
    "age_df[\"age\"].unique()"
   ]
  },
  {
   "cell_type": "code",
   "execution_count": 19,
   "metadata": {},
   "outputs": [
    {
     "data": {
      "text/plain": [
       "array(['事业单位员工', '企业业务决策层', '企业普通员工', '企业创始人/CEO', '企业一般管理人员', '高校学生'],\n",
       "      dtype=object)"
      ]
     },
     "execution_count": 19,
     "metadata": {},
     "output_type": "execute_result"
    }
   ],
   "source": [
    "position_df[\"position\"].unique()"
   ]
  },
  {
   "cell_type": "code",
   "execution_count": 41,
   "metadata": {},
   "outputs": [],
   "source": [
    "\n",
    "college_set = set()\n",
    "high_school_set = set()\n",
    "junior_college_set = set()\n",
    "\n",
    "for uuid,trade,age,position,aid_list in zip(df['用户id'],df[\"行业\"],age_df[\"age\"],position_df[\"position\"],df[\"文章id\"]):\n",
    "    education = \"其他\"\n",
    "    if trade == trade and (not (trade in set(['undefined',\"农业\",\"加工制造\",\"酒店/餐饮/旅游\",\"商业服务\",\"商业服务-O2O/服务/社区\",\"文化/体育/娱乐业\",\"其他\",\"仓储物流\",\"零售/快消\"]))):\n",
    "        education = \"本科\"\n",
    "        if aid_list == aid_list:\n",
    "            college_set.update(str(aid_list).split(\",\"))\n",
    "    elif trade == trade and trade in set([\"农业\",\"加工制造\",\"酒店/餐饮/旅游\",\"商业服务-O2O/服务/社区\",\"商业服务\",\"仓储物流\",\"零售/快消\"]):\n",
    "        education = \"高中\"\n",
    "        if aid_list == aid_list:\n",
    "            high_school_set.update(str(aid_list).split(\",\"))\n",
    "    elif trade == trade and trade in set([\"文化/体育/娱乐业\",\"其他\"]):\n",
    "        education = \"大专\"\n",
    "        if aid_list == aid_list:\n",
    "            junior_college_set.update(str(aid_list).split(\",\"))\n",
    "    else:\n",
    "        if position in set(['企业业务决策层', '企业普通员工', '企业创始人/CEO', '企业一般管理人员', '高校学生']):\n",
    "            if aid_list == aid_list:\n",
    "                college_set.update(str(aid_list).split(\",\"))\n",
    "            "
   ]
  },
  {
   "cell_type": "code",
   "execution_count": 42,
   "metadata": {},
   "outputs": [],
   "source": [
    "res = {\"uuid_list\":[],\"education_list\":[]}"
   ]
  },
  {
   "cell_type": "code",
   "execution_count": 43,
   "metadata": {},
   "outputs": [],
   "source": [
    "for uuid,trade,age,position,aid_list in zip(df['用户id'],df[\"行业\"],age_df[\"age\"],position_df[\"position\"],df[\"文章id\"]):\n",
    "    education = \"其他\"\n",
    "    if trade == trade and (not (trade in set(['undefined',\"农业\",\"加工制造\",\"酒店/餐饮/旅游\",\"商业服务\",\"商业服务-O2O/服务/社区\",\"文化/体育/娱乐业\",\"其他\",\"仓储物流\",\"零售/快消\"]))):\n",
    "        education = \"本科\"\n",
    "    elif trade == trade and trade in set([\"农业\",\"加工制造\",\"酒店/餐饮/旅游\",\"商业服务-O2O/服务/社区\",\"商业服务\",\"仓储物流\",\"零售/快消\"]):\n",
    "        education = \"高中\"\n",
    "    elif trade == trade and trade in set([\"文化/体育/娱乐业\",\"其他\"]):\n",
    "        education = \"大专\"\n",
    "    else:\n",
    "        if aid_list == aid_list:\n",
    "            aid_set = set(aid_list.split(\",\"))\n",
    "            if aid_set.issubset(college_set):\n",
    "                education = \"本科\"\n",
    "            elif aid_set.issubset(high_school_set):\n",
    "                education = \"高中\"\n",
    "            elif aid_set.issubset(junior_college_set):\n",
    "                education = \"大专\"\n",
    "        if position in set(['企业业务决策层', '企业普通员工', '企业创始人/CEO', '企业一般管理人员', '高校学生']):\n",
    "            education = \"本科\"\n",
    "    res[\"uuid_list\"].append(uuid)\n",
    "    res[\"education_list\"].append(education)"
   ]
  },
  {
   "cell_type": "code",
   "execution_count": 44,
   "metadata": {},
   "outputs": [
    {
     "data": {
      "text/plain": [
       "Counter({'其他': 15508728, '本科': 181857, '高中': 7253, '大专': 5427})"
      ]
     },
     "execution_count": 44,
     "metadata": {},
     "output_type": "execute_result"
    }
   ],
   "source": [
    "collections.Counter(res[\"education_list\"])"
   ]
  },
  {
   "cell_type": "code",
   "execution_count": 31,
   "metadata": {},
   "outputs": [
    {
     "data": {
      "text/plain": [
       "set()"
      ]
     },
     "execution_count": 31,
     "metadata": {},
     "output_type": "execute_result"
    }
   ],
   "source": [
    "college_set"
   ]
  },
  {
   "cell_type": "code",
   "execution_count": 24,
   "metadata": {},
   "outputs": [
    {
     "data": {
      "text/plain": [
       "Counter({'其他': 15539020, '本科': 151565, '高中': 7253, '大专': 5427})"
      ]
     },
     "execution_count": 24,
     "metadata": {},
     "output_type": "execute_result"
    }
   ],
   "source": [
    "collections.Counter(res[\"education_list\"])"
   ]
  },
  {
   "cell_type": "code",
   "execution_count": 46,
   "metadata": {},
   "outputs": [],
   "source": [
    "res[\"udid_list\"] = res[\"uuid_list\"]"
   ]
  },
  {
   "cell_type": "code",
   "execution_count": 49,
   "metadata": {},
   "outputs": [
    {
     "name": "stdout",
     "output_type": "stream",
     "text": [
      "0\n",
      "100000\n",
      "200000\n",
      "300000\n",
      "400000\n",
      "500000\n",
      "600000\n",
      "700000\n",
      "800000\n",
      "900000\n",
      "1000000\n",
      "1100000\n",
      "1200000\n",
      "1300000\n",
      "1400000\n",
      "1500000\n",
      "1600000\n",
      "1700000\n",
      "1800000\n",
      "1900000\n",
      "2000000\n",
      "2100000\n",
      "2200000\n",
      "2300000\n",
      "2400000\n",
      "2500000\n",
      "2600000\n",
      "2700000\n",
      "2800000\n",
      "2900000\n",
      "3000000\n",
      "3100000\n",
      "3200000\n",
      "3300000\n",
      "3400000\n",
      "3500000\n",
      "3600000\n",
      "3700000\n",
      "3800000\n",
      "3900000\n",
      "4000000\n",
      "4100000\n",
      "4200000\n",
      "4300000\n",
      "4400000\n",
      "4500000\n",
      "4600000\n",
      "4700000\n",
      "4800000\n",
      "4900000\n",
      "5000000\n",
      "5100000\n",
      "5200000\n",
      "5300000\n",
      "5400000\n",
      "5500000\n",
      "5600000\n",
      "5700000\n",
      "5800000\n",
      "5900000\n",
      "6000000\n",
      "6100000\n",
      "6200000\n",
      "6300000\n",
      "6400000\n",
      "6500000\n",
      "6600000\n",
      "6700000\n",
      "6800000\n",
      "6900000\n",
      "7000000\n",
      "7100000\n",
      "7200000\n",
      "7300000\n",
      "7400000\n",
      "7500000\n",
      "7600000\n",
      "7700000\n",
      "7800000\n",
      "7900000\n",
      "8000000\n",
      "8100000\n",
      "8200000\n",
      "8300000\n",
      "8400000\n",
      "8500000\n",
      "8600000\n",
      "8700000\n",
      "8800000\n",
      "8900000\n",
      "9000000\n",
      "9100000\n",
      "9200000\n",
      "9300000\n",
      "9400000\n",
      "9500000\n",
      "9600000\n",
      "9700000\n",
      "9800000\n",
      "9900000\n",
      "10000000\n",
      "10100000\n",
      "10200000\n",
      "10300000\n",
      "10400000\n",
      "10500000\n",
      "10600000\n",
      "10700000\n",
      "10800000\n",
      "10900000\n",
      "11000000\n",
      "11100000\n",
      "11200000\n",
      "11300000\n",
      "11400000\n",
      "11500000\n",
      "11600000\n",
      "11700000\n",
      "11800000\n",
      "11900000\n",
      "12000000\n",
      "12100000\n",
      "12200000\n",
      "12300000\n",
      "12400000\n",
      "12500000\n",
      "12600000\n",
      "12700000\n",
      "12800000\n",
      "12900000\n",
      "13000000\n",
      "13100000\n",
      "13200000\n",
      "13300000\n",
      "13400000\n",
      "13500000\n",
      "13600000\n",
      "13700000\n",
      "13800000\n",
      "13900000\n",
      "14000000\n",
      "14100000\n",
      "14200000\n",
      "14300000\n",
      "14400000\n",
      "14500000\n",
      "14600000\n",
      "14700000\n",
      "14800000\n",
      "14900000\n",
      "15000000\n",
      "15100000\n",
      "15200000\n",
      "15300000\n",
      "15400000\n",
      "15500000\n",
      "15600000\n",
      "15700000\n"
     ]
    }
   ],
   "source": [
    "pool = happybase.ConnectionPool(size=100, host=\"47.110.125.69\", port=9090, timeout=None,\n",
    "                                protocol='binary'\n",
    "                                )\n",
    "with pool.connection() as conn:\n",
    "    table = conn.table(\"feature_center:user_profile\")\n",
    "    with table.batch(batch_size=400) as batch:\n",
    "        for i,(udid,education) in enumerate(zip(res[\"udid_list\"],res[\"education_list\"])):\n",
    "            batch.put(udid.encode(), {\"attribute:predict_education\".encode(): education.encode()})\n",
    "            #print(udid.encode(), {\"attribute:predict_education\".encode(): education.encode()})\n",
    "            #break\n",
    "            if i % 100000 == 0:\n",
    "                print(i)"
   ]
  },
  {
   "cell_type": "code",
   "execution_count": null,
   "metadata": {},
   "outputs": [],
   "source": []
  }
 ],
 "metadata": {
  "kernelspec": {
   "display_name": "Python 3",
   "language": "python",
   "name": "python3"
  },
  "language_info": {
   "codemirror_mode": {
    "name": "ipython",
    "version": 3
   },
   "file_extension": ".py",
   "mimetype": "text/x-python",
   "name": "python",
   "nbconvert_exporter": "python",
   "pygments_lexer": "ipython3",
   "version": "3.7.6"
  }
 },
 "nbformat": 4,
 "nbformat_minor": 4
}
