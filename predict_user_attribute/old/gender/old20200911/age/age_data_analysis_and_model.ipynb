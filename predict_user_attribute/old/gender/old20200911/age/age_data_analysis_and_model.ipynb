{
 "cells": [
  {
   "cell_type": "code",
   "execution_count": 3,
   "metadata": {},
   "outputs": [],
   "source": [
    "import os\n",
    "import pickle\n",
    "import collections\n",
    "import datetime\n",
    "import copy\n",
    "import numpy as np\n",
    "import scipy as sp\n",
    "import pandas as pd\n",
    "import tensorflow as tf\n",
    "import happybase\n",
    "import warnings\n",
    "import sklearn.model_selection\n",
    "import sklearn.preprocessing\n",
    "import csv\n",
    "import json\n",
    "import pickle"
   ]
  },
  {
   "cell_type": "code",
   "execution_count": 4,
   "metadata": {},
   "outputs": [],
   "source": [
    "data_dir =  r\"/mnt1/zhaodachuan/data/predict_user_attribute/data/raw_data\""
   ]
  },
  {
   "cell_type": "code",
   "execution_count": 5,
   "metadata": {},
   "outputs": [
    {
     "name": "stdout",
     "output_type": "stream",
     "text": [
      "['/mnt1/zhaodachuan/data/predict_user_attribute/data/raw_data/000000_0', '/mnt1/zhaodachuan/data/predict_user_attribute/data/raw_data/000002_0', '/mnt1/zhaodachuan/data/predict_user_attribute/data/raw_data/000001_0', '/mnt1/zhaodachuan/data/predict_user_attribute/data/raw_data/000003_0']\n"
     ]
    }
   ],
   "source": [
    "file_list = []\n",
    "for root,_,path_list in os.walk(data_dir):\n",
    "    for path in path_list:\n",
    "        file_list.append(os.path.join(root,path))\n",
    "print(file_list)"
   ]
  },
  {
   "cell_type": "code",
   "execution_count": 6,
   "metadata": {},
   "outputs": [
    {
     "name": "stderr",
     "output_type": "stream",
     "text": [
      "b'Skipping line 461777: expected 32 fields, saw 33\\n'\n",
      "<string>:2: DtypeWarning: Columns (1,3,4,5,6,7,15,16,28,29,30) have mixed types.Specify dtype option on import or set low_memory=False.\n",
      "<string>:2: DtypeWarning: Columns (1,2,3,4,5,6,7,15,16,28,29,30) have mixed types.Specify dtype option on import or set low_memory=False.\n"
     ]
    },
    {
     "name": "stdout",
     "output_type": "stream",
     "text": [
      "CPU times: user 1min, sys: 3.21 s, total: 1min 3s\n",
      "Wall time: 1min 3s\n"
     ]
    }
   ],
   "source": [
    "%%time\n",
    "#读取用户数据\n",
    "all_file_data = []\n",
    "for file_name in file_list:\n",
    "    all_file_data.append(pd.read_csv(os.path.join(data_dir,file_name),sep='\\001',header=None,error_bad_lines=False))\n",
    "df = pd.concat(all_file_data,axis=0,ignore_index=True)\n",
    "del all_file_data\n",
    "column_list = ['用户id','用户姓名','用户性别','用户出生时间','所在公司','所处职位','行业','微信网名','微信性别','常驻省','常驻市','是否付费用户','付费等级','关注的作者','作者类型','关注的马甲','关注的公司','文章id','是否精选文章','浏览文章时间','浏览时长','文章频道','文章类型','文章标签','文章图片数量','文章字数','新定位省','新定位市','评论内容','打赏金额','设备型号','使用网络']\n",
    "df.columns = column_list\n",
    "old_df = copy.deepcopy(df)"
   ]
  },
  {
   "cell_type": "code",
   "execution_count": 7,
   "metadata": {},
   "outputs": [],
   "source": [
    "df = copy.deepcopy(old_df)"
   ]
  },
  {
   "cell_type": "code",
   "execution_count": 8,
   "metadata": {},
   "outputs": [],
   "source": [
    "# 获得指定列\n",
    "use_column_list = [\"用户id\",\"用户出生时间\",\"关注的作者\",\"关注的马甲\"]\n",
    "y_col = \"用户出生时间\"\n",
    "df = df[use_column_list]"
   ]
  },
  {
   "cell_type": "code",
   "execution_count": 9,
   "metadata": {},
   "outputs": [
    {
     "data": {
      "text/html": [
       "<div>\n",
       "<style scoped>\n",
       "    .dataframe tbody tr th:only-of-type {\n",
       "        vertical-align: middle;\n",
       "    }\n",
       "\n",
       "    .dataframe tbody tr th {\n",
       "        vertical-align: top;\n",
       "    }\n",
       "\n",
       "    .dataframe thead th {\n",
       "        text-align: right;\n",
       "    }\n",
       "</style>\n",
       "<table border=\"1\" class=\"dataframe\">\n",
       "  <thead>\n",
       "    <tr style=\"text-align: right;\">\n",
       "      <th></th>\n",
       "      <th>用户id</th>\n",
       "      <th>用户出生时间</th>\n",
       "      <th>关注的作者</th>\n",
       "      <th>关注的马甲</th>\n",
       "    </tr>\n",
       "  </thead>\n",
       "  <tbody>\n",
       "    <tr>\n",
       "      <th>0</th>\n",
       "      <td>00001D26FE991A4BC4A01325D5E222DE</td>\n",
       "      <td>-1</td>\n",
       "      <td>-1</td>\n",
       "      <td>-1</td>\n",
       "    </tr>\n",
       "    <tr>\n",
       "      <th>1</th>\n",
       "      <td>00006C3EF7F79B0F37EEFB8381505530</td>\n",
       "      <td>-1</td>\n",
       "      <td>-1</td>\n",
       "      <td>-1</td>\n",
       "    </tr>\n",
       "    <tr>\n",
       "      <th>2</th>\n",
       "      <td>0000D0E1960239E8362F6B4100D9790A</td>\n",
       "      <td>-1</td>\n",
       "      <td>-1</td>\n",
       "      <td>-1</td>\n",
       "    </tr>\n",
       "    <tr>\n",
       "      <th>3</th>\n",
       "      <td>0000f55e60d5ba7b36004429b235c95096f7153d</td>\n",
       "      <td>-1</td>\n",
       "      <td>-1</td>\n",
       "      <td>-1</td>\n",
       "    </tr>\n",
       "    <tr>\n",
       "      <th>4</th>\n",
       "      <td>00014E9D5CF948B3FE6376564B23F64F</td>\n",
       "      <td>-1</td>\n",
       "      <td>-1</td>\n",
       "      <td>-1</td>\n",
       "    </tr>\n",
       "    <tr>\n",
       "      <th>...</th>\n",
       "      <td>...</td>\n",
       "      <td>...</td>\n",
       "      <td>...</td>\n",
       "      <td>...</td>\n",
       "    </tr>\n",
       "    <tr>\n",
       "      <th>15703260</th>\n",
       "      <td>qlu2xsthqk7tp0mncpgr</td>\n",
       "      <td>-1</td>\n",
       "      <td>-1</td>\n",
       "      <td>-1</td>\n",
       "    </tr>\n",
       "    <tr>\n",
       "      <th>15703261</th>\n",
       "      <td>qlu30bysbp1mj150uc1m</td>\n",
       "      <td>-1</td>\n",
       "      <td>-1</td>\n",
       "      <td>-1</td>\n",
       "    </tr>\n",
       "    <tr>\n",
       "      <th>15703262</th>\n",
       "      <td>qlu30t7n6f2b1jgzexv</td>\n",
       "      <td>-1</td>\n",
       "      <td>-1</td>\n",
       "      <td>-1</td>\n",
       "    </tr>\n",
       "    <tr>\n",
       "      <th>15703263</th>\n",
       "      <td>qlu315b37v5rc273amb0</td>\n",
       "      <td>-1</td>\n",
       "      <td>-1</td>\n",
       "      <td>-1</td>\n",
       "    </tr>\n",
       "    <tr>\n",
       "      <th>15703264</th>\n",
       "      <td>qlu31nan912a53u0z62</td>\n",
       "      <td>-1</td>\n",
       "      <td>-1</td>\n",
       "      <td>-1</td>\n",
       "    </tr>\n",
       "  </tbody>\n",
       "</table>\n",
       "<p>15703265 rows × 4 columns</p>\n",
       "</div>"
      ],
      "text/plain": [
       "                                              用户id 用户出生时间  关注的作者 关注的马甲\n",
       "0                 00001D26FE991A4BC4A01325D5E222DE     -1     -1    -1\n",
       "1                 00006C3EF7F79B0F37EEFB8381505530     -1     -1    -1\n",
       "2                 0000D0E1960239E8362F6B4100D9790A     -1     -1    -1\n",
       "3         0000f55e60d5ba7b36004429b235c95096f7153d     -1     -1    -1\n",
       "4                 00014E9D5CF948B3FE6376564B23F64F     -1     -1    -1\n",
       "...                                            ...    ...    ...   ...\n",
       "15703260                      qlu2xsthqk7tp0mncpgr     -1     -1    -1\n",
       "15703261                      qlu30bysbp1mj150uc1m     -1     -1    -1\n",
       "15703262                       qlu30t7n6f2b1jgzexv     -1     -1    -1\n",
       "15703263                      qlu315b37v5rc273amb0     -1     -1    -1\n",
       "15703264                       qlu31nan912a53u0z62     -1     -1    -1\n",
       "\n",
       "[15703265 rows x 4 columns]"
      ]
     },
     "execution_count": 9,
     "metadata": {},
     "output_type": "execute_result"
    }
   ],
   "source": [
    "df.fillna(\"\",inplace=True)\n",
    "df"
   ]
  },
  {
   "cell_type": "code",
   "execution_count": 10,
   "metadata": {},
   "outputs": [],
   "source": [
    "def deal_with_birth_date(birth_date):\n",
    "    if isinstance(birth_date,int) or (not birth_date.split(\"-\")[0]) or (int(birth_date.split(\"-\")[0]) < 1940):\n",
    "        return False\n",
    "    return True\n",
    "\n",
    "predict_df = df[-df[\"用户出生时间\"].apply(deal_with_birth_date)]\n",
    "train_df = df[df[\"用户出生时间\"].apply(deal_with_birth_date)]"
   ]
  },
  {
   "cell_type": "code",
   "execution_count": 11,
   "metadata": {},
   "outputs": [
    {
     "data": {
      "text/html": [
       "<div>\n",
       "<style scoped>\n",
       "    .dataframe tbody tr th:only-of-type {\n",
       "        vertical-align: middle;\n",
       "    }\n",
       "\n",
       "    .dataframe tbody tr th {\n",
       "        vertical-align: top;\n",
       "    }\n",
       "\n",
       "    .dataframe thead th {\n",
       "        text-align: right;\n",
       "    }\n",
       "</style>\n",
       "<table border=\"1\" class=\"dataframe\">\n",
       "  <thead>\n",
       "    <tr style=\"text-align: right;\">\n",
       "      <th></th>\n",
       "      <th>用户id</th>\n",
       "      <th>用户出生时间</th>\n",
       "      <th>关注的作者</th>\n",
       "      <th>关注的马甲</th>\n",
       "    </tr>\n",
       "  </thead>\n",
       "  <tbody>\n",
       "    <tr>\n",
       "      <th>0</th>\n",
       "      <td>00001D26FE991A4BC4A01325D5E222DE</td>\n",
       "      <td>-1</td>\n",
       "      <td>-1</td>\n",
       "      <td>-1</td>\n",
       "    </tr>\n",
       "    <tr>\n",
       "      <th>1</th>\n",
       "      <td>00006C3EF7F79B0F37EEFB8381505530</td>\n",
       "      <td>-1</td>\n",
       "      <td>-1</td>\n",
       "      <td>-1</td>\n",
       "    </tr>\n",
       "    <tr>\n",
       "      <th>2</th>\n",
       "      <td>0000D0E1960239E8362F6B4100D9790A</td>\n",
       "      <td>-1</td>\n",
       "      <td>-1</td>\n",
       "      <td>-1</td>\n",
       "    </tr>\n",
       "    <tr>\n",
       "      <th>3</th>\n",
       "      <td>0000f55e60d5ba7b36004429b235c95096f7153d</td>\n",
       "      <td>-1</td>\n",
       "      <td>-1</td>\n",
       "      <td>-1</td>\n",
       "    </tr>\n",
       "    <tr>\n",
       "      <th>4</th>\n",
       "      <td>00014E9D5CF948B3FE6376564B23F64F</td>\n",
       "      <td>-1</td>\n",
       "      <td>-1</td>\n",
       "      <td>-1</td>\n",
       "    </tr>\n",
       "    <tr>\n",
       "      <th>...</th>\n",
       "      <td>...</td>\n",
       "      <td>...</td>\n",
       "      <td>...</td>\n",
       "      <td>...</td>\n",
       "    </tr>\n",
       "    <tr>\n",
       "      <th>15703260</th>\n",
       "      <td>qlu2xsthqk7tp0mncpgr</td>\n",
       "      <td>-1</td>\n",
       "      <td>-1</td>\n",
       "      <td>-1</td>\n",
       "    </tr>\n",
       "    <tr>\n",
       "      <th>15703261</th>\n",
       "      <td>qlu30bysbp1mj150uc1m</td>\n",
       "      <td>-1</td>\n",
       "      <td>-1</td>\n",
       "      <td>-1</td>\n",
       "    </tr>\n",
       "    <tr>\n",
       "      <th>15703262</th>\n",
       "      <td>qlu30t7n6f2b1jgzexv</td>\n",
       "      <td>-1</td>\n",
       "      <td>-1</td>\n",
       "      <td>-1</td>\n",
       "    </tr>\n",
       "    <tr>\n",
       "      <th>15703263</th>\n",
       "      <td>qlu315b37v5rc273amb0</td>\n",
       "      <td>-1</td>\n",
       "      <td>-1</td>\n",
       "      <td>-1</td>\n",
       "    </tr>\n",
       "    <tr>\n",
       "      <th>15703264</th>\n",
       "      <td>qlu31nan912a53u0z62</td>\n",
       "      <td>-1</td>\n",
       "      <td>-1</td>\n",
       "      <td>-1</td>\n",
       "    </tr>\n",
       "  </tbody>\n",
       "</table>\n",
       "<p>15642953 rows × 4 columns</p>\n",
       "</div>"
      ],
      "text/plain": [
       "                                              用户id 用户出生时间  关注的作者 关注的马甲\n",
       "0                 00001D26FE991A4BC4A01325D5E222DE     -1     -1    -1\n",
       "1                 00006C3EF7F79B0F37EEFB8381505530     -1     -1    -1\n",
       "2                 0000D0E1960239E8362F6B4100D9790A     -1     -1    -1\n",
       "3         0000f55e60d5ba7b36004429b235c95096f7153d     -1     -1    -1\n",
       "4                 00014E9D5CF948B3FE6376564B23F64F     -1     -1    -1\n",
       "...                                            ...    ...    ...   ...\n",
       "15703260                      qlu2xsthqk7tp0mncpgr     -1     -1    -1\n",
       "15703261                      qlu30bysbp1mj150uc1m     -1     -1    -1\n",
       "15703262                       qlu30t7n6f2b1jgzexv     -1     -1    -1\n",
       "15703263                      qlu315b37v5rc273amb0     -1     -1    -1\n",
       "15703264                       qlu31nan912a53u0z62     -1     -1    -1\n",
       "\n",
       "[15642953 rows x 4 columns]"
      ]
     },
     "execution_count": 11,
     "metadata": {},
     "output_type": "execute_result"
    }
   ],
   "source": [
    "predict_df"
   ]
  },
  {
   "cell_type": "code",
   "execution_count": 12,
   "metadata": {},
   "outputs": [
    {
     "data": {
      "text/html": [
       "<div>\n",
       "<style scoped>\n",
       "    .dataframe tbody tr th:only-of-type {\n",
       "        vertical-align: middle;\n",
       "    }\n",
       "\n",
       "    .dataframe tbody tr th {\n",
       "        vertical-align: top;\n",
       "    }\n",
       "\n",
       "    .dataframe thead th {\n",
       "        text-align: right;\n",
       "    }\n",
       "</style>\n",
       "<table border=\"1\" class=\"dataframe\">\n",
       "  <thead>\n",
       "    <tr style=\"text-align: right;\">\n",
       "      <th></th>\n",
       "      <th>用户id</th>\n",
       "      <th>用户出生时间</th>\n",
       "      <th>关注的作者</th>\n",
       "      <th>关注的马甲</th>\n",
       "    </tr>\n",
       "  </thead>\n",
       "  <tbody>\n",
       "    <tr>\n",
       "      <th>10739</th>\n",
       "      <td>10025</td>\n",
       "      <td>1988-10-28</td>\n",
       "      <td>-1</td>\n",
       "      <td>-1</td>\n",
       "    </tr>\n",
       "    <tr>\n",
       "      <th>11009</th>\n",
       "      <td>100346</td>\n",
       "      <td>1989-0-0</td>\n",
       "      <td>-1</td>\n",
       "      <td>-1</td>\n",
       "    </tr>\n",
       "    <tr>\n",
       "      <th>11857</th>\n",
       "      <td>10065</td>\n",
       "      <td>1985-1-1</td>\n",
       "      <td>-1</td>\n",
       "      <td>-1</td>\n",
       "    </tr>\n",
       "    <tr>\n",
       "      <th>12227</th>\n",
       "      <td>100782</td>\n",
       "      <td>1988-10-0</td>\n",
       "      <td>-1</td>\n",
       "      <td>-1</td>\n",
       "    </tr>\n",
       "    <tr>\n",
       "      <th>12469</th>\n",
       "      <td>10087</td>\n",
       "      <td>1971-2-0</td>\n",
       "      <td>-1</td>\n",
       "      <td>-1</td>\n",
       "    </tr>\n",
       "    <tr>\n",
       "      <th>...</th>\n",
       "      <td>...</td>\n",
       "      <td>...</td>\n",
       "      <td>...</td>\n",
       "      <td>...</td>\n",
       "    </tr>\n",
       "    <tr>\n",
       "      <th>14637137</th>\n",
       "      <td>98608</td>\n",
       "      <td>2013-1-1</td>\n",
       "      <td>-1</td>\n",
       "      <td>-1</td>\n",
       "    </tr>\n",
       "    <tr>\n",
       "      <th>14642274</th>\n",
       "      <td>99083</td>\n",
       "      <td>1991-5-0</td>\n",
       "      <td>-1</td>\n",
       "      <td>-1</td>\n",
       "    </tr>\n",
       "    <tr>\n",
       "      <th>14643212</th>\n",
       "      <td>99274</td>\n",
       "      <td>1987-2-0</td>\n",
       "      <td>-1</td>\n",
       "      <td>-1</td>\n",
       "    </tr>\n",
       "    <tr>\n",
       "      <th>14643469</th>\n",
       "      <td>99300</td>\n",
       "      <td>1989-5-0</td>\n",
       "      <td>-1</td>\n",
       "      <td>-1</td>\n",
       "    </tr>\n",
       "    <tr>\n",
       "      <th>14643950</th>\n",
       "      <td>99450</td>\n",
       "      <td>1976-10-0</td>\n",
       "      <td>-1</td>\n",
       "      <td>-1</td>\n",
       "    </tr>\n",
       "  </tbody>\n",
       "</table>\n",
       "<p>60312 rows × 4 columns</p>\n",
       "</div>"
      ],
      "text/plain": [
       "            用户id      用户出生时间  关注的作者 关注的马甲\n",
       "10739      10025  1988-10-28     -1    -1\n",
       "11009     100346    1989-0-0     -1    -1\n",
       "11857      10065    1985-1-1     -1    -1\n",
       "12227     100782   1988-10-0     -1    -1\n",
       "12469      10087    1971-2-0     -1    -1\n",
       "...          ...         ...    ...   ...\n",
       "14637137   98608    2013-1-1     -1    -1\n",
       "14642274   99083    1991-5-0     -1    -1\n",
       "14643212   99274    1987-2-0     -1    -1\n",
       "14643469   99300    1989-5-0     -1    -1\n",
       "14643950   99450   1976-10-0     -1    -1\n",
       "\n",
       "[60312 rows x 4 columns]"
      ]
     },
     "execution_count": 12,
     "metadata": {},
     "output_type": "execute_result"
    }
   ],
   "source": [
    "train_df"
   ]
  },
  {
   "cell_type": "markdown",
   "metadata": {},
   "source": [
    "## 数据分析（可以略过）"
   ]
  },
  {
   "cell_type": "code",
   "execution_count": null,
   "metadata": {},
   "outputs": [],
   "source": [
    "temp_list = []\n",
    "for i in user_df['用户出生时间']:\n",
    "    if (not i.split(\"-\")[0]) or (int(i.split(\"-\")[0]) < 1940):\n",
    "        temp_list.append(i)\n",
    "len(temp_list)"
   ]
  },
  {
   "cell_type": "code",
   "execution_count": null,
   "metadata": {},
   "outputs": [],
   "source": [
    "#查看信息\n",
    "user_df.info()"
   ]
  },
  {
   "cell_type": "code",
   "execution_count": null,
   "metadata": {},
   "outputs": [],
   "source": [
    "user_df['用户姓名'].unique()"
   ]
  },
  {
   "cell_type": "code",
   "execution_count": null,
   "metadata": {},
   "outputs": [],
   "source": [
    "(user_df['用户姓名']==\"-1\").sum()"
   ]
  },
  {
   "cell_type": "code",
   "execution_count": null,
   "metadata": {},
   "outputs": [],
   "source": [
    "#男，女，默认，缺失 -1\n",
    "user_df['用户出生时间'].unique()"
   ]
  },
  {
   "cell_type": "code",
   "execution_count": null,
   "metadata": {},
   "outputs": [],
   "source": [
    "user_df['微信网名'].unique()"
   ]
  },
  {
   "cell_type": "code",
   "execution_count": null,
   "metadata": {},
   "outputs": [],
   "source": [
    "user_df['关注的作者'].unique()"
   ]
  },
  {
   "cell_type": "code",
   "execution_count": null,
   "metadata": {},
   "outputs": [],
   "source": [
    "(user_df['关注的作者']==\"-1\").sum()"
   ]
  },
  {
   "cell_type": "code",
   "execution_count": null,
   "metadata": {},
   "outputs": [],
   "source": [
    "temp_list = []\n",
    "for _str in user_df['关注的作者'].fillna(\"\"):\n",
    "    for _id in _str.split(\",\"):\n",
    "        temp_list.append(_id)"
   ]
  },
  {
   "cell_type": "code",
   "execution_count": null,
   "metadata": {},
   "outputs": [],
   "source": [
    "collections.Counter(temp_list)"
   ]
  },
  {
   "cell_type": "code",
   "execution_count": null,
   "metadata": {},
   "outputs": [],
   "source": []
  },
  {
   "cell_type": "code",
   "execution_count": null,
   "metadata": {},
   "outputs": [],
   "source": [
    "#查看行业信息\n",
    "user_df['关注的马甲'].unique()"
   ]
  },
  {
   "cell_type": "code",
   "execution_count": null,
   "metadata": {},
   "outputs": [],
   "source": [
    "(user_df['关注的马甲']==\"-1\").sum()"
   ]
  },
  {
   "cell_type": "code",
   "execution_count": null,
   "metadata": {},
   "outputs": [],
   "source": []
  },
  {
   "cell_type": "code",
   "execution_count": null,
   "metadata": {},
   "outputs": [],
   "source": [
    "user_df[\"文章频道\"].unique()"
   ]
  },
  {
   "cell_type": "code",
   "execution_count": null,
   "metadata": {},
   "outputs": [],
   "source": [
    "temp_list = []\n",
    "for _str in user_df[\"文章频道\"].fillna(\"\"):\n",
    "    for v in _str.split(\",\"):\n",
    "        temp_list.append(v)\n",
    "collections.Counter(temp_list)"
   ]
  },
  {
   "cell_type": "code",
   "execution_count": null,
   "metadata": {},
   "outputs": [],
   "source": [
    "temp_list = []\n",
    "for _str in user_df[\"文章类型\"].fillna(\"\"):\n",
    "    for v in _str.split(\",\"):\n",
    "        temp_list.append(v)\n",
    "collections.Counter(temp_list)"
   ]
  },
  {
   "cell_type": "code",
   "execution_count": null,
   "metadata": {},
   "outputs": [],
   "source": [
    "user_df.fillna(\"\",inplace=True)"
   ]
  },
  {
   "cell_type": "code",
   "execution_count": null,
   "metadata": {},
   "outputs": [],
   "source": [
    "user_df[\"关注的作者\"]\n",
    "user_df[\"关注的马甲\"]\n",
    "user_df[\"文章频道\"]\n",
    "user_df[\"浏览文章时间\"]\n",
    "user_df[\"文章类型\"]\n",
    "user_df[\"文章图片数量\"]\n",
    "user_df[\"文章字数\"]"
   ]
  },
  {
   "cell_type": "code",
   "execution_count": null,
   "metadata": {},
   "outputs": [],
   "source": [
    "user_df"
   ]
  },
  {
   "cell_type": "code",
   "execution_count": null,
   "metadata": {},
   "outputs": [],
   "source": [
    "user_df[\"文章字数\"][0]"
   ]
  },
  {
   "cell_type": "code",
   "execution_count": 145,
   "metadata": {},
   "outputs": [
    {
     "data": {
      "text/plain": [
       "0                   [8, 11, 16, 9, 19, 8, 18, 17, 14, 21]\n",
       "1               [8, 11, 8, 13, 8, 23, 11, 20, 18, 15, 12]\n",
       "2                                [18, 18, 18, 18, 18, 18]\n",
       "3       [23, 22, 23, 12, 19, 6, 19, 18, 8, 6, 7, 13, 1...\n",
       "4                               [18, 21, 8, 9, 21, 21, 8]\n",
       "                              ...                        \n",
       "2211                                                 [10]\n",
       "2212                     [14, 14, 14, 16, 19, 14, 14, 14]\n",
       "2213                                      [9, 9, 9, 9, 9]\n",
       "2214                                         [13, 13, 13]\n",
       "2215                                         [12, 10, 10]\n",
       "Name: 浏览文章时间, Length: 2216, dtype: object"
      ]
     },
     "execution_count": 145,
     "metadata": {},
     "output_type": "execute_result"
    }
   ],
   "source": [
    "def temp_function(time_str):\n",
    "    if not time_str:\n",
    "        return \"\"\n",
    "    time_str_split = time_str.split(\",\")\n",
    "    hour_list = []\n",
    "    for _time in time_str_split:\n",
    "        hour_list.append(datetime.datetime.strptime(_time, '%Y-%m-%d %H:%M:%S').hour)\n",
    "    return hour_list\n",
    "user_df[\"浏览文章时间\"] = user_df[\"浏览文章时间\"].apply(lambda x : temp_function(x))"
   ]
  },
  {
   "cell_type": "code",
   "execution_count": null,
   "metadata": {},
   "outputs": [],
   "source": [
    "user_df.info()"
   ]
  },
  {
   "cell_type": "markdown",
   "metadata": {},
   "source": [
    "# 模型训练"
   ]
  },
  {
   "cell_type": "code",
   "execution_count": 11,
   "metadata": {},
   "outputs": [
    {
     "name": "stderr",
     "output_type": "stream",
     "text": [
      "/home/zhaodachuan/anaconda3/lib/python3.7/site-packages/ipykernel_launcher.py:7: SettingWithCopyWarning: \n",
      "A value is trying to be set on a copy of a slice from a DataFrame.\n",
      "Try using .loc[row_indexer,col_indexer] = value instead\n",
      "\n",
      "See the caveats in the documentation: https://pandas.pydata.org/pandas-docs/stable/user_guide/indexing.html#returning-a-view-versus-a-copy\n",
      "  import sys\n"
     ]
    }
   ],
   "source": [
    "#训练数据\n",
    "multi_hot_column_odict = collections.OrderedDict()\n",
    "multi_hot_column_set = set([v for v in use_column_list if v != y_col and v!=\"用户id\"])\n",
    "for i,column in enumerate(multi_hot_column_set):\n",
    "    multi_hot_column_odict[column] = sklearn.preprocessing.MultiLabelBinarizer()\n",
    "    split_column_list = [item.split(\",\") if isinstance(item,str) else str(item) for item in train_df[column]]\n",
    "    train_df[column] = multi_hot_column_odict[column].fit_transform(split_column_list).tolist()"
   ]
  },
  {
   "cell_type": "code",
   "execution_count": 12,
   "metadata": {},
   "outputs": [
    {
     "data": {
      "text/plain": [
       "array(['1988-10-28', '1989-0-0', '1985-1-1', ..., '1976-10-29',\n",
       "       '1979-3-0', '1978-8-23'], dtype=object)"
      ]
     },
     "execution_count": 12,
     "metadata": {},
     "output_type": "execute_result"
    }
   ],
   "source": [
    "train_df[y_col].unique()"
   ]
  },
  {
   "cell_type": "code",
   "execution_count": 13,
   "metadata": {},
   "outputs": [
    {
     "data": {
      "text/html": [
       "<div>\n",
       "<style scoped>\n",
       "    .dataframe tbody tr th:only-of-type {\n",
       "        vertical-align: middle;\n",
       "    }\n",
       "\n",
       "    .dataframe tbody tr th {\n",
       "        vertical-align: top;\n",
       "    }\n",
       "\n",
       "    .dataframe thead th {\n",
       "        text-align: right;\n",
       "    }\n",
       "</style>\n",
       "<table border=\"1\" class=\"dataframe\">\n",
       "  <thead>\n",
       "    <tr style=\"text-align: right;\">\n",
       "      <th></th>\n",
       "      <th>用户id</th>\n",
       "      <th>用户出生时间</th>\n",
       "      <th>关注的作者</th>\n",
       "      <th>关注的马甲</th>\n",
       "    </tr>\n",
       "  </thead>\n",
       "  <tbody>\n",
       "    <tr>\n",
       "      <th>10739</th>\n",
       "      <td>10025</td>\n",
       "      <td>1988-10-28</td>\n",
       "      <td>[1, 0, 1, 0, 0, 0, 0, 0, 0, 0, 0]</td>\n",
       "      <td>[0, 1, 0, 0, 0, 0, 0, 0, 0, 0, 0, 0, 0, 0, 0, ...</td>\n",
       "    </tr>\n",
       "    <tr>\n",
       "      <th>11009</th>\n",
       "      <td>100346</td>\n",
       "      <td>1989-0-0</td>\n",
       "      <td>[1, 0, 1, 0, 0, 0, 0, 0, 0, 0, 0]</td>\n",
       "      <td>[0, 1, 0, 0, 0, 0, 0, 0, 0, 0, 0, 0, 0, 0, 0, ...</td>\n",
       "    </tr>\n",
       "    <tr>\n",
       "      <th>11857</th>\n",
       "      <td>10065</td>\n",
       "      <td>1985-1-1</td>\n",
       "      <td>[1, 0, 1, 0, 0, 0, 0, 0, 0, 0, 0]</td>\n",
       "      <td>[0, 1, 0, 0, 0, 0, 0, 0, 0, 0, 0, 0, 0, 0, 0, ...</td>\n",
       "    </tr>\n",
       "    <tr>\n",
       "      <th>12227</th>\n",
       "      <td>100782</td>\n",
       "      <td>1988-10-0</td>\n",
       "      <td>[1, 0, 1, 0, 0, 0, 0, 0, 0, 0, 0]</td>\n",
       "      <td>[0, 1, 0, 0, 0, 0, 0, 0, 0, 0, 0, 0, 0, 0, 0, ...</td>\n",
       "    </tr>\n",
       "    <tr>\n",
       "      <th>12469</th>\n",
       "      <td>10087</td>\n",
       "      <td>1971-2-0</td>\n",
       "      <td>[1, 0, 1, 0, 0, 0, 0, 0, 0, 0, 0]</td>\n",
       "      <td>[0, 1, 0, 0, 0, 0, 0, 0, 0, 0, 0, 0, 0, 0, 0, ...</td>\n",
       "    </tr>\n",
       "    <tr>\n",
       "      <th>...</th>\n",
       "      <td>...</td>\n",
       "      <td>...</td>\n",
       "      <td>...</td>\n",
       "      <td>...</td>\n",
       "    </tr>\n",
       "    <tr>\n",
       "      <th>14637137</th>\n",
       "      <td>98608</td>\n",
       "      <td>2013-1-1</td>\n",
       "      <td>[1, 0, 1, 0, 0, 0, 0, 0, 0, 0, 0]</td>\n",
       "      <td>[1, 0, 1, 0, 0, 0, 0, 0, 0, 0, 0, 0, 0, 0, 0, ...</td>\n",
       "    </tr>\n",
       "    <tr>\n",
       "      <th>14642274</th>\n",
       "      <td>99083</td>\n",
       "      <td>1991-5-0</td>\n",
       "      <td>[1, 0, 1, 0, 0, 0, 0, 0, 0, 0, 0]</td>\n",
       "      <td>[1, 0, 1, 0, 0, 0, 0, 0, 0, 0, 0, 0, 0, 0, 0, ...</td>\n",
       "    </tr>\n",
       "    <tr>\n",
       "      <th>14643212</th>\n",
       "      <td>99274</td>\n",
       "      <td>1987-2-0</td>\n",
       "      <td>[1, 0, 1, 0, 0, 0, 0, 0, 0, 0, 0]</td>\n",
       "      <td>[1, 0, 1, 0, 0, 0, 0, 0, 0, 0, 0, 0, 0, 0, 0, ...</td>\n",
       "    </tr>\n",
       "    <tr>\n",
       "      <th>14643469</th>\n",
       "      <td>99300</td>\n",
       "      <td>1989-5-0</td>\n",
       "      <td>[1, 0, 1, 0, 0, 0, 0, 0, 0, 0, 0]</td>\n",
       "      <td>[1, 0, 1, 0, 0, 0, 0, 0, 0, 0, 0, 0, 0, 0, 0, ...</td>\n",
       "    </tr>\n",
       "    <tr>\n",
       "      <th>14643950</th>\n",
       "      <td>99450</td>\n",
       "      <td>1976-10-0</td>\n",
       "      <td>[1, 0, 1, 0, 0, 0, 0, 0, 0, 0, 0]</td>\n",
       "      <td>[1, 0, 1, 0, 0, 0, 0, 0, 0, 0, 0, 0, 0, 0, 0, ...</td>\n",
       "    </tr>\n",
       "  </tbody>\n",
       "</table>\n",
       "<p>60312 rows × 4 columns</p>\n",
       "</div>"
      ],
      "text/plain": [
       "            用户id      用户出生时间                              关注的作者  \\\n",
       "10739      10025  1988-10-28  [1, 0, 1, 0, 0, 0, 0, 0, 0, 0, 0]   \n",
       "11009     100346    1989-0-0  [1, 0, 1, 0, 0, 0, 0, 0, 0, 0, 0]   \n",
       "11857      10065    1985-1-1  [1, 0, 1, 0, 0, 0, 0, 0, 0, 0, 0]   \n",
       "12227     100782   1988-10-0  [1, 0, 1, 0, 0, 0, 0, 0, 0, 0, 0]   \n",
       "12469      10087    1971-2-0  [1, 0, 1, 0, 0, 0, 0, 0, 0, 0, 0]   \n",
       "...          ...         ...                                ...   \n",
       "14637137   98608    2013-1-1  [1, 0, 1, 0, 0, 0, 0, 0, 0, 0, 0]   \n",
       "14642274   99083    1991-5-0  [1, 0, 1, 0, 0, 0, 0, 0, 0, 0, 0]   \n",
       "14643212   99274    1987-2-0  [1, 0, 1, 0, 0, 0, 0, 0, 0, 0, 0]   \n",
       "14643469   99300    1989-5-0  [1, 0, 1, 0, 0, 0, 0, 0, 0, 0, 0]   \n",
       "14643950   99450   1976-10-0  [1, 0, 1, 0, 0, 0, 0, 0, 0, 0, 0]   \n",
       "\n",
       "                                                      关注的马甲  \n",
       "10739     [0, 1, 0, 0, 0, 0, 0, 0, 0, 0, 0, 0, 0, 0, 0, ...  \n",
       "11009     [0, 1, 0, 0, 0, 0, 0, 0, 0, 0, 0, 0, 0, 0, 0, ...  \n",
       "11857     [0, 1, 0, 0, 0, 0, 0, 0, 0, 0, 0, 0, 0, 0, 0, ...  \n",
       "12227     [0, 1, 0, 0, 0, 0, 0, 0, 0, 0, 0, 0, 0, 0, 0, ...  \n",
       "12469     [0, 1, 0, 0, 0, 0, 0, 0, 0, 0, 0, 0, 0, 0, 0, ...  \n",
       "...                                                     ...  \n",
       "14637137  [1, 0, 1, 0, 0, 0, 0, 0, 0, 0, 0, 0, 0, 0, 0, ...  \n",
       "14642274  [1, 0, 1, 0, 0, 0, 0, 0, 0, 0, 0, 0, 0, 0, 0, ...  \n",
       "14643212  [1, 0, 1, 0, 0, 0, 0, 0, 0, 0, 0, 0, 0, 0, 0, ...  \n",
       "14643469  [1, 0, 1, 0, 0, 0, 0, 0, 0, 0, 0, 0, 0, 0, 0, ...  \n",
       "14643950  [1, 0, 1, 0, 0, 0, 0, 0, 0, 0, 0, 0, 0, 0, 0, ...  \n",
       "\n",
       "[60312 rows x 4 columns]"
      ]
     },
     "execution_count": 13,
     "metadata": {},
     "output_type": "execute_result"
    }
   ],
   "source": [
    "train_df"
   ]
  },
  {
   "cell_type": "code",
   "execution_count": 14,
   "metadata": {},
   "outputs": [
    {
     "name": "stderr",
     "output_type": "stream",
     "text": [
      "/home/zhaodachuan/anaconda3/lib/python3.7/site-packages/ipykernel_launcher.py:20: SettingWithCopyWarning: \n",
      "A value is trying to be set on a copy of a slice from a DataFrame.\n",
      "Try using .loc[row_indexer,col_indexer] = value instead\n",
      "\n",
      "See the caveats in the documentation: https://pandas.pydata.org/pandas-docs/stable/user_guide/indexing.html#returning-a-view-versus-a-copy\n"
     ]
    }
   ],
   "source": [
    "def temp_function(x):\n",
    "    x = datetime.datetime.now().year - int(x.split(\"-\")[0])\n",
    "    y = 0\n",
    "    if x < 20:\n",
    "        y = \"~20\"\n",
    "    elif x<25:\n",
    "        y = \"21~25\"\n",
    "    elif x<29:\n",
    "        y = \"26~29\"\n",
    "    elif x<35:\n",
    "        y = \"30~35\"\n",
    "    elif x<45:\n",
    "        y = \"36~45\"\n",
    "    elif x<50:\n",
    "        y = \"46~50\"\n",
    "    else:\n",
    "        y = \"50~\"\n",
    "    return y    \n",
    "\n",
    "train_df[y_col] = train_df[y_col].apply(lambda x : temp_function(x))"
   ]
  },
  {
   "cell_type": "code",
   "execution_count": 15,
   "metadata": {},
   "outputs": [
    {
     "data": {
      "text/plain": [
       "array(['30~35', '36~45', '46~50', '~20', '26~29', '21~25', '50~'],\n",
       "      dtype=object)"
      ]
     },
     "execution_count": 15,
     "metadata": {},
     "output_type": "execute_result"
    }
   ],
   "source": [
    "train_df[y_col].unique()"
   ]
  },
  {
   "cell_type": "code",
   "execution_count": 16,
   "metadata": {},
   "outputs": [
    {
     "name": "stdout",
     "output_type": "stream",
     "text": [
      "CPU times: user 309 ms, sys: 3.06 ms, total: 312 ms\n",
      "Wall time: 459 ms\n"
     ]
    },
    {
     "name": "stderr",
     "output_type": "stream",
     "text": [
      "/home/zhaodachuan/anaconda3/lib/python3.7/site-packages/ipykernel_launcher.py:3: SettingWithCopyWarning: \n",
      "A value is trying to be set on a copy of a slice from a DataFrame.\n",
      "Try using .loc[row_indexer,col_indexer] = value instead\n",
      "\n",
      "See the caveats in the documentation: https://pandas.pydata.org/pandas-docs/stable/user_guide/indexing.html#returning-a-view-versus-a-copy\n",
      "  This is separate from the ipykernel package so we can avoid doing imports until\n"
     ]
    }
   ],
   "source": [
    "%%time\n",
    "y_onehot = sklearn.preprocessing.LabelBinarizer()\n",
    "y_onehot.fit(train_df[y_col])\n",
    "train_df[y_col] = y_onehot.transform(train_df[y_col]).tolist()"
   ]
  },
  {
   "cell_type": "code",
   "execution_count": 17,
   "metadata": {},
   "outputs": [
    {
     "data": {
      "text/plain": [
       "10739       [0, 0, 1, 0, 0, 0, 0]\n",
       "11009       [0, 0, 1, 0, 0, 0, 0]\n",
       "11857       [0, 0, 0, 1, 0, 0, 0]\n",
       "12227       [0, 0, 1, 0, 0, 0, 0]\n",
       "12469       [0, 0, 0, 0, 1, 0, 0]\n",
       "                    ...          \n",
       "14637137    [0, 0, 0, 0, 0, 0, 1]\n",
       "14642274    [0, 0, 1, 0, 0, 0, 0]\n",
       "14643212    [0, 0, 1, 0, 0, 0, 0]\n",
       "14643469    [0, 0, 1, 0, 0, 0, 0]\n",
       "14643950    [0, 0, 0, 1, 0, 0, 0]\n",
       "Name: 用户出生时间, Length: 60312, dtype: object"
      ]
     },
     "execution_count": 17,
     "metadata": {},
     "output_type": "execute_result"
    }
   ],
   "source": [
    "train_df[y_col]"
   ]
  },
  {
   "cell_type": "code",
   "execution_count": 22,
   "metadata": {},
   "outputs": [
    {
     "name": "stdout",
     "output_type": "stream",
     "text": [
      "关注的马甲 1676\n",
      "关注的作者 11\n"
     ]
    }
   ],
   "source": [
    "for k,v in multi_hot_column_odict.items():\n",
    "    print(k,len(v.classes_))"
   ]
  },
  {
   "cell_type": "code",
   "execution_count": null,
   "metadata": {},
   "outputs": [],
   "source": []
  },
  {
   "cell_type": "code",
   "execution_count": 24,
   "metadata": {},
   "outputs": [
    {
     "name": "stdout",
     "output_type": "stream",
     "text": [
      "38599 train examples\n",
      "9650 validation examples\n",
      "12063 test examples\n"
     ]
    }
   ],
   "source": [
    "train, test = sklearn.model_selection.train_test_split(train_df, test_size=0.2)\n",
    "train, val = sklearn.model_selection.train_test_split(train, test_size=0.2)\n",
    "print(len(train), 'train examples')\n",
    "print(len(val), 'validation examples')\n",
    "print(len(test), 'test examples')"
   ]
  },
  {
   "cell_type": "code",
   "execution_count": null,
   "metadata": {},
   "outputs": [],
   "source": []
  },
  {
   "cell_type": "code",
   "execution_count": 25,
   "metadata": {},
   "outputs": [],
   "source": [
    "def generate_xy(data_df, y_col, multi_hot_column_odict, shuffle=True):\n",
    "    \"\"\"\"\"\"\n",
    "    x_df = data_df.copy()\n",
    "    x_list = []\n",
    "    y_list = []\n",
    "    for index in x_df.index:\n",
    "        temp_x_list = np.concatenate(x_df.loc[index,[column for column in multi_hot_column_odict]]).tolist()\n",
    "        temp_y_list = x_df.loc[index,y_col]\n",
    "        x_list.append(temp_x_list)\n",
    "        y_list.append(temp_y_list)\n",
    "    return np.array(x_list,dtype=np.float32), np.array(y_list,dtype=np.int32)"
   ]
  },
  {
   "cell_type": "code",
   "execution_count": 26,
   "metadata": {},
   "outputs": [
    {
     "name": "stdout",
     "output_type": "stream",
     "text": [
      "CPU times: user 57.6 s, sys: 322 ms, total: 58 s\n",
      "Wall time: 56.9 s\n"
     ]
    }
   ],
   "source": [
    "%%time\n",
    "x_train,y_train = generate_xy(train,y_col,multi_hot_column_odict)\n",
    "x_valid,y_valid = generate_xy(val,y_col,multi_hot_column_odict)\n",
    "x_test,y_test = generate_xy(test,y_col,multi_hot_column_odict)"
   ]
  },
  {
   "cell_type": "code",
   "execution_count": 28,
   "metadata": {},
   "outputs": [
    {
     "data": {
      "text/plain": [
       "1687"
      ]
     },
     "execution_count": 28,
     "metadata": {},
     "output_type": "execute_result"
    }
   ],
   "source": [
    "input_dim = 0\n",
    "for k,v in  multi_hot_column_odict.items():\n",
    "    input_dim += len(v.classes_)\n",
    "input_dim"
   ]
  },
  {
   "cell_type": "code",
   "execution_count": 29,
   "metadata": {},
   "outputs": [
    {
     "data": {
      "text/plain": [
       "7"
      ]
     },
     "execution_count": 29,
     "metadata": {},
     "output_type": "execute_result"
    }
   ],
   "source": [
    "y_dim = len(y_onehot.classes_)\n",
    "y_dim"
   ]
  },
  {
   "cell_type": "code",
   "execution_count": 43,
   "metadata": {},
   "outputs": [],
   "source": [
    "model = tf.keras.models.Sequential()\n",
    "model.add(tf.keras.layers.Input(shape=(input_dim,)))\n",
    "model.add(tf.keras.layers.Dense(y_dim, activation='softmax',use_bias=True,\n",
    "                                #kernel_regularizer=tf.keras.regularizers.l1(0.01)\n",
    "                               ))\n",
    "\n",
    "model.compile(optimizer=tf.keras.optimizers.Adam(learning_rate=1e-3),\n",
    "              loss=tf.keras.losses.CategoricalCrossentropy(), \n",
    "              metrics=[tf.keras.metrics.CategoricalAccuracy()])"
   ]
  },
  {
   "cell_type": "code",
   "execution_count": 44,
   "metadata": {},
   "outputs": [
    {
     "name": "stdout",
     "output_type": "stream",
     "text": [
      "Model: \"sequential_4\"\n",
      "_________________________________________________________________\n",
      "Layer (type)                 Output Shape              Param #   \n",
      "=================================================================\n",
      "dense_4 (Dense)              (None, 7)                 11816     \n",
      "=================================================================\n",
      "Total params: 11,816\n",
      "Trainable params: 11,816\n",
      "Non-trainable params: 0\n",
      "_________________________________________________________________\n"
     ]
    }
   ],
   "source": [
    "model.summary()"
   ]
  },
  {
   "cell_type": "code",
   "execution_count": null,
   "metadata": {},
   "outputs": [],
   "source": []
  },
  {
   "cell_type": "code",
   "execution_count": 50,
   "metadata": {},
   "outputs": [
    {
     "name": "stdout",
     "output_type": "stream",
     "text": [
      "Epoch 1/15\n",
      "604/604 [==============================] - 1s 1ms/step - loss: 1.1670 - categorical_accuracy: 0.5262 - val_loss: 1.2555 - val_categorical_accuracy: 0.5115\n",
      "Epoch 2/15\n",
      "604/604 [==============================] - 1s 1ms/step - loss: 1.1665 - categorical_accuracy: 0.5267 - val_loss: 1.2570 - val_categorical_accuracy: 0.5107\n",
      "Epoch 3/15\n",
      "604/604 [==============================] - 1s 1ms/step - loss: 1.1661 - categorical_accuracy: 0.5265 - val_loss: 1.2578 - val_categorical_accuracy: 0.5113\n",
      "Epoch 4/15\n",
      "604/604 [==============================] - 1s 1ms/step - loss: 1.1657 - categorical_accuracy: 0.5267 - val_loss: 1.2591 - val_categorical_accuracy: 0.5108\n",
      "Epoch 5/15\n",
      "604/604 [==============================] - 1s 1ms/step - loss: 1.1654 - categorical_accuracy: 0.5264 - val_loss: 1.2603 - val_categorical_accuracy: 0.5106\n",
      "Epoch 6/15\n",
      "604/604 [==============================] - 1s 1ms/step - loss: 1.1650 - categorical_accuracy: 0.5269 - val_loss: 1.2614 - val_categorical_accuracy: 0.5105\n",
      "Epoch 7/15\n",
      "604/604 [==============================] - 1s 1ms/step - loss: 1.1647 - categorical_accuracy: 0.5272 - val_loss: 1.2627 - val_categorical_accuracy: 0.5103\n",
      "Epoch 8/15\n",
      "604/604 [==============================] - 1s 1ms/step - loss: 1.1643 - categorical_accuracy: 0.5267 - val_loss: 1.2642 - val_categorical_accuracy: 0.5114\n",
      "Epoch 9/15\n",
      "604/604 [==============================] - 1s 1ms/step - loss: 1.1639 - categorical_accuracy: 0.5270 - val_loss: 1.2645 - val_categorical_accuracy: 0.5113\n",
      "Epoch 10/15\n",
      "604/604 [==============================] - 1s 1ms/step - loss: 1.1636 - categorical_accuracy: 0.5269 - val_loss: 1.2662 - val_categorical_accuracy: 0.5108\n",
      "Epoch 11/15\n",
      "604/604 [==============================] - 1s 1ms/step - loss: 1.1633 - categorical_accuracy: 0.5265 - val_loss: 1.2671 - val_categorical_accuracy: 0.5110\n",
      "Epoch 12/15\n",
      "604/604 [==============================] - 1s 1ms/step - loss: 1.1630 - categorical_accuracy: 0.5267 - val_loss: 1.2680 - val_categorical_accuracy: 0.5115\n",
      "Epoch 13/15\n",
      "604/604 [==============================] - 1s 1ms/step - loss: 1.1627 - categorical_accuracy: 0.5267 - val_loss: 1.2697 - val_categorical_accuracy: 0.5099\n",
      "Epoch 14/15\n",
      "604/604 [==============================] - 1s 1ms/step - loss: 1.1626 - categorical_accuracy: 0.5264 - val_loss: 1.2709 - val_categorical_accuracy: 0.5116\n",
      "Epoch 15/15\n",
      "604/604 [==============================] - 1s 1ms/step - loss: 1.1621 - categorical_accuracy: 0.5265 - val_loss: 1.2723 - val_categorical_accuracy: 0.5111\n"
     ]
    },
    {
     "data": {
      "text/plain": [
       "<tensorflow.python.keras.callbacks.History at 0x7fe4f7052710>"
      ]
     },
     "execution_count": 50,
     "metadata": {},
     "output_type": "execute_result"
    }
   ],
   "source": [
    "model.fit(x_train, \n",
    "          y_train, \n",
    "          batch_size=64,\n",
    "          epochs=15,\n",
    "         validation_data = (x_valid,y_valid))"
   ]
  },
  {
   "cell_type": "code",
   "execution_count": 51,
   "metadata": {},
   "outputs": [
    {
     "name": "stdout",
     "output_type": "stream",
     "text": [
      "377/377 [==============================] - 0s 775us/step - loss: 1.3063 - categorical_accuracy: 0.5080\n"
     ]
    },
    {
     "data": {
      "text/plain": [
       "[1.306262493133545, 0.5079996585845947]"
      ]
     },
     "execution_count": 51,
     "metadata": {},
     "output_type": "execute_result"
    }
   ],
   "source": [
    "model.evaluate(x_test,y_test)"
   ]
  },
  {
   "cell_type": "code",
   "execution_count": 54,
   "metadata": {},
   "outputs": [
    {
     "name": "stdout",
     "output_type": "stream",
     "text": [
      "WARNING:tensorflow:From /home/zhaodachuan/anaconda3/lib/python3.7/site-packages/tensorflow/python/training/tracking/tracking.py:111: Model.state_updates (from tensorflow.python.keras.engine.training) is deprecated and will be removed in a future version.\n",
      "Instructions for updating:\n",
      "This property should not be used in TensorFlow 2.0, as updates are applied automatically.\n",
      "WARNING:tensorflow:From /home/zhaodachuan/anaconda3/lib/python3.7/site-packages/tensorflow/python/training/tracking/tracking.py:111: Layer.updates (from tensorflow.python.keras.engine.base_layer) is deprecated and will be removed in a future version.\n",
      "Instructions for updating:\n",
      "This property should not be used in TensorFlow 2.0, as updates are applied automatically.\n",
      "INFO:tensorflow:Assets written to: model_output/assets\n"
     ]
    }
   ],
   "source": [
    "#保存模型\n",
    "with open(\"multi_hot_column_odict.pkl\",\"wb\") as f:\n",
    "    pickle.dump(multi_hot_column_odict,f)\n",
    "with open(\"y_onehot.pkl\",\"wb\") as f:\n",
    "    pickle.dump(y_onehot,f)\n",
    "model.save(\"model_output\")"
   ]
  },
  {
   "cell_type": "code",
   "execution_count": 55,
   "metadata": {},
   "outputs": [
    {
     "data": {
      "text/plain": [
       "OrderedDict([('关注的马甲', MultiLabelBinarizer()),\n",
       "             ('关注的作者', MultiLabelBinarizer())])"
      ]
     },
     "execution_count": 55,
     "metadata": {},
     "output_type": "execute_result"
    }
   ],
   "source": [
    "multi_hot_column_odict"
   ]
  },
  {
   "cell_type": "code",
   "execution_count": 56,
   "metadata": {},
   "outputs": [
    {
     "data": {
      "text/html": [
       "<div>\n",
       "<style scoped>\n",
       "    .dataframe tbody tr th:only-of-type {\n",
       "        vertical-align: middle;\n",
       "    }\n",
       "\n",
       "    .dataframe tbody tr th {\n",
       "        vertical-align: top;\n",
       "    }\n",
       "\n",
       "    .dataframe thead th {\n",
       "        text-align: right;\n",
       "    }\n",
       "</style>\n",
       "<table border=\"1\" class=\"dataframe\">\n",
       "  <thead>\n",
       "    <tr style=\"text-align: right;\">\n",
       "      <th></th>\n",
       "      <th>用户id</th>\n",
       "      <th>用户出生时间</th>\n",
       "      <th>关注的作者</th>\n",
       "      <th>关注的马甲</th>\n",
       "    </tr>\n",
       "  </thead>\n",
       "  <tbody>\n",
       "    <tr>\n",
       "      <th>10739</th>\n",
       "      <td>10025</td>\n",
       "      <td>[0, 0, 1, 0, 0, 0, 0]</td>\n",
       "      <td>[1, 0, 1, 0, 0, 0, 0, 0, 0, 0, 0]</td>\n",
       "      <td>[0, 1, 0, 0, 0, 0, 0, 0, 0, 0, 0, 0, 0, 0, 0, ...</td>\n",
       "    </tr>\n",
       "    <tr>\n",
       "      <th>11009</th>\n",
       "      <td>100346</td>\n",
       "      <td>[0, 0, 1, 0, 0, 0, 0]</td>\n",
       "      <td>[1, 0, 1, 0, 0, 0, 0, 0, 0, 0, 0]</td>\n",
       "      <td>[0, 1, 0, 0, 0, 0, 0, 0, 0, 0, 0, 0, 0, 0, 0, ...</td>\n",
       "    </tr>\n",
       "    <tr>\n",
       "      <th>11857</th>\n",
       "      <td>10065</td>\n",
       "      <td>[0, 0, 0, 1, 0, 0, 0]</td>\n",
       "      <td>[1, 0, 1, 0, 0, 0, 0, 0, 0, 0, 0]</td>\n",
       "      <td>[0, 1, 0, 0, 0, 0, 0, 0, 0, 0, 0, 0, 0, 0, 0, ...</td>\n",
       "    </tr>\n",
       "    <tr>\n",
       "      <th>12227</th>\n",
       "      <td>100782</td>\n",
       "      <td>[0, 0, 1, 0, 0, 0, 0]</td>\n",
       "      <td>[1, 0, 1, 0, 0, 0, 0, 0, 0, 0, 0]</td>\n",
       "      <td>[0, 1, 0, 0, 0, 0, 0, 0, 0, 0, 0, 0, 0, 0, 0, ...</td>\n",
       "    </tr>\n",
       "    <tr>\n",
       "      <th>12469</th>\n",
       "      <td>10087</td>\n",
       "      <td>[0, 0, 0, 0, 1, 0, 0]</td>\n",
       "      <td>[1, 0, 1, 0, 0, 0, 0, 0, 0, 0, 0]</td>\n",
       "      <td>[0, 1, 0, 0, 0, 0, 0, 0, 0, 0, 0, 0, 0, 0, 0, ...</td>\n",
       "    </tr>\n",
       "    <tr>\n",
       "      <th>...</th>\n",
       "      <td>...</td>\n",
       "      <td>...</td>\n",
       "      <td>...</td>\n",
       "      <td>...</td>\n",
       "    </tr>\n",
       "    <tr>\n",
       "      <th>14637137</th>\n",
       "      <td>98608</td>\n",
       "      <td>[0, 0, 0, 0, 0, 0, 1]</td>\n",
       "      <td>[1, 0, 1, 0, 0, 0, 0, 0, 0, 0, 0]</td>\n",
       "      <td>[1, 0, 1, 0, 0, 0, 0, 0, 0, 0, 0, 0, 0, 0, 0, ...</td>\n",
       "    </tr>\n",
       "    <tr>\n",
       "      <th>14642274</th>\n",
       "      <td>99083</td>\n",
       "      <td>[0, 0, 1, 0, 0, 0, 0]</td>\n",
       "      <td>[1, 0, 1, 0, 0, 0, 0, 0, 0, 0, 0]</td>\n",
       "      <td>[1, 0, 1, 0, 0, 0, 0, 0, 0, 0, 0, 0, 0, 0, 0, ...</td>\n",
       "    </tr>\n",
       "    <tr>\n",
       "      <th>14643212</th>\n",
       "      <td>99274</td>\n",
       "      <td>[0, 0, 1, 0, 0, 0, 0]</td>\n",
       "      <td>[1, 0, 1, 0, 0, 0, 0, 0, 0, 0, 0]</td>\n",
       "      <td>[1, 0, 1, 0, 0, 0, 0, 0, 0, 0, 0, 0, 0, 0, 0, ...</td>\n",
       "    </tr>\n",
       "    <tr>\n",
       "      <th>14643469</th>\n",
       "      <td>99300</td>\n",
       "      <td>[0, 0, 1, 0, 0, 0, 0]</td>\n",
       "      <td>[1, 0, 1, 0, 0, 0, 0, 0, 0, 0, 0]</td>\n",
       "      <td>[1, 0, 1, 0, 0, 0, 0, 0, 0, 0, 0, 0, 0, 0, 0, ...</td>\n",
       "    </tr>\n",
       "    <tr>\n",
       "      <th>14643950</th>\n",
       "      <td>99450</td>\n",
       "      <td>[0, 0, 0, 1, 0, 0, 0]</td>\n",
       "      <td>[1, 0, 1, 0, 0, 0, 0, 0, 0, 0, 0]</td>\n",
       "      <td>[1, 0, 1, 0, 0, 0, 0, 0, 0, 0, 0, 0, 0, 0, 0, ...</td>\n",
       "    </tr>\n",
       "  </tbody>\n",
       "</table>\n",
       "<p>60312 rows × 4 columns</p>\n",
       "</div>"
      ],
      "text/plain": [
       "            用户id                 用户出生时间                              关注的作者  \\\n",
       "10739      10025  [0, 0, 1, 0, 0, 0, 0]  [1, 0, 1, 0, 0, 0, 0, 0, 0, 0, 0]   \n",
       "11009     100346  [0, 0, 1, 0, 0, 0, 0]  [1, 0, 1, 0, 0, 0, 0, 0, 0, 0, 0]   \n",
       "11857      10065  [0, 0, 0, 1, 0, 0, 0]  [1, 0, 1, 0, 0, 0, 0, 0, 0, 0, 0]   \n",
       "12227     100782  [0, 0, 1, 0, 0, 0, 0]  [1, 0, 1, 0, 0, 0, 0, 0, 0, 0, 0]   \n",
       "12469      10087  [0, 0, 0, 0, 1, 0, 0]  [1, 0, 1, 0, 0, 0, 0, 0, 0, 0, 0]   \n",
       "...          ...                    ...                                ...   \n",
       "14637137   98608  [0, 0, 0, 0, 0, 0, 1]  [1, 0, 1, 0, 0, 0, 0, 0, 0, 0, 0]   \n",
       "14642274   99083  [0, 0, 1, 0, 0, 0, 0]  [1, 0, 1, 0, 0, 0, 0, 0, 0, 0, 0]   \n",
       "14643212   99274  [0, 0, 1, 0, 0, 0, 0]  [1, 0, 1, 0, 0, 0, 0, 0, 0, 0, 0]   \n",
       "14643469   99300  [0, 0, 1, 0, 0, 0, 0]  [1, 0, 1, 0, 0, 0, 0, 0, 0, 0, 0]   \n",
       "14643950   99450  [0, 0, 0, 1, 0, 0, 0]  [1, 0, 1, 0, 0, 0, 0, 0, 0, 0, 0]   \n",
       "\n",
       "                                                      关注的马甲  \n",
       "10739     [0, 1, 0, 0, 0, 0, 0, 0, 0, 0, 0, 0, 0, 0, 0, ...  \n",
       "11009     [0, 1, 0, 0, 0, 0, 0, 0, 0, 0, 0, 0, 0, 0, 0, ...  \n",
       "11857     [0, 1, 0, 0, 0, 0, 0, 0, 0, 0, 0, 0, 0, 0, 0, ...  \n",
       "12227     [0, 1, 0, 0, 0, 0, 0, 0, 0, 0, 0, 0, 0, 0, 0, ...  \n",
       "12469     [0, 1, 0, 0, 0, 0, 0, 0, 0, 0, 0, 0, 0, 0, 0, ...  \n",
       "...                                                     ...  \n",
       "14637137  [1, 0, 1, 0, 0, 0, 0, 0, 0, 0, 0, 0, 0, 0, 0, ...  \n",
       "14642274  [1, 0, 1, 0, 0, 0, 0, 0, 0, 0, 0, 0, 0, 0, 0, ...  \n",
       "14643212  [1, 0, 1, 0, 0, 0, 0, 0, 0, 0, 0, 0, 0, 0, 0, ...  \n",
       "14643469  [1, 0, 1, 0, 0, 0, 0, 0, 0, 0, 0, 0, 0, 0, 0, ...  \n",
       "14643950  [1, 0, 1, 0, 0, 0, 0, 0, 0, 0, 0, 0, 0, 0, 0, ...  \n",
       "\n",
       "[60312 rows x 4 columns]"
      ]
     },
     "execution_count": 56,
     "metadata": {},
     "output_type": "execute_result"
    }
   ],
   "source": [
    "train_df"
   ]
  },
  {
   "cell_type": "code",
   "execution_count": 23,
   "metadata": {},
   "outputs": [],
   "source": [
    "import happybase\n",
    "pool = happybase.ConnectionPool(size=100, host=\"47.110.125.69\", port=9090, timeout=None,\n",
    "                                protocol='binary'\n",
    "                                )\n",
    "with pool.connection() as conn:\n",
    "    table = conn.table(\"feature_center:user_profile\")\n",
    "    with table.batch(batch_size=400) as batch:\n",
    "        for i,index in enumerate(train_df.index):\n",
    "            batch.put(str(train_df.loc[index,\"用户id\"]).encode(), {\"attribute:input_age\".encode(): y_onehot.inverse_transform(np.array([train_df.loc[index,y_col]]))[0].encode()})\n",
    "            #print(str(train_df.loc[index,\"用户id\"]).encode(),{\"attribute:input_age\".encode(): y_onehot.inverse_transform(np.array([train_df.loc[index,\"用户出生时间\"]]))[0].encode()})\n",
    "            #break"
   ]
  },
  {
   "cell_type": "code",
   "execution_count": 21,
   "metadata": {},
   "outputs": [],
   "source": []
  },
  {
   "cell_type": "code",
   "execution_count": 19,
   "metadata": {},
   "outputs": [
    {
     "data": {
      "text/html": [
       "<div>\n",
       "<style scoped>\n",
       "    .dataframe tbody tr th:only-of-type {\n",
       "        vertical-align: middle;\n",
       "    }\n",
       "\n",
       "    .dataframe tbody tr th {\n",
       "        vertical-align: top;\n",
       "    }\n",
       "\n",
       "    .dataframe thead th {\n",
       "        text-align: right;\n",
       "    }\n",
       "</style>\n",
       "<table border=\"1\" class=\"dataframe\">\n",
       "  <thead>\n",
       "    <tr style=\"text-align: right;\">\n",
       "      <th></th>\n",
       "      <th>用户id</th>\n",
       "      <th>用户出生时间</th>\n",
       "      <th>关注的作者</th>\n",
       "      <th>关注的马甲</th>\n",
       "    </tr>\n",
       "  </thead>\n",
       "  <tbody>\n",
       "    <tr>\n",
       "      <th>10739</th>\n",
       "      <td>10025</td>\n",
       "      <td>[0, 0, 1, 0, 0, 0, 0]</td>\n",
       "      <td>-1</td>\n",
       "      <td>-1</td>\n",
       "    </tr>\n",
       "    <tr>\n",
       "      <th>11009</th>\n",
       "      <td>100346</td>\n",
       "      <td>[0, 0, 1, 0, 0, 0, 0]</td>\n",
       "      <td>-1</td>\n",
       "      <td>-1</td>\n",
       "    </tr>\n",
       "    <tr>\n",
       "      <th>11857</th>\n",
       "      <td>10065</td>\n",
       "      <td>[0, 0, 0, 1, 0, 0, 0]</td>\n",
       "      <td>-1</td>\n",
       "      <td>-1</td>\n",
       "    </tr>\n",
       "    <tr>\n",
       "      <th>12227</th>\n",
       "      <td>100782</td>\n",
       "      <td>[0, 0, 1, 0, 0, 0, 0]</td>\n",
       "      <td>-1</td>\n",
       "      <td>-1</td>\n",
       "    </tr>\n",
       "    <tr>\n",
       "      <th>12469</th>\n",
       "      <td>10087</td>\n",
       "      <td>[0, 0, 0, 0, 1, 0, 0]</td>\n",
       "      <td>-1</td>\n",
       "      <td>-1</td>\n",
       "    </tr>\n",
       "    <tr>\n",
       "      <th>...</th>\n",
       "      <td>...</td>\n",
       "      <td>...</td>\n",
       "      <td>...</td>\n",
       "      <td>...</td>\n",
       "    </tr>\n",
       "    <tr>\n",
       "      <th>14637137</th>\n",
       "      <td>98608</td>\n",
       "      <td>[0, 0, 0, 0, 0, 0, 1]</td>\n",
       "      <td>-1</td>\n",
       "      <td>-1</td>\n",
       "    </tr>\n",
       "    <tr>\n",
       "      <th>14642274</th>\n",
       "      <td>99083</td>\n",
       "      <td>[0, 0, 1, 0, 0, 0, 0]</td>\n",
       "      <td>-1</td>\n",
       "      <td>-1</td>\n",
       "    </tr>\n",
       "    <tr>\n",
       "      <th>14643212</th>\n",
       "      <td>99274</td>\n",
       "      <td>[0, 0, 1, 0, 0, 0, 0]</td>\n",
       "      <td>-1</td>\n",
       "      <td>-1</td>\n",
       "    </tr>\n",
       "    <tr>\n",
       "      <th>14643469</th>\n",
       "      <td>99300</td>\n",
       "      <td>[0, 0, 1, 0, 0, 0, 0]</td>\n",
       "      <td>-1</td>\n",
       "      <td>-1</td>\n",
       "    </tr>\n",
       "    <tr>\n",
       "      <th>14643950</th>\n",
       "      <td>99450</td>\n",
       "      <td>[0, 0, 0, 1, 0, 0, 0]</td>\n",
       "      <td>-1</td>\n",
       "      <td>-1</td>\n",
       "    </tr>\n",
       "  </tbody>\n",
       "</table>\n",
       "<p>60312 rows × 4 columns</p>\n",
       "</div>"
      ],
      "text/plain": [
       "            用户id                 用户出生时间  关注的作者 关注的马甲\n",
       "10739      10025  [0, 0, 1, 0, 0, 0, 0]     -1    -1\n",
       "11009     100346  [0, 0, 1, 0, 0, 0, 0]     -1    -1\n",
       "11857      10065  [0, 0, 0, 1, 0, 0, 0]     -1    -1\n",
       "12227     100782  [0, 0, 1, 0, 0, 0, 0]     -1    -1\n",
       "12469      10087  [0, 0, 0, 0, 1, 0, 0]     -1    -1\n",
       "...          ...                    ...    ...   ...\n",
       "14637137   98608  [0, 0, 0, 0, 0, 0, 1]     -1    -1\n",
       "14642274   99083  [0, 0, 1, 0, 0, 0, 0]     -1    -1\n",
       "14643212   99274  [0, 0, 1, 0, 0, 0, 0]     -1    -1\n",
       "14643469   99300  [0, 0, 1, 0, 0, 0, 0]     -1    -1\n",
       "14643950   99450  [0, 0, 0, 1, 0, 0, 0]     -1    -1\n",
       "\n",
       "[60312 rows x 4 columns]"
      ]
     },
     "execution_count": 19,
     "metadata": {},
     "output_type": "execute_result"
    }
   ],
   "source": []
  },
  {
   "cell_type": "code",
   "execution_count": null,
   "metadata": {},
   "outputs": [],
   "source": []
  }
 ],
 "metadata": {
  "kernelspec": {
   "display_name": "Python 3",
   "language": "python",
   "name": "python3"
  },
  "language_info": {
   "codemirror_mode": {
    "name": "ipython",
    "version": 3
   },
   "file_extension": ".py",
   "mimetype": "text/x-python",
   "name": "python",
   "nbconvert_exporter": "python",
   "pygments_lexer": "ipython3",
   "version": "3.7.6"
  }
 },
 "nbformat": 4,
 "nbformat_minor": 4
}
