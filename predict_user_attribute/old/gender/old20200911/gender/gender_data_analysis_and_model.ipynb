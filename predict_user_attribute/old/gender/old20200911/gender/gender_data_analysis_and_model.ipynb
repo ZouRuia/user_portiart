{
 "cells": [
  {
   "cell_type": "code",
   "execution_count": 4,
   "metadata": {},
   "outputs": [],
   "source": [
    "import os\n",
    "import pickle\n",
    "import collections\n",
    "import datetime\n",
    "import copy\n",
    "import numpy as np\n",
    "import scipy as sp\n",
    "import pandas as pd\n",
    "import tensorflow as tf\n",
    "import happybase\n",
    "import warnings\n",
    "import sklearn.model_selection\n",
    "import sklearn.preprocessing\n",
    "import pickle\n",
    "import csv\n",
    "import json"
   ]
  },
  {
   "cell_type": "code",
   "execution_count": 5,
   "metadata": {},
   "outputs": [],
   "source": [
    "# data_dir = r\"/mnt1/zhaodachuan/data/predict_user_attribute/data/raw_data\"\n",
    "data_dir = r\"/home/zhaodachuan/data/predict_user_profile20200911\""
   ]
  },
  {
   "cell_type": "code",
   "execution_count": 6,
   "metadata": {},
   "outputs": [
    {
     "name": "stdout",
     "output_type": "stream",
     "text": [
      "['/home/zhaodachuan/data/predict_user_profile20200911/000000_0', '/home/zhaodachuan/data/predict_user_profile20200911/000002_0', '/home/zhaodachuan/data/predict_user_profile20200911/000003_0', '/home/zhaodachuan/data/predict_user_profile20200911/000001_0']\n"
     ]
    }
   ],
   "source": [
    "file_list = []\n",
    "for root,_,path_list in os.walk(data_dir):\n",
    "    for path in path_list:\n",
    "        file_list.append(os.path.join(root,path))\n",
    "print(file_list)"
   ]
  },
  {
   "cell_type": "code",
   "execution_count": 7,
   "metadata": {},
   "outputs": [
    {
     "ename": "ValueError",
     "evalue": "Length mismatch: Expected axis has 3 elements, new values have 32 elements",
     "output_type": "error",
     "traceback": [
      "\u001b[0;31m---------------------------------------------------------------------------\u001b[0m",
      "\u001b[0;31mValueError\u001b[0m                                Traceback (most recent call last)",
      "\u001b[0;32m<timed exec>\u001b[0m in \u001b[0;36m<module>\u001b[0;34m\u001b[0m\n",
      "\u001b[0;32m~/anaconda3/lib/python3.7/site-packages/pandas/core/generic.py\u001b[0m in \u001b[0;36m__setattr__\u001b[0;34m(self, name, value)\u001b[0m\n\u001b[1;32m   5285\u001b[0m         \u001b[0;32mtry\u001b[0m\u001b[0;34m:\u001b[0m\u001b[0;34m\u001b[0m\u001b[0;34m\u001b[0m\u001b[0m\n\u001b[1;32m   5286\u001b[0m             \u001b[0mobject\u001b[0m\u001b[0;34m.\u001b[0m\u001b[0m__getattribute__\u001b[0m\u001b[0;34m(\u001b[0m\u001b[0mself\u001b[0m\u001b[0;34m,\u001b[0m \u001b[0mname\u001b[0m\u001b[0;34m)\u001b[0m\u001b[0;34m\u001b[0m\u001b[0;34m\u001b[0m\u001b[0m\n\u001b[0;32m-> 5287\u001b[0;31m             \u001b[0;32mreturn\u001b[0m \u001b[0mobject\u001b[0m\u001b[0;34m.\u001b[0m\u001b[0m__setattr__\u001b[0m\u001b[0;34m(\u001b[0m\u001b[0mself\u001b[0m\u001b[0;34m,\u001b[0m \u001b[0mname\u001b[0m\u001b[0;34m,\u001b[0m \u001b[0mvalue\u001b[0m\u001b[0;34m)\u001b[0m\u001b[0;34m\u001b[0m\u001b[0;34m\u001b[0m\u001b[0m\n\u001b[0m\u001b[1;32m   5288\u001b[0m         \u001b[0;32mexcept\u001b[0m \u001b[0mAttributeError\u001b[0m\u001b[0;34m:\u001b[0m\u001b[0;34m\u001b[0m\u001b[0;34m\u001b[0m\u001b[0m\n\u001b[1;32m   5289\u001b[0m             \u001b[0;32mpass\u001b[0m\u001b[0;34m\u001b[0m\u001b[0;34m\u001b[0m\u001b[0m\n",
      "\u001b[0;32mpandas/_libs/properties.pyx\u001b[0m in \u001b[0;36mpandas._libs.properties.AxisProperty.__set__\u001b[0;34m()\u001b[0m\n",
      "\u001b[0;32m~/anaconda3/lib/python3.7/site-packages/pandas/core/generic.py\u001b[0m in \u001b[0;36m_set_axis\u001b[0;34m(self, axis, labels)\u001b[0m\n\u001b[1;32m    659\u001b[0m \u001b[0;34m\u001b[0m\u001b[0m\n\u001b[1;32m    660\u001b[0m     \u001b[0;32mdef\u001b[0m \u001b[0m_set_axis\u001b[0m\u001b[0;34m(\u001b[0m\u001b[0mself\u001b[0m\u001b[0;34m,\u001b[0m \u001b[0maxis\u001b[0m\u001b[0;34m,\u001b[0m \u001b[0mlabels\u001b[0m\u001b[0;34m)\u001b[0m \u001b[0;34m->\u001b[0m \u001b[0;32mNone\u001b[0m\u001b[0;34m:\u001b[0m\u001b[0;34m\u001b[0m\u001b[0;34m\u001b[0m\u001b[0m\n\u001b[0;32m--> 661\u001b[0;31m         \u001b[0mself\u001b[0m\u001b[0;34m.\u001b[0m\u001b[0m_data\u001b[0m\u001b[0;34m.\u001b[0m\u001b[0mset_axis\u001b[0m\u001b[0;34m(\u001b[0m\u001b[0maxis\u001b[0m\u001b[0;34m,\u001b[0m \u001b[0mlabels\u001b[0m\u001b[0;34m)\u001b[0m\u001b[0;34m\u001b[0m\u001b[0;34m\u001b[0m\u001b[0m\n\u001b[0m\u001b[1;32m    662\u001b[0m         \u001b[0mself\u001b[0m\u001b[0;34m.\u001b[0m\u001b[0m_clear_item_cache\u001b[0m\u001b[0;34m(\u001b[0m\u001b[0;34m)\u001b[0m\u001b[0;34m\u001b[0m\u001b[0;34m\u001b[0m\u001b[0m\n\u001b[1;32m    663\u001b[0m \u001b[0;34m\u001b[0m\u001b[0m\n",
      "\u001b[0;32m~/anaconda3/lib/python3.7/site-packages/pandas/core/internals/managers.py\u001b[0m in \u001b[0;36mset_axis\u001b[0;34m(self, axis, new_labels)\u001b[0m\n\u001b[1;32m    176\u001b[0m         \u001b[0;32mif\u001b[0m \u001b[0mnew_len\u001b[0m \u001b[0;34m!=\u001b[0m \u001b[0mold_len\u001b[0m\u001b[0;34m:\u001b[0m\u001b[0;34m\u001b[0m\u001b[0;34m\u001b[0m\u001b[0m\n\u001b[1;32m    177\u001b[0m             raise ValueError(\n\u001b[0;32m--> 178\u001b[0;31m                 \u001b[0;34mf\"Length mismatch: Expected axis has {old_len} elements, new \"\u001b[0m\u001b[0;34m\u001b[0m\u001b[0;34m\u001b[0m\u001b[0m\n\u001b[0m\u001b[1;32m    179\u001b[0m                 \u001b[0;34mf\"values have {new_len} elements\"\u001b[0m\u001b[0;34m\u001b[0m\u001b[0;34m\u001b[0m\u001b[0m\n\u001b[1;32m    180\u001b[0m             )\n",
      "\u001b[0;31mValueError\u001b[0m: Length mismatch: Expected axis has 3 elements, new values have 32 elements"
     ]
    }
   ],
   "source": [
    "%%time\n",
    "#读取用户数据\n",
    "all_file_data = []\n",
    "for file_name in file_list:\n",
    "    all_file_data.append(pd.read_csv(os.path.join(data_dir,file_name),sep='\\001',header=None,error_bad_lines=False))\n",
    "df = pd.concat(all_file_data,axis=0,ignore_index=True)\n",
    "del all_file_data\n",
    "column_list = ['用户id','用户姓名','用户性别','用户出生时间','所在公司','所处职位','行业','微信网名','微信性别','常驻省','常驻市','是否付费用户','付费等级','关注的作者','作者类型','关注的马甲','关注的公司','文章id','是否精选文章','浏览文章时间','浏览时长','文章频道','文章类型','文章标签','文章图片数量','文章字数','新定位省','新定位市','评论内容','打赏金额','设备型号','使用网络']\n",
    "df.columns = column_list\n",
    "old_df = copy.deepcopy(df)"
   ]
  },
  {
   "cell_type": "code",
   "execution_count": 5,
   "metadata": {},
   "outputs": [],
   "source": [
    "df = copy.deepcopy(old_df)"
   ]
  },
  {
   "cell_type": "code",
   "execution_count": 6,
   "metadata": {},
   "outputs": [],
   "source": [
    "# 获得指定列\n",
    "use_column_list = [\"用户id\",\"用户性别\",\"作者类型\",'关注的作者','关注的马甲']\n",
    "y_col = \"用户性别\"\n",
    "y_col_transfer_dict = {\"1\":\"男\",\"2\":\"女\"}\n",
    "id_col = \"用户id\"\n",
    "df = df[use_column_list]"
   ]
  },
  {
   "cell_type": "code",
   "execution_count": 7,
   "metadata": {},
   "outputs": [
    {
     "data": {
      "text/html": [
       "<div>\n",
       "<style scoped>\n",
       "    .dataframe tbody tr th:only-of-type {\n",
       "        vertical-align: middle;\n",
       "    }\n",
       "\n",
       "    .dataframe tbody tr th {\n",
       "        vertical-align: top;\n",
       "    }\n",
       "\n",
       "    .dataframe thead th {\n",
       "        text-align: right;\n",
       "    }\n",
       "</style>\n",
       "<table border=\"1\" class=\"dataframe\">\n",
       "  <thead>\n",
       "    <tr style=\"text-align: right;\">\n",
       "      <th></th>\n",
       "      <th>用户id</th>\n",
       "      <th>用户性别</th>\n",
       "      <th>作者类型</th>\n",
       "      <th>关注的作者</th>\n",
       "      <th>关注的马甲</th>\n",
       "    </tr>\n",
       "  </thead>\n",
       "  <tbody>\n",
       "    <tr>\n",
       "      <th>0</th>\n",
       "      <td>00001D26FE991A4BC4A01325D5E222DE</td>\n",
       "      <td>-1</td>\n",
       "      <td>-1</td>\n",
       "      <td>-1</td>\n",
       "      <td>-1</td>\n",
       "    </tr>\n",
       "    <tr>\n",
       "      <th>1</th>\n",
       "      <td>00006C3EF7F79B0F37EEFB8381505530</td>\n",
       "      <td>-1</td>\n",
       "      <td>-1</td>\n",
       "      <td>-1</td>\n",
       "      <td>-1</td>\n",
       "    </tr>\n",
       "    <tr>\n",
       "      <th>2</th>\n",
       "      <td>0000D0E1960239E8362F6B4100D9790A</td>\n",
       "      <td>-1</td>\n",
       "      <td>-1</td>\n",
       "      <td>-1</td>\n",
       "      <td>-1</td>\n",
       "    </tr>\n",
       "    <tr>\n",
       "      <th>3</th>\n",
       "      <td>0000f55e60d5ba7b36004429b235c95096f7153d</td>\n",
       "      <td>-1</td>\n",
       "      <td>-1</td>\n",
       "      <td>-1</td>\n",
       "      <td>-1</td>\n",
       "    </tr>\n",
       "    <tr>\n",
       "      <th>4</th>\n",
       "      <td>00014E9D5CF948B3FE6376564B23F64F</td>\n",
       "      <td>-1</td>\n",
       "      <td>-1</td>\n",
       "      <td>-1</td>\n",
       "      <td>-1</td>\n",
       "    </tr>\n",
       "    <tr>\n",
       "      <th>...</th>\n",
       "      <td>...</td>\n",
       "      <td>...</td>\n",
       "      <td>...</td>\n",
       "      <td>...</td>\n",
       "      <td>...</td>\n",
       "    </tr>\n",
       "    <tr>\n",
       "      <th>15703260</th>\n",
       "      <td>qlu2xsthqk7tp0mncpgr</td>\n",
       "      <td>-1</td>\n",
       "      <td>-1</td>\n",
       "      <td>-1</td>\n",
       "      <td>-1</td>\n",
       "    </tr>\n",
       "    <tr>\n",
       "      <th>15703261</th>\n",
       "      <td>qlu30bysbp1mj150uc1m</td>\n",
       "      <td>-1</td>\n",
       "      <td>-1</td>\n",
       "      <td>-1</td>\n",
       "      <td>-1</td>\n",
       "    </tr>\n",
       "    <tr>\n",
       "      <th>15703262</th>\n",
       "      <td>qlu30t7n6f2b1jgzexv</td>\n",
       "      <td>-1</td>\n",
       "      <td>-1</td>\n",
       "      <td>-1</td>\n",
       "      <td>-1</td>\n",
       "    </tr>\n",
       "    <tr>\n",
       "      <th>15703263</th>\n",
       "      <td>qlu315b37v5rc273amb0</td>\n",
       "      <td>-1</td>\n",
       "      <td>-1</td>\n",
       "      <td>-1</td>\n",
       "      <td>-1</td>\n",
       "    </tr>\n",
       "    <tr>\n",
       "      <th>15703264</th>\n",
       "      <td>qlu31nan912a53u0z62</td>\n",
       "      <td>-1</td>\n",
       "      <td>-1</td>\n",
       "      <td>-1</td>\n",
       "      <td>-1</td>\n",
       "    </tr>\n",
       "  </tbody>\n",
       "</table>\n",
       "<p>15703265 rows × 5 columns</p>\n",
       "</div>"
      ],
      "text/plain": [
       "                                              用户id 用户性别  作者类型  关注的作者 关注的马甲\n",
       "0                 00001D26FE991A4BC4A01325D5E222DE   -1    -1     -1    -1\n",
       "1                 00006C3EF7F79B0F37EEFB8381505530   -1    -1     -1    -1\n",
       "2                 0000D0E1960239E8362F6B4100D9790A   -1    -1     -1    -1\n",
       "3         0000f55e60d5ba7b36004429b235c95096f7153d   -1    -1     -1    -1\n",
       "4                 00014E9D5CF948B3FE6376564B23F64F   -1    -1     -1    -1\n",
       "...                                            ...  ...   ...    ...   ...\n",
       "15703260                      qlu2xsthqk7tp0mncpgr   -1    -1     -1    -1\n",
       "15703261                      qlu30bysbp1mj150uc1m   -1    -1     -1    -1\n",
       "15703262                       qlu30t7n6f2b1jgzexv   -1    -1     -1    -1\n",
       "15703263                      qlu315b37v5rc273amb0   -1    -1     -1    -1\n",
       "15703264                       qlu31nan912a53u0z62   -1    -1     -1    -1\n",
       "\n",
       "[15703265 rows x 5 columns]"
      ]
     },
     "execution_count": 7,
     "metadata": {},
     "output_type": "execute_result"
    }
   ],
   "source": [
    "df.fillna(\"\",inplace=True)\n",
    "df"
   ]
  },
  {
   "cell_type": "markdown",
   "metadata": {},
   "source": [
    "# 数据分析"
   ]
  },
  {
   "cell_type": "code",
   "execution_count": null,
   "metadata": {},
   "outputs": [],
   "source": [
    "df.info()"
   ]
  },
  {
   "cell_type": "code",
   "execution_count": null,
   "metadata": {},
   "outputs": [],
   "source": [
    "#df[\"微信性别\"].unique()"
   ]
  },
  {
   "cell_type": "code",
   "execution_count": null,
   "metadata": {},
   "outputs": [],
   "source": [
    "df[\"作者类型\"].unique()"
   ]
  },
  {
   "cell_type": "code",
   "execution_count": null,
   "metadata": {},
   "outputs": [],
   "source": [
    "df[\"关注的马甲\"].unique()"
   ]
  },
  {
   "cell_type": "code",
   "execution_count": null,
   "metadata": {},
   "outputs": [],
   "source": [
    "df[\"关注的作者\"].unique()"
   ]
  },
  {
   "cell_type": "markdown",
   "metadata": {},
   "source": [
    "# 训练模型"
   ]
  },
  {
   "cell_type": "code",
   "execution_count": 8,
   "metadata": {},
   "outputs": [
    {
     "data": {
      "text/html": [
       "<div>\n",
       "<style scoped>\n",
       "    .dataframe tbody tr th:only-of-type {\n",
       "        vertical-align: middle;\n",
       "    }\n",
       "\n",
       "    .dataframe tbody tr th {\n",
       "        vertical-align: top;\n",
       "    }\n",
       "\n",
       "    .dataframe thead th {\n",
       "        text-align: right;\n",
       "    }\n",
       "</style>\n",
       "<table border=\"1\" class=\"dataframe\">\n",
       "  <thead>\n",
       "    <tr style=\"text-align: right;\">\n",
       "      <th></th>\n",
       "      <th>用户id</th>\n",
       "      <th>用户性别</th>\n",
       "      <th>作者类型</th>\n",
       "      <th>关注的作者</th>\n",
       "      <th>关注的马甲</th>\n",
       "    </tr>\n",
       "  </thead>\n",
       "  <tbody>\n",
       "    <tr>\n",
       "      <th>0</th>\n",
       "      <td>00001D26FE991A4BC4A01325D5E222DE</td>\n",
       "      <td>-1</td>\n",
       "      <td>-1</td>\n",
       "      <td>-1</td>\n",
       "      <td>-1</td>\n",
       "    </tr>\n",
       "    <tr>\n",
       "      <th>1</th>\n",
       "      <td>00006C3EF7F79B0F37EEFB8381505530</td>\n",
       "      <td>-1</td>\n",
       "      <td>-1</td>\n",
       "      <td>-1</td>\n",
       "      <td>-1</td>\n",
       "    </tr>\n",
       "    <tr>\n",
       "      <th>2</th>\n",
       "      <td>0000D0E1960239E8362F6B4100D9790A</td>\n",
       "      <td>-1</td>\n",
       "      <td>-1</td>\n",
       "      <td>-1</td>\n",
       "      <td>-1</td>\n",
       "    </tr>\n",
       "    <tr>\n",
       "      <th>3</th>\n",
       "      <td>0000f55e60d5ba7b36004429b235c95096f7153d</td>\n",
       "      <td>-1</td>\n",
       "      <td>-1</td>\n",
       "      <td>-1</td>\n",
       "      <td>-1</td>\n",
       "    </tr>\n",
       "    <tr>\n",
       "      <th>4</th>\n",
       "      <td>00014E9D5CF948B3FE6376564B23F64F</td>\n",
       "      <td>-1</td>\n",
       "      <td>-1</td>\n",
       "      <td>-1</td>\n",
       "      <td>-1</td>\n",
       "    </tr>\n",
       "    <tr>\n",
       "      <th>...</th>\n",
       "      <td>...</td>\n",
       "      <td>...</td>\n",
       "      <td>...</td>\n",
       "      <td>...</td>\n",
       "      <td>...</td>\n",
       "    </tr>\n",
       "    <tr>\n",
       "      <th>15703260</th>\n",
       "      <td>qlu2xsthqk7tp0mncpgr</td>\n",
       "      <td>-1</td>\n",
       "      <td>-1</td>\n",
       "      <td>-1</td>\n",
       "      <td>-1</td>\n",
       "    </tr>\n",
       "    <tr>\n",
       "      <th>15703261</th>\n",
       "      <td>qlu30bysbp1mj150uc1m</td>\n",
       "      <td>-1</td>\n",
       "      <td>-1</td>\n",
       "      <td>-1</td>\n",
       "      <td>-1</td>\n",
       "    </tr>\n",
       "    <tr>\n",
       "      <th>15703262</th>\n",
       "      <td>qlu30t7n6f2b1jgzexv</td>\n",
       "      <td>-1</td>\n",
       "      <td>-1</td>\n",
       "      <td>-1</td>\n",
       "      <td>-1</td>\n",
       "    </tr>\n",
       "    <tr>\n",
       "      <th>15703263</th>\n",
       "      <td>qlu315b37v5rc273amb0</td>\n",
       "      <td>-1</td>\n",
       "      <td>-1</td>\n",
       "      <td>-1</td>\n",
       "      <td>-1</td>\n",
       "    </tr>\n",
       "    <tr>\n",
       "      <th>15703264</th>\n",
       "      <td>qlu31nan912a53u0z62</td>\n",
       "      <td>-1</td>\n",
       "      <td>-1</td>\n",
       "      <td>-1</td>\n",
       "      <td>-1</td>\n",
       "    </tr>\n",
       "  </tbody>\n",
       "</table>\n",
       "<p>15703265 rows × 5 columns</p>\n",
       "</div>"
      ],
      "text/plain": [
       "                                              用户id 用户性别  作者类型  关注的作者 关注的马甲\n",
       "0                 00001D26FE991A4BC4A01325D5E222DE   -1    -1     -1    -1\n",
       "1                 00006C3EF7F79B0F37EEFB8381505530   -1    -1     -1    -1\n",
       "2                 0000D0E1960239E8362F6B4100D9790A   -1    -1     -1    -1\n",
       "3         0000f55e60d5ba7b36004429b235c95096f7153d   -1    -1     -1    -1\n",
       "4                 00014E9D5CF948B3FE6376564B23F64F   -1    -1     -1    -1\n",
       "...                                            ...  ...   ...    ...   ...\n",
       "15703260                      qlu2xsthqk7tp0mncpgr   -1    -1     -1    -1\n",
       "15703261                      qlu30bysbp1mj150uc1m   -1    -1     -1    -1\n",
       "15703262                       qlu30t7n6f2b1jgzexv   -1    -1     -1    -1\n",
       "15703263                      qlu315b37v5rc273amb0   -1    -1     -1    -1\n",
       "15703264                       qlu31nan912a53u0z62   -1    -1     -1    -1\n",
       "\n",
       "[15703265 rows x 5 columns]"
      ]
     },
     "execution_count": 8,
     "metadata": {},
     "output_type": "execute_result"
    }
   ],
   "source": [
    "#处理性别列\n",
    "df[y_col] = df[y_col].apply(lambda x : str(x))\n",
    "df[y_col].replace(y_col_transfer_dict,inplace=True)\n",
    "df"
   ]
  },
  {
   "cell_type": "code",
   "execution_count": null,
   "metadata": {},
   "outputs": [],
   "source": []
  },
  {
   "cell_type": "code",
   "execution_count": 9,
   "metadata": {},
   "outputs": [
    {
     "data": {
      "text/html": [
       "<div>\n",
       "<style scoped>\n",
       "    .dataframe tbody tr th:only-of-type {\n",
       "        vertical-align: middle;\n",
       "    }\n",
       "\n",
       "    .dataframe tbody tr th {\n",
       "        vertical-align: top;\n",
       "    }\n",
       "\n",
       "    .dataframe thead th {\n",
       "        text-align: right;\n",
       "    }\n",
       "</style>\n",
       "<table border=\"1\" class=\"dataframe\">\n",
       "  <thead>\n",
       "    <tr style=\"text-align: right;\">\n",
       "      <th></th>\n",
       "      <th>用户id</th>\n",
       "      <th>用户性别</th>\n",
       "      <th>作者类型</th>\n",
       "      <th>关注的作者</th>\n",
       "      <th>关注的马甲</th>\n",
       "    </tr>\n",
       "  </thead>\n",
       "  <tbody>\n",
       "    <tr>\n",
       "      <th>10293</th>\n",
       "      <td>100092</td>\n",
       "      <td>男</td>\n",
       "      <td>-1</td>\n",
       "      <td>-1</td>\n",
       "      <td>-1</td>\n",
       "    </tr>\n",
       "    <tr>\n",
       "      <th>10541</th>\n",
       "      <td>10018</td>\n",
       "      <td>男</td>\n",
       "      <td>-1</td>\n",
       "      <td>-1</td>\n",
       "      <td>-1</td>\n",
       "    </tr>\n",
       "    <tr>\n",
       "      <th>10739</th>\n",
       "      <td>10025</td>\n",
       "      <td>男</td>\n",
       "      <td>-1</td>\n",
       "      <td>-1</td>\n",
       "      <td>-1</td>\n",
       "    </tr>\n",
       "    <tr>\n",
       "      <th>11009</th>\n",
       "      <td>100346</td>\n",
       "      <td>男</td>\n",
       "      <td>-1</td>\n",
       "      <td>-1</td>\n",
       "      <td>-1</td>\n",
       "    </tr>\n",
       "    <tr>\n",
       "      <th>12469</th>\n",
       "      <td>10087</td>\n",
       "      <td>男</td>\n",
       "      <td>-1</td>\n",
       "      <td>-1</td>\n",
       "      <td>-1</td>\n",
       "    </tr>\n",
       "    <tr>\n",
       "      <th>...</th>\n",
       "      <td>...</td>\n",
       "      <td>...</td>\n",
       "      <td>...</td>\n",
       "      <td>...</td>\n",
       "      <td>...</td>\n",
       "    </tr>\n",
       "    <tr>\n",
       "      <th>14643469</th>\n",
       "      <td>99300</td>\n",
       "      <td>男</td>\n",
       "      <td>-1</td>\n",
       "      <td>-1</td>\n",
       "      <td>-1</td>\n",
       "    </tr>\n",
       "    <tr>\n",
       "      <th>14643527</th>\n",
       "      <td>99319</td>\n",
       "      <td>男</td>\n",
       "      <td>-1</td>\n",
       "      <td>-1</td>\n",
       "      <td>-1</td>\n",
       "    </tr>\n",
       "    <tr>\n",
       "      <th>14643950</th>\n",
       "      <td>99450</td>\n",
       "      <td>男</td>\n",
       "      <td>-1</td>\n",
       "      <td>-1</td>\n",
       "      <td>-1</td>\n",
       "    </tr>\n",
       "    <tr>\n",
       "      <th>14644686</th>\n",
       "      <td>99685</td>\n",
       "      <td>男</td>\n",
       "      <td>-1</td>\n",
       "      <td>-1</td>\n",
       "      <td>-1</td>\n",
       "    </tr>\n",
       "    <tr>\n",
       "      <th>14645633</th>\n",
       "      <td>99935</td>\n",
       "      <td>男</td>\n",
       "      <td>-1</td>\n",
       "      <td>-1</td>\n",
       "      <td>-1</td>\n",
       "    </tr>\n",
       "  </tbody>\n",
       "</table>\n",
       "<p>210851 rows × 5 columns</p>\n",
       "</div>"
      ],
      "text/plain": [
       "            用户id 用户性别  作者类型  关注的作者 关注的马甲\n",
       "10293     100092    男    -1     -1    -1\n",
       "10541      10018    男    -1     -1    -1\n",
       "10739      10025    男    -1     -1    -1\n",
       "11009     100346    男    -1     -1    -1\n",
       "12469      10087    男    -1     -1    -1\n",
       "...          ...  ...   ...    ...   ...\n",
       "14643469   99300    男    -1     -1    -1\n",
       "14643527   99319    男    -1     -1    -1\n",
       "14643950   99450    男    -1     -1    -1\n",
       "14644686   99685    男    -1     -1    -1\n",
       "14645633   99935    男    -1     -1    -1\n",
       "\n",
       "[210851 rows x 5 columns]"
      ]
     },
     "execution_count": 9,
     "metadata": {},
     "output_type": "execute_result"
    }
   ],
   "source": [
    "def deal_with_sex(sex,y_set=set(y_col_transfer_dict.values())):\n",
    "    if sex in y_set:\n",
    "        return True\n",
    "    return False\n",
    "\n",
    "predict_df = df[-df[y_col].apply(deal_with_sex)]\n",
    "train_df = df[df[y_col].apply(deal_with_sex)]\n",
    "train_df"
   ]
  },
  {
   "cell_type": "code",
   "execution_count": 15,
   "metadata": {},
   "outputs": [],
   "source": [
    "import happybase\n",
    "pool = happybase.ConnectionPool(size=100, host=\"47.110.125.69\", port=9090, timeout=None,\n",
    "                                protocol='binary'\n",
    "                                )\n",
    "with pool.connection() as conn:\n",
    "    table = conn.table(\"feature_center:user_profile\")\n",
    "    with table.batch(batch_size=400) as batch:\n",
    "        for i,index in enumerate(train_df.index):\n",
    "            batch.put(str(train_df.loc[index,\"用户id\"]).encode(), {\"attribute:input_gender\".encode():train_df.loc[index,y_col].encode()})\n",
    "            #print(str(train_df.loc[index,\"用户id\"]).encode(),{\"attribute:input_gender\".encode():train_df.loc[index,y_col].encode()})\n",
    "            #break"
   ]
  },
  {
   "cell_type": "code",
   "execution_count": null,
   "metadata": {},
   "outputs": [],
   "source": [
    "predict_df"
   ]
  },
  {
   "cell_type": "code",
   "execution_count": null,
   "metadata": {},
   "outputs": [],
   "source": [
    "#训练数据\n",
    "multi_hot_column_odict = collections.OrderedDict()\n",
    "\n",
    "multi_hot_column_set = set([v for v in use_column_list if v != y_col and v!=id_col])\n",
    "for i,column in enumerate(multi_hot_column_set):\n",
    "    multi_hot_column_odict[column] = sklearn.preprocessing.MultiLabelBinarizer()\n",
    "    split_column_list = [item.split(\",\") if isinstance(item,str) else str(item) for item in train_df[column]]\n",
    "    #multi_hot_column_odict[column].fit(split_column_list)\n",
    "    train_df[column] = multi_hot_column_odict[column].fit_transform(split_column_list).tolist()"
   ]
  },
  {
   "cell_type": "code",
   "execution_count": null,
   "metadata": {},
   "outputs": [],
   "source": [
    "%%time\n",
    "y_onehot = sklearn.preprocessing.LabelBinarizer()\n",
    "y_onehot.fit(train_df[y_col])\n",
    "train_df[y_col] = y_one_hot.transform(train_df[y_col])"
   ]
  },
  {
   "cell_type": "code",
   "execution_count": null,
   "metadata": {},
   "outputs": [],
   "source": [
    "train_df"
   ]
  },
  {
   "cell_type": "code",
   "execution_count": null,
   "metadata": {},
   "outputs": [],
   "source": [
    "train, test = sklearn.model_selection.train_test_split(train_df, test_size=0.2)\n",
    "train, val = sklearn.model_selection.train_test_split(train, test_size=0.2)\n",
    "print(len(train), 'train examples')\n",
    "print(len(val), 'validation examples')\n",
    "print(len(test), 'test examples')"
   ]
  },
  {
   "cell_type": "code",
   "execution_count": null,
   "metadata": {},
   "outputs": [],
   "source": [
    "def generate_xy(data_df, y_col, multi_hot_column_odict, shuffle=True):\n",
    "    \"\"\"\"\"\"\n",
    "    x_df = data_df.copy()\n",
    "    x_list = []\n",
    "    y_list = []\n",
    "    for i,index in enumerate(x_df.index):\n",
    "        temp_x_list = np.concatenate(x_df.loc[index,[column for column in multi_hot_column_odict]]).tolist()\n",
    "        temp_y_list = x_df.loc[index,y_col]\n",
    "        x_list.append(temp_x_list)\n",
    "        y_list.append(temp_y_list)\n",
    "        if i % 10000 == 0:\n",
    "            print(i)\n",
    "    return np.array(x_list,dtype=np.float32), np.array(y_list,dtype=np.int32)"
   ]
  },
  {
   "cell_type": "code",
   "execution_count": null,
   "metadata": {},
   "outputs": [],
   "source": [
    "%%time\n",
    "x_train,y_train = generate_xy(train,y_col,multi_hot_column_odict)\n",
    "x_vali,y_valid = generate_xy(val,y_col,multi_hot_column_odict)\n",
    "x_test,y_test = generate_xy(test,y_col,multi_hot_column_odict)"
   ]
  },
  {
   "cell_type": "code",
   "execution_count": null,
   "metadata": {},
   "outputs": [],
   "source": [
    "for k,v in multi_hot_column_odict.items():\n",
    "    print(k,len(v.classes_))"
   ]
  },
  {
   "cell_type": "code",
   "execution_count": null,
   "metadata": {},
   "outputs": [],
   "source": [
    "x_dim = 0\n",
    "for k,v in  multi_hot_column_odict.items():\n",
    "    x_dim += len(v.classes_)\n",
    "print(x_dim)\n",
    "print(y_onehot.classes_)\n",
    "y_dim = 1 if len(y_onehot.classes_) == 2 else len(y_onehot.classes_)\n",
    "print(y_dim)"
   ]
  },
  {
   "cell_type": "code",
   "execution_count": null,
   "metadata": {},
   "outputs": [],
   "source": [
    "class TfKerasLrModel(x_dim,y_dim):\n",
    "    \"\"\"keras创建模型\n",
    "    \"\"\"\n",
    "    model = tf.keras.models.Sequential()\n",
    "    model.add(tf.keras.layers.Input(shape=(input_dim,)))\n",
    "    if y_dim == 2:\n",
    "        model.add(\n",
    "            tf.keras.layers.Dense(\n",
    "                len(y_onehot.categories_), \n",
    "                activation='softmax',use_bias=True,\n",
    "                #kernel_regularizer=tf.keras.regularizers.l1(0.01)\n",
    "            )\n",
    "        )\n",
    "    elif y_dim > 2:\n",
    "        model.add(\n",
    "            tf.keras.layers.Dense(\n",
    "                len(y_onehot.categories_), \n",
    "                activation='softmax',use_bias=True,\n",
    "                #kernel_regularizer=tf.keras.regularizers.l1(0.01)\n",
    "            )\n",
    "        )\n",
    "    else:\n",
    "        raise Exception(\"分类类别错误，需要 >=2 ，获得{}\".format(y_dim))\n",
    "    model.compile(optimizer=tf.keras.optimizers.Adam(learning_rate=1e-3),\n",
    "              loss=tf.keras.losses.CategoricalCrossentropy(), \n",
    "              metrics=[tf.keras.metrics.BinaryAccuracy()])\n",
    "    return model"
   ]
  },
  {
   "cell_type": "code",
   "execution_count": null,
   "metadata": {},
   "outputs": [],
   "source": [
    "model = TfKerasLrModel()\n",
    "model.summary()"
   ]
  },
  {
   "cell_type": "code",
   "execution_count": null,
   "metadata": {},
   "outputs": [],
   "source": [
    "x_train"
   ]
  },
  {
   "cell_type": "code",
   "execution_count": null,
   "metadata": {},
   "outputs": [],
   "source": [
    "collections.Counter([str(v) for v in y_train])"
   ]
  },
  {
   "cell_type": "code",
   "execution_count": null,
   "metadata": {},
   "outputs": [],
   "source": [
    "model.fit(x_train, \n",
    "          y_train, \n",
    "          batch_size=64,\n",
    "          epochs=20,\n",
    "         validation_data = (x_vali,y_valid))"
   ]
  },
  {
   "cell_type": "code",
   "execution_count": null,
   "metadata": {},
   "outputs": [],
   "source": [
    "model.evaluate(x_test,y_test)"
   ]
  },
  {
   "cell_type": "code",
   "execution_count": null,
   "metadata": {},
   "outputs": [],
   "source": [
    "#保存模型\n",
    "with open(\"multi_hot_column_odict.pkl\",\"wb\") as f:\n",
    "    pickle.dump(y_onehot,f)\n",
    "with open(\"y_onehot.pkl\",\"wb\") as f:\n",
    "    pickle.dump(y_onehot,f)\n",
    "model.save(\"model_output\")"
   ]
  },
  {
   "cell_type": "code",
   "execution_count": null,
   "metadata": {},
   "outputs": [],
   "source": []
  },
  {
   "cell_type": "code",
   "execution_count": null,
   "metadata": {},
   "outputs": [],
   "source": []
  },
  {
   "cell_type": "code",
   "execution_count": null,
   "metadata": {},
   "outputs": [],
   "source": [
    "predict_df"
   ]
  },
  {
   "cell_type": "code",
   "execution_count": null,
   "metadata": {},
   "outputs": [],
   "source": [
    "multi_hot_column_odict"
   ]
  },
  {
   "cell_type": "code",
   "execution_count": null,
   "metadata": {},
   "outputs": [],
   "source": [
    "%%time\n",
    "#测试数据\n",
    "warnings.filterwarnings('ignore')\n",
    "#output_csv = r\"/mnt1/zhangwanli/user_profile_output/gender.csv\"\n",
    "output_csv = r\"/mnt1/zhaodachuan/data/predict_user_attribute/data/gender.csv\"\n",
    "with open(output_csv, 'w', newline='') as csvfile:\n",
    "    fieldnames = ['gender', 'udid' , \"probility\"]\n",
    "    writer = csv.DictWriter(csvfile, fieldnames=fieldnames)\n",
    "    writer.writeheader()\n",
    "    for i,chunk in enumerate(np.array_split(predict_df, 1000)):\n",
    "        udid_list = predict_df[\"用户id\"].values.tolist()\n",
    "        predict_x = []\n",
    "        for index in chunk.index:\n",
    "            print(index)\n",
    "            break\n",
    "        if i == 3:\n",
    "            break"
   ]
  },
  {
   "cell_type": "code",
   "execution_count": null,
   "metadata": {},
   "outputs": [],
   "source": []
  },
  {
   "cell_type": "code",
   "execution_count": null,
   "metadata": {},
   "outputs": [],
   "source": [
    "%%time\n",
    "#测试数据\n",
    "warnings.filterwarnings('ignore')\n",
    "#output_csv = r\"/mnt1/zhangwanli/user_profile_output/gender.csv\"\n",
    "output_csv = r\"/mnt1/zhaodachuan/data/predict_user_attribute/data/gender.csv\"\n",
    "with open(output_csv, 'w', newline='') as csvfile:\n",
    "    fieldnames = ['gender', 'udid' , \"probility\"]\n",
    "    writer = csv.DictWriter(csvfile, fieldnames=fieldnames)\n",
    "    writer.writeheader()\n",
    "    for i,chunk in enumerate(np.array_split(predict_df, 1000)):\n",
    "        udid_list = chunk[\"用户id\"].values.tolist()\n",
    "        predict_x = []\n",
    "        for index in chunk.index:\n",
    "            temp_x_list = []\n",
    "            for j,column in enumerate(multi_hot_column_odict):\n",
    "                split_column_list = chunk.loc[index,column].split(\",\") if isinstance(chunk.loc[index,column],str) else [str(predict_df.loc[index,column])]\n",
    "                temp_x_list.extend(multi_hot_column_odict[column].transform([split_column_list]).tolist()[0])\n",
    "            predict_x.append(temp_x_list)\n",
    "        y_predict = model.predict([predict_x])\n",
    "        for y,y_predict_i,udid in zip(np.argmax(y_predict[0],axis=1),y_predict[0],udid_list):\n",
    "            writer.writerow({'gender':y, 'udid': udid , 'probility':json.dumps(y_predict_i.tolist())})\n",
    "        print(i)"
   ]
  },
  {
   "cell_type": "code",
   "execution_count": null,
   "metadata": {},
   "outputs": [],
   "source": [
    "y_transform_dict = {\n",
    "    \"0\":\"男\",\n",
    "    \"1\":\"女\",\n",
    "}\n",
    "output_df"
   ]
  },
  {
   "cell_type": "code",
   "execution_count": null,
   "metadata": {},
   "outputs": [],
   "source": [
    "output_df = pd.read_csv(\"/mnt1/zhaodachuan/data/predict_user_attribute/data/gender.csv\")\n",
    "output_df"
   ]
  },
  {
   "cell_type": "code",
   "execution_count": null,
   "metadata": {},
   "outputs": [],
   "source": []
  },
  {
   "cell_type": "code",
   "execution_count": null,
   "metadata": {},
   "outputs": [],
   "source": [
    "collections.Counter(output_df['gender'])"
   ]
  },
  {
   "cell_type": "code",
   "execution_count": null,
   "metadata": {},
   "outputs": [],
   "source": [
    "import happybase\n",
    "pool = happybase.ConnectionPool(size=100, host=\"47.110.125.69\", port=9090, timeout=None,\n",
    "                                protocol='binary'\n",
    "                                )\n",
    "with pool.connection() as conn:\n",
    "    table = conn.table(\"feature_center:user_profile\")\n",
    "    with table.batch(batch_size=400) as batch:\n",
    "        for i,index in enumerate(output_df.index):\n",
    "            batch.put(str(output_df.loc[index,\"udid\"]).encode(), {\"attribute:predict_gender\".encode(): y_transform_dict[str(output_df.loc[index,\"gender\"])].encode()})\n",
    "            #break\n",
    "            if i % 100000 == 0:\n",
    "                print(i)"
   ]
  },
  {
   "cell_type": "code",
   "execution_count": null,
   "metadata": {},
   "outputs": [],
   "source": []
  }
 ],
 "metadata": {
  "kernelspec": {
   "display_name": "Python 3",
   "language": "python",
   "name": "python3"
  },
  "language_info": {
   "codemirror_mode": {
    "name": "ipython",
    "version": 3
   },
   "file_extension": ".py",
   "mimetype": "text/x-python",
   "name": "python",
   "nbconvert_exporter": "python",
   "pygments_lexer": "ipython3",
   "version": "3.7.6"
  }
 },
 "nbformat": 4,
 "nbformat_minor": 4
}
