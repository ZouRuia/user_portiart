{
 "cells": [
  {
   "cell_type": "code",
   "execution_count": null,
   "metadata": {},
   "outputs": [],
   "source": [
    "import os\n",
    "import pickle\n",
    "import collections\n",
    "import datetime\n",
    "import copy\n",
    "import numpy as np\n",
    "import scipy as sp\n",
    "import pandas as pd\n",
    "import happybase\n",
    "import tensorflow as tf\n",
    "import warnings\n",
    "import re\n",
    "import sklearn.model_selection\n",
    "import sklearn.preprocessing"
   ]
  },
  {
   "cell_type": "code",
   "execution_count": null,
   "metadata": {},
   "outputs": [],
   "source": [
    "data_dir = r\"/mnt1/zhaodachuan/data/predict_user_attribute/data/raw_data\""
   ]
  },
  {
   "cell_type": "code",
   "execution_count": null,
   "metadata": {},
   "outputs": [],
   "source": [
    "file_list = []\n",
    "for root,_,path_list in os.walk(data_dir):\n",
    "    for path in path_list:\n",
    "        file_list.append(os.path.join(root,path))\n",
    "print(file_list)"
   ]
  },
  {
   "cell_type": "code",
   "execution_count": null,
   "metadata": {},
   "outputs": [],
   "source": [
    "%%time\n",
    "#读取用户数据\n",
    "all_file_data = []\n",
    "for file_name in file_list:\n",
    "    all_file_data.append(pd.read_csv(os.path.join(data_dir,file_name),sep='\\001',header=None,error_bad_lines=False))\n",
    "df = pd.concat(all_file_data,axis=0,ignore_index=True)\n",
    "del all_file_data\n",
    "column_list = ['用户id','用户姓名','用户性别','用户出生时间','所在公司','所处职位','行业','微信网名','微信性别','常驻省','常驻市','是否付费用户','付费等级','关注的作者','作者类型','关注的马甲','关注的公司','文章id','是否精选文章','浏览文章时间','浏览时长','文章频道','文章类型','文章标签','文章图片数量','文章字数','新定位省','新定位市','评论内容','打赏金额','设备型号','使用网络']\n",
    "df.columns = column_list\n",
    "old_df = copy.deepcopy(df)"
   ]
  },
  {
   "cell_type": "code",
   "execution_count": null,
   "metadata": {},
   "outputs": [],
   "source": [
    "use_column_list = [\"用户id\",'行业',\"常驻省\",\"常驻市\",\"所在公司\",\"所处职位\",\"关注的公司\",\"新定位省\",\"新定位市\",\"浏览时长\",\"文章标签\",\"文章类型\",\"评论内容\"]"
   ]
  },
  {
   "cell_type": "code",
   "execution_count": null,
   "metadata": {},
   "outputs": [],
   "source": [
    "df = copy.deepcopy(old_df)"
   ]
  },
  {
   "cell_type": "code",
   "execution_count": null,
   "metadata": {},
   "outputs": [],
   "source": [
    "df = df[use_column_list]\n",
    "df"
   ]
  },
  {
   "cell_type": "markdown",
   "metadata": {},
   "source": [
    "# 数据分析"
   ]
  },
  {
   "cell_type": "code",
   "execution_count": null,
   "metadata": {},
   "outputs": [],
   "source": [
    "df.dropna(subset=[\"所处职位\"],inplace=True)\n",
    "df"
   ]
  },
  {
   "cell_type": "code",
   "execution_count": null,
   "metadata": {},
   "outputs": [],
   "source": [
    "df.fillna(\"\",inplace=True)"
   ]
  },
  {
   "cell_type": "code",
   "execution_count": null,
   "metadata": {},
   "outputs": [],
   "source": [
    "def temp_function(v):\n",
    "    if len(str(v)) >= 20 or str(v) == \"-1\":\n",
    "        return False\n",
    "    else:\n",
    "        return True"
   ]
  },
  {
   "cell_type": "code",
   "execution_count": null,
   "metadata": {},
   "outputs": [],
   "source": [
    "df = df[df[\"所处职位\"].apply(lambda x :temp_function(x))]"
   ]
  },
  {
   "cell_type": "code",
   "execution_count": null,
   "metadata": {},
   "outputs": [],
   "source": [
    "df"
   ]
  },
  {
   "cell_type": "code",
   "execution_count": null,
   "metadata": {},
   "outputs": [],
   "source": [
    "rule = re.compile(\"^[a-zA-z]{1}.*$\")\n",
    "\n",
    "def is_startswith_en(_str):\n",
    "    if rule.match(_str) is not None:\n",
    "        return True\n",
    "    else:\n",
    "        return False\n",
    "def is_num(_str):\n",
    "    if bool(re.search(r'\\d', _str)):\n",
    "        return True\n",
    "    else:\n",
    "        return False"
   ]
  },
  {
   "cell_type": "code",
   "execution_count": null,
   "metadata": {},
   "outputs": [],
   "source": [
    "def temp_function(v:str):\n",
    "    v = str(v)\n",
    "    res = False\n",
    "    if is_startswith_en(v):\n",
    "        pass\n",
    "    elif is_num(v):\n",
    "        res = True\n",
    "    else:\n",
    "        if (not \"小姐\" in v) and (not \"开票\" in v) and (not \"一夜情\" in v) and (not \"按摩\" in v) and (not \"会所\" in v) and \\\n",
    "        (not \"小妹\" in v) and (not \"q\" in v) and (not \"Q\" in v) and (not \"www\" in v) and (not \"出台\" in v) and \\\n",
    "         (not \"信用卡\" in v) and (not \"正妹\" in v) and (not \"com\" in v) and (not \"http\" in v) and (len(v) < 15) and (not \"微信\" in v):\n",
    "            res = True\n",
    "    return res"
   ]
  },
  {
   "cell_type": "code",
   "execution_count": null,
   "metadata": {},
   "outputs": [],
   "source": [
    "df = df[df[\"所处职位\"].apply(lambda x :temp_function(x))]"
   ]
  },
  {
   "cell_type": "code",
   "execution_count": null,
   "metadata": {},
   "outputs": [],
   "source": [
    "df"
   ]
  },
  {
   "cell_type": "code",
   "execution_count": null,
   "metadata": {},
   "outputs": [],
   "source": [
    "# replace_dict = {}\n",
    "# for v in boss_set:\n",
    "#     replace_dict[v] = '企业创始人/CEO'\n",
    "# for v in decison_set:\n",
    "#     replace_dict[v] = \"企业业务决策层\"\n",
    "# for v in common_decision_set:\n",
    "#     replace_dict[v] = \"企业一般管理人员\"\n",
    "# for v in shiye_staff_set:\n",
    "#     replace_dict[v] = \"企业普通员工\"\n",
    "# for v in staff_set:\n",
    "#     replace_dict[v] = \"事业单位员工\"\n",
    "# for v in student_set:\n",
    "#     replace_dict[v] = \"高校学生\"\n",
    "# for v in freedom_set:\n",
    "#     replace_dict[v] = \"自由职业\"\n"
   ]
  },
  {
   "cell_type": "code",
   "execution_count": null,
   "metadata": {},
   "outputs": [],
   "source": [
    "# train_df = df[df['所处职位'].apply(lambda x : x in xxx_set)]"
   ]
  },
  {
   "cell_type": "code",
   "execution_count": null,
   "metadata": {},
   "outputs": [],
   "source": [
    "# df['所处职位'].replace(replace_dict,inplace=False)"
   ]
  },
  {
   "cell_type": "code",
   "execution_count": null,
   "metadata": {},
   "outputs": [],
   "source": [
    "v_list = [str(v) for v in df[\"所处职位\"].unique()]"
   ]
  },
  {
   "cell_type": "code",
   "execution_count": null,
   "metadata": {},
   "outputs": [],
   "source": [
    "v_list"
   ]
  },
  {
   "cell_type": "code",
   "execution_count": null,
   "metadata": {},
   "outputs": [],
   "source": [
    "# 企业创始人/CEO\n",
    "original_set = set(v_list)\n",
    "boss_list = [\"创始人\", \"ceo\", \"CEO\", \"合伙人\", \"老板\", \"董事\", \"主席\", \"股东\", \"总裁\", \"总经理\",\"副总经理\"]\n",
    "boss_set = set()\n",
    "for i in list(original_set):\n",
    "    for j in boss_list:\n",
    "        if re.search(j, i):\n",
    "            boss_set.add(i)\n",
    "            original_set.remove(i)\n",
    "            break"
   ]
  },
  {
   "cell_type": "code",
   "execution_count": null,
   "metadata": {},
   "outputs": [],
   "source": [
    "# 企业业务决策层\n",
    "decison_list = [\"首席\", \"副总\",\"经理\",\"CTO\", \"CMO\", \"CFO\", \"cto\", \"cmo\", \"cfo\"]\n",
    "decison_set = set()\n",
    "for i in list(original_set):\n",
    "    for j in decison_list:\n",
    "        if re.search(j, i):\n",
    "            decison_set.add(i)\n",
    "            original_set.remove(i)\n",
    "            break\n"
   ]
  },
  {
   "cell_type": "code",
   "execution_count": null,
   "metadata": {},
   "outputs": [],
   "source": [
    "# 企业一般管理人员\n",
    "common_decision_list = [\"总监\", \"主管\", \"负责人\", \"主编\",]\n",
    "common_decision_set = set()\n",
    "for i in list(original_set):\n",
    "    for j in common_decision_list:\n",
    "        if re.search(j, i):\n",
    "            common_decision_set.add(i)\n",
    "            original_set.remove(i)\n",
    "            break\n"
   ]
  },
  {
   "cell_type": "code",
   "execution_count": null,
   "metadata": {},
   "outputs": [],
   "source": [
    "#  事业单位员工\n",
    "shiye_staff_list = [\"银行\", \"职员\", \"老师\", \"教授\", \"医生\", \"律师\", \"护士\", \"主任\", \"处长\",\"研究院\",'委',\"局\"]\n",
    "shiye_staff_set = set()\n",
    "for i in list(original_set):\n",
    "    for j in shiye_staff_list:\n",
    "        if re.search(j, i):\n",
    "            shiye_staff_set.add(i)\n",
    "            original_set.remove(i)\n",
    "            break\n"
   ]
  },
  {
   "cell_type": "code",
   "execution_count": null,
   "metadata": {},
   "outputs": [],
   "source": [
    "# 企业普通员工\n",
    "staff_list = [\"工程师\", \"员\", \"编辑\", \"运营\", \"助理\", \"销售\", \"司机\", \"顾问\", \"记者\", \"分析师\", \"秘书\", \"会计\",\"师\",\"策划\",\"工\",\"编\", \"实习生\",\"研发\",\"技术\"\n",
    "             \"推广\", \"公关\",\"市场\",\"产品\",\"测试\",\"运维\",\"物流\",\"前端\",\"后端\", \"研发\",\"技术\",\"指导\",\"专家\",\"分析\",\"研究\",\"广告\",\"咨询\"]\n",
    "staff_set = set()\n",
    "for i in list(original_set):\n",
    "    for j in staff_list:\n",
    "        if re.search(j, i):\n",
    "            staff_set.add(i)\n",
    "            original_set.remove(i)\n",
    "            break\n"
   ]
  },
  {
   "cell_type": "code",
   "execution_count": null,
   "metadata": {},
   "outputs": [],
   "source": [
    "# 高校学生\n",
    "student_list = [\"本科生\", \"大一\", \"大二\", \"大三\", \"大四\", \"研究生\", \"博士\",\"学生\"]\n",
    "student_set = set()\n",
    "for i in list(original_set):\n",
    "    for j in student_list:\n",
    "        if re.search(j, i):\n",
    "            student_set.add(i)\n",
    "            original_set.remove(i)\n",
    "            break\n"
   ]
  },
  {
   "cell_type": "code",
   "execution_count": null,
   "metadata": {},
   "outputs": [],
   "source": [
    "# 自由职业者\n",
    "freedom_list = [\"自\", \"自由\"]\n",
    "freedom_set = set()\n",
    "for i in list(original_set):\n",
    "    for j in freedom_list:\n",
    "        if re.search(j, i):\n",
    "            freedom_set.add(i)\n",
    "            original_set.remove(i)\n",
    "            break\n"
   ]
  },
  {
   "cell_type": "code",
   "execution_count": null,
   "metadata": {},
   "outputs": [],
   "source": [
    "original_set\n",
    "original_list01 = list(original_set)\n",
    "original_list01"
   ]
  },
  {
   "cell_type": "code",
   "execution_count": 40,
   "metadata": {},
   "outputs": [],
   "source": [
    "replace_dict = {}\n",
    "for v in boss_set:\n",
    "    replace_dict[v] = '企业创始人/CEO'\n",
    "for v in decison_set:\n",
    "    replace_dict[v] = \"企业业务决策层\"\n",
    "for v in common_decision_set:\n",
    "    replace_dict[v] = \"企业一般管理人员\"\n",
    "for v in shiye_staff_set:\n",
    "    replace_dict[v] = \"企业普通员工\"\n",
    "for v in staff_set:\n",
    "    replace_dict[v] = \"事业单位员工\"\n",
    "for v in student_set:\n",
    "    replace_dict[v] = \"高校学生\"\n",
    "for v in freedom_set:\n",
    "    replace_dict[v] = \"自由职业\"    "
   ]
  },
  {
   "cell_type": "code",
   "execution_count": null,
   "metadata": {},
   "outputs": [],
   "source": []
  },
  {
   "cell_type": "code",
   "execution_count": 41,
   "metadata": {},
   "outputs": [
    {
     "name": "stderr",
     "output_type": "stream",
     "text": [
      "/home/zhangwanli/anaconda3/lib/python3.7/site-packages/pandas/core/generic.py:6746: SettingWithCopyWarning: \n",
      "A value is trying to be set on a copy of a slice from a DataFrame\n",
      "\n",
      "See the caveats in the documentation: https://pandas.pydata.org/pandas-docs/stable/user_guide/indexing.html#returning-a-view-versus-a-copy\n",
      "  self._update_inplace(new_data)\n"
     ]
    }
   ],
   "source": [
    "df['所处职位'].replace(replace_dict,inplace=True)"
   ]
  },
  {
   "cell_type": "code",
   "execution_count": 42,
   "metadata": {},
   "outputs": [
    {
     "data": {
      "text/html": [
       "<div>\n",
       "<style scoped>\n",
       "    .dataframe tbody tr th:only-of-type {\n",
       "        vertical-align: middle;\n",
       "    }\n",
       "\n",
       "    .dataframe tbody tr th {\n",
       "        vertical-align: top;\n",
       "    }\n",
       "\n",
       "    .dataframe thead th {\n",
       "        text-align: right;\n",
       "    }\n",
       "</style>\n",
       "<table border=\"1\" class=\"dataframe\">\n",
       "  <thead>\n",
       "    <tr style=\"text-align: right;\">\n",
       "      <th></th>\n",
       "      <th>用户id</th>\n",
       "      <th>行业</th>\n",
       "      <th>常驻省</th>\n",
       "      <th>常驻市</th>\n",
       "      <th>所在公司</th>\n",
       "      <th>所处职位</th>\n",
       "      <th>关注的公司</th>\n",
       "      <th>新定位省</th>\n",
       "      <th>新定位市</th>\n",
       "      <th>浏览时长</th>\n",
       "      <th>文章标签</th>\n",
       "      <th>文章类型</th>\n",
       "      <th>评论内容</th>\n",
       "    </tr>\n",
       "  </thead>\n",
       "  <tbody>\n",
       "    <tr>\n",
       "      <th>10253</th>\n",
       "      <td>100078</td>\n",
       "      <td>-1</td>\n",
       "      <td>-1</td>\n",
       "      <td>-1</td>\n",
       "      <td>厦门房网</td>\n",
       "      <td>事业单位员工</td>\n",
       "      <td>-1</td>\n",
       "      <td>-1</td>\n",
       "      <td>-1</td>\n",
       "      <td>-1</td>\n",
       "      <td>-1</td>\n",
       "      <td>-1</td>\n",
       "      <td>-1</td>\n",
       "    </tr>\n",
       "    <tr>\n",
       "      <th>10739</th>\n",
       "      <td>10025</td>\n",
       "      <td>-1</td>\n",
       "      <td>-1</td>\n",
       "      <td>-1</td>\n",
       "      <td>片刻</td>\n",
       "      <td>企业业务决策层</td>\n",
       "      <td>-1</td>\n",
       "      <td>-1</td>\n",
       "      <td>-1</td>\n",
       "      <td>-1</td>\n",
       "      <td>-1</td>\n",
       "      <td>-1</td>\n",
       "      <td>-1</td>\n",
       "    </tr>\n",
       "    <tr>\n",
       "      <th>10936</th>\n",
       "      <td>10032</td>\n",
       "      <td>-1</td>\n",
       "      <td>-1</td>\n",
       "      <td>-1</td>\n",
       "      <td>巨象网</td>\n",
       "      <td>事业单位员工</td>\n",
       "      <td>-1</td>\n",
       "      <td>-1</td>\n",
       "      <td>-1</td>\n",
       "      <td>-1</td>\n",
       "      <td>-1</td>\n",
       "      <td>-1</td>\n",
       "      <td>-1</td>\n",
       "    </tr>\n",
       "    <tr>\n",
       "      <th>11509</th>\n",
       "      <td>100526</td>\n",
       "      <td>-1</td>\n",
       "      <td>-1</td>\n",
       "      <td>-1</td>\n",
       "      <td>676787</td>\n",
       "      <td>39209934</td>\n",
       "      <td>-1</td>\n",
       "      <td>-1</td>\n",
       "      <td>-1</td>\n",
       "      <td>-1</td>\n",
       "      <td>-1</td>\n",
       "      <td>-1</td>\n",
       "      <td>-1</td>\n",
       "    </tr>\n",
       "    <tr>\n",
       "      <th>11857</th>\n",
       "      <td>10065</td>\n",
       "      <td>-1</td>\n",
       "      <td>-1</td>\n",
       "      <td>-1</td>\n",
       "      <td>govmade</td>\n",
       "      <td>小二</td>\n",
       "      <td>-1</td>\n",
       "      <td>-1</td>\n",
       "      <td>-1</td>\n",
       "      <td>-1</td>\n",
       "      <td>-1</td>\n",
       "      <td>-1</td>\n",
       "      <td>-1</td>\n",
       "    </tr>\n",
       "    <tr>\n",
       "      <th>...</th>\n",
       "      <td>...</td>\n",
       "      <td>...</td>\n",
       "      <td>...</td>\n",
       "      <td>...</td>\n",
       "      <td>...</td>\n",
       "      <td>...</td>\n",
       "      <td>...</td>\n",
       "      <td>...</td>\n",
       "      <td>...</td>\n",
       "      <td>...</td>\n",
       "      <td>...</td>\n",
       "      <td>...</td>\n",
       "      <td>...</td>\n",
       "    </tr>\n",
       "    <tr>\n",
       "      <th>14634509</th>\n",
       "      <td>98</td>\n",
       "      <td>-1</td>\n",
       "      <td>-1</td>\n",
       "      <td>-1</td>\n",
       "      <td>汉森供应链、农特集团</td>\n",
       "      <td>企业创始人/CEO</td>\n",
       "      <td>-1</td>\n",
       "      <td>-1</td>\n",
       "      <td>-1</td>\n",
       "      <td>-1</td>\n",
       "      <td>-1</td>\n",
       "      <td>-1</td>\n",
       "      <td>-1</td>\n",
       "    </tr>\n",
       "    <tr>\n",
       "      <th>14634976</th>\n",
       "      <td>98149</td>\n",
       "      <td>-1</td>\n",
       "      <td>-1</td>\n",
       "      <td>-1</td>\n",
       "      <td>拜耳材料科技</td>\n",
       "      <td>企业业务决策层</td>\n",
       "      <td>-1</td>\n",
       "      <td>-1</td>\n",
       "      <td>-1</td>\n",
       "      <td>-1</td>\n",
       "      <td>-1</td>\n",
       "      <td>-1</td>\n",
       "      <td>-1</td>\n",
       "    </tr>\n",
       "    <tr>\n",
       "      <th>14642274</th>\n",
       "      <td>99083</td>\n",
       "      <td>-1</td>\n",
       "      <td>-1</td>\n",
       "      <td>-1</td>\n",
       "      <td>鸿富锦精密工业</td>\n",
       "      <td>事业单位员工</td>\n",
       "      <td>-1</td>\n",
       "      <td>-1</td>\n",
       "      <td>-1</td>\n",
       "      <td>-1</td>\n",
       "      <td>-1</td>\n",
       "      <td>-1</td>\n",
       "      <td>-1</td>\n",
       "    </tr>\n",
       "    <tr>\n",
       "      <th>14643119</th>\n",
       "      <td>99245</td>\n",
       "      <td>-1</td>\n",
       "      <td>-1</td>\n",
       "      <td>-1</td>\n",
       "      <td>895457470</td>\n",
       "      <td>9000043</td>\n",
       "      <td>-1</td>\n",
       "      <td>-1</td>\n",
       "      <td>-1</td>\n",
       "      <td>-1</td>\n",
       "      <td>-1</td>\n",
       "      <td>-1</td>\n",
       "      <td>-1</td>\n",
       "    </tr>\n",
       "    <tr>\n",
       "      <th>14643131</th>\n",
       "      <td>99249</td>\n",
       "      <td>-1</td>\n",
       "      <td>-1</td>\n",
       "      <td>-1</td>\n",
       "      <td>39147574</td>\n",
       "      <td>3061227</td>\n",
       "      <td>-1</td>\n",
       "      <td>-1</td>\n",
       "      <td>-1</td>\n",
       "      <td>-1</td>\n",
       "      <td>-1</td>\n",
       "      <td>-1</td>\n",
       "      <td>-1</td>\n",
       "    </tr>\n",
       "  </tbody>\n",
       "</table>\n",
       "<p>175247 rows × 13 columns</p>\n",
       "</div>"
      ],
      "text/plain": [
       "            用户id  行业  常驻省  常驻市        所在公司       所处职位 关注的公司 新定位省 新定位市 浏览时长  \\\n",
       "10253     100078  -1   -1   -1        厦门房网     事业单位员工    -1   -1   -1   -1   \n",
       "10739      10025  -1   -1   -1          片刻    企业业务决策层    -1   -1   -1   -1   \n",
       "10936      10032  -1   -1   -1         巨象网     事业单位员工    -1   -1   -1   -1   \n",
       "11509     100526  -1   -1   -1      676787   39209934    -1   -1   -1   -1   \n",
       "11857      10065  -1   -1   -1     govmade         小二    -1   -1   -1   -1   \n",
       "...          ...  ..  ...  ...         ...        ...   ...  ...  ...  ...   \n",
       "14634509      98  -1   -1   -1  汉森供应链、农特集团  企业创始人/CEO    -1   -1   -1   -1   \n",
       "14634976   98149  -1   -1   -1      拜耳材料科技    企业业务决策层    -1   -1   -1   -1   \n",
       "14642274   99083  -1   -1   -1     鸿富锦精密工业     事业单位员工    -1   -1   -1   -1   \n",
       "14643119   99245  -1   -1   -1   895457470    9000043    -1   -1   -1   -1   \n",
       "14643131   99249  -1   -1   -1    39147574    3061227    -1   -1   -1   -1   \n",
       "\n",
       "         文章标签 文章类型 评论内容  \n",
       "10253      -1   -1   -1  \n",
       "10739      -1   -1   -1  \n",
       "10936      -1   -1   -1  \n",
       "11509      -1   -1   -1  \n",
       "11857      -1   -1   -1  \n",
       "...       ...  ...  ...  \n",
       "14634509   -1   -1   -1  \n",
       "14634976   -1   -1   -1  \n",
       "14642274   -1   -1   -1  \n",
       "14643119   -1   -1   -1  \n",
       "14643131   -1   -1   -1  \n",
       "\n",
       "[175247 rows x 13 columns]"
      ]
     },
     "execution_count": 42,
     "metadata": {},
     "output_type": "execute_result"
    }
   ],
   "source": [
    "df"
   ]
  },
  {
   "cell_type": "code",
   "execution_count": 43,
   "metadata": {},
   "outputs": [],
   "source": [
    "career_list = ['企业创始人/CEO', \"企业业务决策层\", \"企业一般管理人员\", \"企业普通员工\",\"事业单位员工\",\"高校学生\",\"自由职业\" ]"
   ]
  },
  {
   "cell_type": "code",
   "execution_count": 44,
   "metadata": {},
   "outputs": [
    {
     "data": {
      "text/html": [
       "<div>\n",
       "<style scoped>\n",
       "    .dataframe tbody tr th:only-of-type {\n",
       "        vertical-align: middle;\n",
       "    }\n",
       "\n",
       "    .dataframe tbody tr th {\n",
       "        vertical-align: top;\n",
       "    }\n",
       "\n",
       "    .dataframe thead th {\n",
       "        text-align: right;\n",
       "    }\n",
       "</style>\n",
       "<table border=\"1\" class=\"dataframe\">\n",
       "  <thead>\n",
       "    <tr style=\"text-align: right;\">\n",
       "      <th></th>\n",
       "      <th>用户id</th>\n",
       "      <th>行业</th>\n",
       "      <th>常驻省</th>\n",
       "      <th>常驻市</th>\n",
       "      <th>所在公司</th>\n",
       "      <th>所处职位</th>\n",
       "      <th>关注的公司</th>\n",
       "      <th>新定位省</th>\n",
       "      <th>新定位市</th>\n",
       "      <th>浏览时长</th>\n",
       "      <th>文章标签</th>\n",
       "      <th>文章类型</th>\n",
       "      <th>评论内容</th>\n",
       "    </tr>\n",
       "  </thead>\n",
       "  <tbody>\n",
       "    <tr>\n",
       "      <th>10253</th>\n",
       "      <td>100078</td>\n",
       "      <td>-1</td>\n",
       "      <td>-1</td>\n",
       "      <td>-1</td>\n",
       "      <td>厦门房网</td>\n",
       "      <td>事业单位员工</td>\n",
       "      <td>-1</td>\n",
       "      <td>-1</td>\n",
       "      <td>-1</td>\n",
       "      <td>-1</td>\n",
       "      <td>-1</td>\n",
       "      <td>-1</td>\n",
       "      <td>-1</td>\n",
       "    </tr>\n",
       "    <tr>\n",
       "      <th>10739</th>\n",
       "      <td>10025</td>\n",
       "      <td>-1</td>\n",
       "      <td>-1</td>\n",
       "      <td>-1</td>\n",
       "      <td>片刻</td>\n",
       "      <td>企业业务决策层</td>\n",
       "      <td>-1</td>\n",
       "      <td>-1</td>\n",
       "      <td>-1</td>\n",
       "      <td>-1</td>\n",
       "      <td>-1</td>\n",
       "      <td>-1</td>\n",
       "      <td>-1</td>\n",
       "    </tr>\n",
       "    <tr>\n",
       "      <th>10936</th>\n",
       "      <td>10032</td>\n",
       "      <td>-1</td>\n",
       "      <td>-1</td>\n",
       "      <td>-1</td>\n",
       "      <td>巨象网</td>\n",
       "      <td>事业单位员工</td>\n",
       "      <td>-1</td>\n",
       "      <td>-1</td>\n",
       "      <td>-1</td>\n",
       "      <td>-1</td>\n",
       "      <td>-1</td>\n",
       "      <td>-1</td>\n",
       "      <td>-1</td>\n",
       "    </tr>\n",
       "    <tr>\n",
       "      <th>12227</th>\n",
       "      <td>100782</td>\n",
       "      <td>-1</td>\n",
       "      <td>-1</td>\n",
       "      <td>-1</td>\n",
       "      <td>阿里巴巴</td>\n",
       "      <td>事业单位员工</td>\n",
       "      <td>-1</td>\n",
       "      <td>-1</td>\n",
       "      <td>-1</td>\n",
       "      <td>-1</td>\n",
       "      <td>-1</td>\n",
       "      <td>-1</td>\n",
       "      <td>-1</td>\n",
       "    </tr>\n",
       "    <tr>\n",
       "      <th>13581</th>\n",
       "      <td>101259</td>\n",
       "      <td>-1</td>\n",
       "      <td>-1</td>\n",
       "      <td>-1</td>\n",
       "      <td>宜信惠琮国际融资租赁有限公司</td>\n",
       "      <td>企业业务决策层</td>\n",
       "      <td>-1</td>\n",
       "      <td>-1</td>\n",
       "      <td>-1</td>\n",
       "      <td>-1</td>\n",
       "      <td>-1</td>\n",
       "      <td>-1</td>\n",
       "      <td>-1</td>\n",
       "    </tr>\n",
       "    <tr>\n",
       "      <th>...</th>\n",
       "      <td>...</td>\n",
       "      <td>...</td>\n",
       "      <td>...</td>\n",
       "      <td>...</td>\n",
       "      <td>...</td>\n",
       "      <td>...</td>\n",
       "      <td>...</td>\n",
       "      <td>...</td>\n",
       "      <td>...</td>\n",
       "      <td>...</td>\n",
       "      <td>...</td>\n",
       "      <td>...</td>\n",
       "      <td>...</td>\n",
       "    </tr>\n",
       "    <tr>\n",
       "      <th>14627692</th>\n",
       "      <td>97089</td>\n",
       "      <td>-1</td>\n",
       "      <td>-1</td>\n",
       "      <td>-1</td>\n",
       "      <td>广东顺德时代易家电子商务有限公司</td>\n",
       "      <td>企业一般管理人员</td>\n",
       "      <td>-1</td>\n",
       "      <td>-1</td>\n",
       "      <td>-1</td>\n",
       "      <td>-1</td>\n",
       "      <td>-1</td>\n",
       "      <td>-1</td>\n",
       "      <td>-1</td>\n",
       "    </tr>\n",
       "    <tr>\n",
       "      <th>14631235</th>\n",
       "      <td>97977</td>\n",
       "      <td>-1</td>\n",
       "      <td>-1</td>\n",
       "      <td>-1</td>\n",
       "      <td>兰博基尼</td>\n",
       "      <td>企业业务决策层</td>\n",
       "      <td>-1</td>\n",
       "      <td>-1</td>\n",
       "      <td>-1</td>\n",
       "      <td>-1</td>\n",
       "      <td>-1</td>\n",
       "      <td>-1</td>\n",
       "      <td>-1</td>\n",
       "    </tr>\n",
       "    <tr>\n",
       "      <th>14634509</th>\n",
       "      <td>98</td>\n",
       "      <td>-1</td>\n",
       "      <td>-1</td>\n",
       "      <td>-1</td>\n",
       "      <td>汉森供应链、农特集团</td>\n",
       "      <td>企业创始人/CEO</td>\n",
       "      <td>-1</td>\n",
       "      <td>-1</td>\n",
       "      <td>-1</td>\n",
       "      <td>-1</td>\n",
       "      <td>-1</td>\n",
       "      <td>-1</td>\n",
       "      <td>-1</td>\n",
       "    </tr>\n",
       "    <tr>\n",
       "      <th>14634976</th>\n",
       "      <td>98149</td>\n",
       "      <td>-1</td>\n",
       "      <td>-1</td>\n",
       "      <td>-1</td>\n",
       "      <td>拜耳材料科技</td>\n",
       "      <td>企业业务决策层</td>\n",
       "      <td>-1</td>\n",
       "      <td>-1</td>\n",
       "      <td>-1</td>\n",
       "      <td>-1</td>\n",
       "      <td>-1</td>\n",
       "      <td>-1</td>\n",
       "      <td>-1</td>\n",
       "    </tr>\n",
       "    <tr>\n",
       "      <th>14642274</th>\n",
       "      <td>99083</td>\n",
       "      <td>-1</td>\n",
       "      <td>-1</td>\n",
       "      <td>-1</td>\n",
       "      <td>鸿富锦精密工业</td>\n",
       "      <td>事业单位员工</td>\n",
       "      <td>-1</td>\n",
       "      <td>-1</td>\n",
       "      <td>-1</td>\n",
       "      <td>-1</td>\n",
       "      <td>-1</td>\n",
       "      <td>-1</td>\n",
       "      <td>-1</td>\n",
       "    </tr>\n",
       "  </tbody>\n",
       "</table>\n",
       "<p>110568 rows × 13 columns</p>\n",
       "</div>"
      ],
      "text/plain": [
       "            用户id  行业  常驻省  常驻市              所在公司       所处职位 关注的公司 新定位省 新定位市  \\\n",
       "10253     100078  -1   -1   -1              厦门房网     事业单位员工    -1   -1   -1   \n",
       "10739      10025  -1   -1   -1                片刻    企业业务决策层    -1   -1   -1   \n",
       "10936      10032  -1   -1   -1               巨象网     事业单位员工    -1   -1   -1   \n",
       "12227     100782  -1   -1   -1              阿里巴巴     事业单位员工    -1   -1   -1   \n",
       "13581     101259  -1   -1   -1    宜信惠琮国际融资租赁有限公司    企业业务决策层    -1   -1   -1   \n",
       "...          ...  ..  ...  ...               ...        ...   ...  ...  ...   \n",
       "14627692   97089  -1   -1   -1  广东顺德时代易家电子商务有限公司   企业一般管理人员    -1   -1   -1   \n",
       "14631235   97977  -1   -1   -1              兰博基尼    企业业务决策层    -1   -1   -1   \n",
       "14634509      98  -1   -1   -1        汉森供应链、农特集团  企业创始人/CEO    -1   -1   -1   \n",
       "14634976   98149  -1   -1   -1            拜耳材料科技    企业业务决策层    -1   -1   -1   \n",
       "14642274   99083  -1   -1   -1           鸿富锦精密工业     事业单位员工    -1   -1   -1   \n",
       "\n",
       "         浏览时长 文章标签 文章类型 评论内容  \n",
       "10253      -1   -1   -1   -1  \n",
       "10739      -1   -1   -1   -1  \n",
       "10936      -1   -1   -1   -1  \n",
       "12227      -1   -1   -1   -1  \n",
       "13581      -1   -1   -1   -1  \n",
       "...       ...  ...  ...  ...  \n",
       "14627692   -1   -1   -1   -1  \n",
       "14631235   -1   -1   -1   -1  \n",
       "14634509   -1   -1   -1   -1  \n",
       "14634976   -1   -1   -1   -1  \n",
       "14642274   -1   -1   -1   -1  \n",
       "\n",
       "[110568 rows x 13 columns]"
      ]
     },
     "execution_count": 44,
     "metadata": {},
     "output_type": "execute_result"
    }
   ],
   "source": [
    "train_df = df[df['所处职位'].apply(lambda x : x in career_list)]\n",
    "train_df"
   ]
  },
  {
   "cell_type": "code",
   "execution_count": null,
   "metadata": {},
   "outputs": [],
   "source": [
    "list1 = train_df[\"所处职位\"].values.tolist()\n",
    "dict(zip(*np.unique(list1, return_counts=True)))"
   ]
  },
  {
   "cell_type": "code",
   "execution_count": null,
   "metadata": {},
   "outputs": [],
   "source": [
    "train_df[\"行业\"].unique()"
   ]
  },
  {
   "cell_type": "code",
   "execution_count": null,
   "metadata": {},
   "outputs": [],
   "source": [
    "train_df[\"常驻省\"].unique()"
   ]
  },
  {
   "cell_type": "code",
   "execution_count": null,
   "metadata": {},
   "outputs": [],
   "source": [
    "train_df[\"浏览时长\"].unique()"
   ]
  },
  {
   "cell_type": "code",
   "execution_count": null,
   "metadata": {},
   "outputs": [],
   "source": [
    "train_df[\"常驻市\"].unique()"
   ]
  },
  {
   "cell_type": "code",
   "execution_count": null,
   "metadata": {},
   "outputs": [],
   "source": [
    "train_df[\"关注的公司\"].unique()"
   ]
  },
  {
   "cell_type": "code",
   "execution_count": null,
   "metadata": {},
   "outputs": [],
   "source": [
    "train_df[\"新定位省\"].unique()"
   ]
  },
  {
   "cell_type": "code",
   "execution_count": null,
   "metadata": {},
   "outputs": [],
   "source": [
    "train_df[\"新定位市\"].unique()"
   ]
  },
  {
   "cell_type": "code",
   "execution_count": null,
   "metadata": {},
   "outputs": [],
   "source": [
    "train_df[\"文章标签\"].unique()"
   ]
  },
  {
   "cell_type": "code",
   "execution_count": null,
   "metadata": {},
   "outputs": [],
   "source": [
    "train_df[\"文章类型\"].unique()"
   ]
  },
  {
   "cell_type": "code",
   "execution_count": null,
   "metadata": {},
   "outputs": [],
   "source": [
    "train_df = train_df[[\"用户id\",\"所处职位\", \"关注的公司\",\"行业\"]]\n",
    "\n",
    "train_df"
   ]
  },
  {
   "cell_type": "code",
   "execution_count": null,
   "metadata": {},
   "outputs": [],
   "source": [
    "train_df.fillna(\"\",inplace=True)"
   ]
  },
  {
   "cell_type": "code",
   "execution_count": null,
   "metadata": {},
   "outputs": [],
   "source": [
    "train_df[\"关注的公司\"] = train_df[\"关注的公司\"].apply(lambda x : str(x))\n",
    "train_df[\"行业\"] = train_df[\"行业\"].apply(lambda x : str(x))\n",
    "train_df"
   ]
  },
  {
   "cell_type": "code",
   "execution_count": null,
   "metadata": {},
   "outputs": [],
   "source": [
    "train_df[\"关注的公司\"].unique()"
   ]
  },
  {
   "cell_type": "code",
   "execution_count": null,
   "metadata": {},
   "outputs": [],
   "source": [
    "train_df[\"行业\"].unique()"
   ]
  },
  {
   "cell_type": "code",
   "execution_count": 33,
   "metadata": {},
   "outputs": [],
   "source": [
    "use_column_list =[\"用户id\",\"所处职位\",\"关注的公司\",\"行业\"]\n",
    "y_col = \"所处职位\""
   ]
  },
  {
   "cell_type": "code",
   "execution_count": null,
   "metadata": {},
   "outputs": [],
   "source": [
    "#训练数据\n",
    "multi_hot_column_odict = collections.OrderedDict()\n",
    "\n",
    "multi_hot_column_set = set([v for v in use_column_list if v != y_col and v!=\"用户id\"])\n",
    "for i,column in enumerate(multi_hot_column_set):\n",
    "    multi_hot_column_odict[column] = sklearn.preprocessing.MultiLabelBinarizer()\n",
    "    split_column_list = [item.split(\",\") if isinstance(item,str) else str(item) for item in train_df[column]]\n",
    "    #multi_hot_column_odict[column].fit(split_column_list)\n",
    "    train_df[column] = multi_hot_column_odict[column].fit_transform(split_column_list).tolist()"
   ]
  },
  {
   "cell_type": "code",
   "execution_count": null,
   "metadata": {},
   "outputs": [],
   "source": [
    "%%time\n",
    "y_onehot = sklearn.preprocessing.LabelBinarizer()\n",
    "y_onehot.fit(train_df[y_col])\n"
   ]
  },
  {
   "cell_type": "code",
   "execution_count": null,
   "metadata": {},
   "outputs": [],
   "source": [
    "y_onehot.transform(train_df[y_col]).tolist()"
   ]
  },
  {
   "cell_type": "code",
   "execution_count": null,
   "metadata": {},
   "outputs": [],
   "source": [
    "y_onehot.transform(['事业单位员工'])"
   ]
  },
  {
   "cell_type": "code",
   "execution_count": null,
   "metadata": {},
   "outputs": [],
   "source": [
    "y_onehot.inverse_transform(np.array([[1, 0, 0, 0, 0, 0, 0]]))"
   ]
  },
  {
   "cell_type": "code",
   "execution_count": null,
   "metadata": {},
   "outputs": [],
   "source": [
    "y_onehot.inverse_transform(np.array([[0.6, 0.4, 0, 0, 0, 0, 0]])).tolist()[0]"
   ]
  },
  {
   "cell_type": "code",
   "execution_count": null,
   "metadata": {},
   "outputs": [],
   "source": [
    "train_df[y_col] = y_onehot.transform(train_df[y_col]).tolist()"
   ]
  },
  {
   "cell_type": "code",
   "execution_count": null,
   "metadata": {},
   "outputs": [],
   "source": [
    "train_df"
   ]
  },
  {
   "cell_type": "code",
   "execution_count": null,
   "metadata": {},
   "outputs": [],
   "source": [
    "for k,v in multi_hot_column_odict.items():\n",
    "    print(k,len(v.classes_))"
   ]
  },
  {
   "cell_type": "code",
   "execution_count": null,
   "metadata": {},
   "outputs": [],
   "source": [
    "train, test = sklearn.model_selection.train_test_split(train_df, test_size=0.2)\n",
    "train, val = sklearn.model_selection.train_test_split(train, test_size=0.2)\n",
    "print(len(train), 'train examples')\n",
    "print(len(val), 'validation examples')\n",
    "print(len(test), 'test examples')"
   ]
  },
  {
   "cell_type": "code",
   "execution_count": null,
   "metadata": {},
   "outputs": [],
   "source": [
    "def generate_xy(data_df, y_col, multi_hot_column_odict, shuffle=True):\n",
    "    \"\"\"\"\"\"\n",
    "    x_df = data_df.copy()\n",
    "    x_list = []\n",
    "    y_list = []\n",
    "    for i,index in enumerate(x_df.index):\n",
    "        temp_x_list = np.concatenate(x_df.loc[index,[column for column in multi_hot_column_odict]]).tolist()\n",
    "        temp_y_list = x_df.loc[index,y_col]\n",
    "        x_list.append(temp_x_list)\n",
    "        y_list.append(temp_y_list)\n",
    "        if i % 10000 == 0:\n",
    "            print(i)\n",
    "    return np.array(x_list,dtype=np.float32), np.array(y_list,dtype=np.int32)"
   ]
  },
  {
   "cell_type": "code",
   "execution_count": null,
   "metadata": {},
   "outputs": [],
   "source": [
    "%%time\n",
    "x_train,y_train = generate_xy(train,y_col,multi_hot_column_odict)\n",
    "x_vali,y_valid = generate_xy(val,y_col,multi_hot_column_odict)\n",
    "x_test,y_test = generate_xy(test,y_col,multi_hot_column_odict)"
   ]
  },
  {
   "cell_type": "code",
   "execution_count": null,
   "metadata": {},
   "outputs": [],
   "source": [
    "input_dim = 0\n",
    "for k,v in  multi_hot_column_odict.items():\n",
    "    input_dim += len(v.classes_)\n",
    "input_dim"
   ]
  },
  {
   "cell_type": "code",
   "execution_count": null,
   "metadata": {},
   "outputs": [],
   "source": [
    "y_dim = len(y_onehot.classes_)\n",
    "y_dim"
   ]
  },
  {
   "cell_type": "code",
   "execution_count": null,
   "metadata": {},
   "outputs": [],
   "source": [
    "model = tf.keras.models.Sequential()\n",
    "model.add(tf.keras.layers.Input(shape=(input_dim,)))\n",
    "model.add(tf.keras.layers.Dense(y_dim, activation='softmax',use_bias=True,\n",
    "                                #kernel_regularizer=tf.keras.regularizers.l1(0.01)\n",
    "                               ))\n",
    "model.compile(optimizer=tf.keras.optimizers.Adam(learning_rate=1e-3),\n",
    "              loss=tf.keras.losses.CategoricalCrossentropy(), \n",
    "              metrics=[tf.keras.metrics.CategoricalAccuracy()])"
   ]
  },
  {
   "cell_type": "code",
   "execution_count": null,
   "metadata": {},
   "outputs": [],
   "source": [
    "model.summary()"
   ]
  },
  {
   "cell_type": "code",
   "execution_count": null,
   "metadata": {},
   "outputs": [],
   "source": [
    "x_train"
   ]
  },
  {
   "cell_type": "code",
   "execution_count": null,
   "metadata": {},
   "outputs": [],
   "source": [
    "collections.Counter([str(v) for v in y_train])"
   ]
  },
  {
   "cell_type": "code",
   "execution_count": null,
   "metadata": {},
   "outputs": [],
   "source": [
    "model.fit(x_train, \n",
    "          y_train, \n",
    "          batch_size=64,\n",
    "          epochs=20,\n",
    "         validation_data = (x_vali,y_valid))"
   ]
  },
  {
   "cell_type": "code",
   "execution_count": null,
   "metadata": {},
   "outputs": [],
   "source": [
    "#保存模型\n",
    "with open(\"multi_hot_column_odict.pkl\",\"wb\") as f:\n",
    "    pickle.dump(multi_hot_column_odict,f)\n",
    "with open(\"y_onehot.pkl\",\"wb\") as f:\n",
    "    pickle.dump(y_onehot,f)\n",
    "model.save(\"model_output\")"
   ]
  },
  {
   "cell_type": "code",
   "execution_count": 52,
   "metadata": {},
   "outputs": [
    {
     "data": {
      "text/html": [
       "<div>\n",
       "<style scoped>\n",
       "    .dataframe tbody tr th:only-of-type {\n",
       "        vertical-align: middle;\n",
       "    }\n",
       "\n",
       "    .dataframe tbody tr th {\n",
       "        vertical-align: top;\n",
       "    }\n",
       "\n",
       "    .dataframe thead th {\n",
       "        text-align: right;\n",
       "    }\n",
       "</style>\n",
       "<table border=\"1\" class=\"dataframe\">\n",
       "  <thead>\n",
       "    <tr style=\"text-align: right;\">\n",
       "      <th></th>\n",
       "      <th>用户id</th>\n",
       "      <th>行业</th>\n",
       "      <th>常驻省</th>\n",
       "      <th>常驻市</th>\n",
       "      <th>所在公司</th>\n",
       "      <th>所处职位</th>\n",
       "      <th>关注的公司</th>\n",
       "      <th>新定位省</th>\n",
       "      <th>新定位市</th>\n",
       "      <th>浏览时长</th>\n",
       "      <th>文章标签</th>\n",
       "      <th>文章类型</th>\n",
       "      <th>评论内容</th>\n",
       "    </tr>\n",
       "  </thead>\n",
       "  <tbody>\n",
       "    <tr>\n",
       "      <th>10253</th>\n",
       "      <td>100078</td>\n",
       "      <td>-1</td>\n",
       "      <td>-1</td>\n",
       "      <td>-1</td>\n",
       "      <td>厦门房网</td>\n",
       "      <td>[1, 0, 0, 0, 0, 0, 0]</td>\n",
       "      <td>-1</td>\n",
       "      <td>-1</td>\n",
       "      <td>-1</td>\n",
       "      <td>-1</td>\n",
       "      <td>-1</td>\n",
       "      <td>-1</td>\n",
       "      <td>-1</td>\n",
       "    </tr>\n",
       "    <tr>\n",
       "      <th>10739</th>\n",
       "      <td>10025</td>\n",
       "      <td>-1</td>\n",
       "      <td>-1</td>\n",
       "      <td>-1</td>\n",
       "      <td>片刻</td>\n",
       "      <td>[0, 0, 1, 0, 0, 0, 0]</td>\n",
       "      <td>-1</td>\n",
       "      <td>-1</td>\n",
       "      <td>-1</td>\n",
       "      <td>-1</td>\n",
       "      <td>-1</td>\n",
       "      <td>-1</td>\n",
       "      <td>-1</td>\n",
       "    </tr>\n",
       "    <tr>\n",
       "      <th>10936</th>\n",
       "      <td>10032</td>\n",
       "      <td>-1</td>\n",
       "      <td>-1</td>\n",
       "      <td>-1</td>\n",
       "      <td>巨象网</td>\n",
       "      <td>[1, 0, 0, 0, 0, 0, 0]</td>\n",
       "      <td>-1</td>\n",
       "      <td>-1</td>\n",
       "      <td>-1</td>\n",
       "      <td>-1</td>\n",
       "      <td>-1</td>\n",
       "      <td>-1</td>\n",
       "      <td>-1</td>\n",
       "    </tr>\n",
       "    <tr>\n",
       "      <th>12227</th>\n",
       "      <td>100782</td>\n",
       "      <td>-1</td>\n",
       "      <td>-1</td>\n",
       "      <td>-1</td>\n",
       "      <td>阿里巴巴</td>\n",
       "      <td>[1, 0, 0, 0, 0, 0, 0]</td>\n",
       "      <td>-1</td>\n",
       "      <td>-1</td>\n",
       "      <td>-1</td>\n",
       "      <td>-1</td>\n",
       "      <td>-1</td>\n",
       "      <td>-1</td>\n",
       "      <td>-1</td>\n",
       "    </tr>\n",
       "    <tr>\n",
       "      <th>13581</th>\n",
       "      <td>101259</td>\n",
       "      <td>-1</td>\n",
       "      <td>-1</td>\n",
       "      <td>-1</td>\n",
       "      <td>宜信惠琮国际融资租赁有限公司</td>\n",
       "      <td>[0, 0, 1, 0, 0, 0, 0]</td>\n",
       "      <td>-1</td>\n",
       "      <td>-1</td>\n",
       "      <td>-1</td>\n",
       "      <td>-1</td>\n",
       "      <td>-1</td>\n",
       "      <td>-1</td>\n",
       "      <td>-1</td>\n",
       "    </tr>\n",
       "    <tr>\n",
       "      <th>...</th>\n",
       "      <td>...</td>\n",
       "      <td>...</td>\n",
       "      <td>...</td>\n",
       "      <td>...</td>\n",
       "      <td>...</td>\n",
       "      <td>...</td>\n",
       "      <td>...</td>\n",
       "      <td>...</td>\n",
       "      <td>...</td>\n",
       "      <td>...</td>\n",
       "      <td>...</td>\n",
       "      <td>...</td>\n",
       "      <td>...</td>\n",
       "    </tr>\n",
       "    <tr>\n",
       "      <th>14627692</th>\n",
       "      <td>97089</td>\n",
       "      <td>-1</td>\n",
       "      <td>-1</td>\n",
       "      <td>-1</td>\n",
       "      <td>广东顺德时代易家电子商务有限公司</td>\n",
       "      <td>[0, 1, 0, 0, 0, 0, 0]</td>\n",
       "      <td>-1</td>\n",
       "      <td>-1</td>\n",
       "      <td>-1</td>\n",
       "      <td>-1</td>\n",
       "      <td>-1</td>\n",
       "      <td>-1</td>\n",
       "      <td>-1</td>\n",
       "    </tr>\n",
       "    <tr>\n",
       "      <th>14631235</th>\n",
       "      <td>97977</td>\n",
       "      <td>-1</td>\n",
       "      <td>-1</td>\n",
       "      <td>-1</td>\n",
       "      <td>兰博基尼</td>\n",
       "      <td>[0, 0, 1, 0, 0, 0, 0]</td>\n",
       "      <td>-1</td>\n",
       "      <td>-1</td>\n",
       "      <td>-1</td>\n",
       "      <td>-1</td>\n",
       "      <td>-1</td>\n",
       "      <td>-1</td>\n",
       "      <td>-1</td>\n",
       "    </tr>\n",
       "    <tr>\n",
       "      <th>14634509</th>\n",
       "      <td>98</td>\n",
       "      <td>-1</td>\n",
       "      <td>-1</td>\n",
       "      <td>-1</td>\n",
       "      <td>汉森供应链、农特集团</td>\n",
       "      <td>[0, 0, 0, 1, 0, 0, 0]</td>\n",
       "      <td>-1</td>\n",
       "      <td>-1</td>\n",
       "      <td>-1</td>\n",
       "      <td>-1</td>\n",
       "      <td>-1</td>\n",
       "      <td>-1</td>\n",
       "      <td>-1</td>\n",
       "    </tr>\n",
       "    <tr>\n",
       "      <th>14634976</th>\n",
       "      <td>98149</td>\n",
       "      <td>-1</td>\n",
       "      <td>-1</td>\n",
       "      <td>-1</td>\n",
       "      <td>拜耳材料科技</td>\n",
       "      <td>[0, 0, 1, 0, 0, 0, 0]</td>\n",
       "      <td>-1</td>\n",
       "      <td>-1</td>\n",
       "      <td>-1</td>\n",
       "      <td>-1</td>\n",
       "      <td>-1</td>\n",
       "      <td>-1</td>\n",
       "      <td>-1</td>\n",
       "    </tr>\n",
       "    <tr>\n",
       "      <th>14642274</th>\n",
       "      <td>99083</td>\n",
       "      <td>-1</td>\n",
       "      <td>-1</td>\n",
       "      <td>-1</td>\n",
       "      <td>鸿富锦精密工业</td>\n",
       "      <td>[1, 0, 0, 0, 0, 0, 0]</td>\n",
       "      <td>-1</td>\n",
       "      <td>-1</td>\n",
       "      <td>-1</td>\n",
       "      <td>-1</td>\n",
       "      <td>-1</td>\n",
       "      <td>-1</td>\n",
       "      <td>-1</td>\n",
       "    </tr>\n",
       "  </tbody>\n",
       "</table>\n",
       "<p>110568 rows × 13 columns</p>\n",
       "</div>"
      ],
      "text/plain": [
       "            用户id  行业  常驻省  常驻市              所在公司                   所处职位 关注的公司  \\\n",
       "10253     100078  -1   -1   -1              厦门房网  [1, 0, 0, 0, 0, 0, 0]    -1   \n",
       "10739      10025  -1   -1   -1                片刻  [0, 0, 1, 0, 0, 0, 0]    -1   \n",
       "10936      10032  -1   -1   -1               巨象网  [1, 0, 0, 0, 0, 0, 0]    -1   \n",
       "12227     100782  -1   -1   -1              阿里巴巴  [1, 0, 0, 0, 0, 0, 0]    -1   \n",
       "13581     101259  -1   -1   -1    宜信惠琮国际融资租赁有限公司  [0, 0, 1, 0, 0, 0, 0]    -1   \n",
       "...          ...  ..  ...  ...               ...                    ...   ...   \n",
       "14627692   97089  -1   -1   -1  广东顺德时代易家电子商务有限公司  [0, 1, 0, 0, 0, 0, 0]    -1   \n",
       "14631235   97977  -1   -1   -1              兰博基尼  [0, 0, 1, 0, 0, 0, 0]    -1   \n",
       "14634509      98  -1   -1   -1        汉森供应链、农特集团  [0, 0, 0, 1, 0, 0, 0]    -1   \n",
       "14634976   98149  -1   -1   -1            拜耳材料科技  [0, 0, 1, 0, 0, 0, 0]    -1   \n",
       "14642274   99083  -1   -1   -1           鸿富锦精密工业  [1, 0, 0, 0, 0, 0, 0]    -1   \n",
       "\n",
       "         新定位省 新定位市 浏览时长 文章标签 文章类型 评论内容  \n",
       "10253      -1   -1   -1   -1   -1   -1  \n",
       "10739      -1   -1   -1   -1   -1   -1  \n",
       "10936      -1   -1   -1   -1   -1   -1  \n",
       "12227      -1   -1   -1   -1   -1   -1  \n",
       "13581      -1   -1   -1   -1   -1   -1  \n",
       "...       ...  ...  ...  ...  ...  ...  \n",
       "14627692   -1   -1   -1   -1   -1   -1  \n",
       "14631235   -1   -1   -1   -1   -1   -1  \n",
       "14634509   -1   -1   -1   -1   -1   -1  \n",
       "14634976   -1   -1   -1   -1   -1   -1  \n",
       "14642274   -1   -1   -1   -1   -1   -1  \n",
       "\n",
       "[110568 rows x 13 columns]"
      ]
     },
     "execution_count": 52,
     "metadata": {},
     "output_type": "execute_result"
    }
   ],
   "source": [
    "train_df"
   ]
  },
  {
   "cell_type": "code",
   "execution_count": 64,
   "metadata": {},
   "outputs": [],
   "source": [
    "import happybase\n",
    "pool = happybase.ConnectionPool(size=100, host=\"47.110.125.69\", port=9090, timeout=None,\n",
    "                                protocol='binary'\n",
    "                                )\n",
    "with pool.connection() as conn:\n",
    "    table = conn.table(\"feature_center:user_profile\")\n",
    "    with table.batch(batch_size=400) as batch:\n",
    "        for i,index in enumerate(train_df.index):\n",
    "            batch.put(str(train_df.loc[index,\"用户id\"]).encode(), {\"attribute:input_position\".encode(): y_onehot.inverse_transform(np.array([train_df.loc[index,y_col]]))[0].encode()})\n",
    "            #print(str(train_df.loc[index,\"用户id\"]).encode(),{\"attribute:input_position\".encode(): y_onehot.inverse_transform(np.array([train_df.loc[index,y_col]]))[0].encode()})\n",
    "            #break\n",
    "            #batch.delete(str(train_df.loc[index,y_col]).encode())\n",
    "            "
   ]
  },
  {
   "cell_type": "code",
   "execution_count": null,
   "metadata": {},
   "outputs": [],
   "source": []
  }
 ],
 "metadata": {
  "kernelspec": {
   "display_name": "Python 3",
   "language": "python",
   "name": "python3"
  },
  "language_info": {
   "codemirror_mode": {
    "name": "ipython",
    "version": 3
   },
   "file_extension": ".py",
   "mimetype": "text/x-python",
   "name": "python",
   "nbconvert_exporter": "python",
   "pygments_lexer": "ipython3",
   "version": "3.7.6"
  }
 },
 "nbformat": 4,
 "nbformat_minor": 4
}
