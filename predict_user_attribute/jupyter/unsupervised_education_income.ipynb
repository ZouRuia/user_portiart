{
 "cells": [
  {
   "cell_type": "code",
   "execution_count": 56,
   "metadata": {},
   "outputs": [],
   "source": [
    "import os\n",
    "import collections\n",
    "import pandas as pd\n",
    "import numpy as np\n",
    "import happybase"
   ]
  },
  {
   "cell_type": "code",
   "execution_count": 12,
   "metadata": {},
   "outputs": [
    {
     "data": {
      "text/html": [
       "<div>\n",
       "<style scoped>\n",
       "    .dataframe tbody tr th:only-of-type {\n",
       "        vertical-align: middle;\n",
       "    }\n",
       "\n",
       "    .dataframe tbody tr th {\n",
       "        vertical-align: top;\n",
       "    }\n",
       "\n",
       "    .dataframe thead th {\n",
       "        text-align: right;\n",
       "    }\n",
       "</style>\n",
       "<table border=\"1\" class=\"dataframe\">\n",
       "  <thead>\n",
       "    <tr style=\"text-align: right;\">\n",
       "      <th></th>\n",
       "      <th>uid</th>\n",
       "      <th>age</th>\n",
       "      <th>trade</th>\n",
       "      <th>position</th>\n",
       "    </tr>\n",
       "  </thead>\n",
       "  <tbody>\n",
       "    <tr>\n",
       "      <th>0</th>\n",
       "      <td>1</td>\n",
       "      <td>36~45</td>\n",
       "      <td>金融</td>\n",
       "      <td>企业一般管理人员</td>\n",
       "    </tr>\n",
       "    <tr>\n",
       "      <th>1</th>\n",
       "      <td>6</td>\n",
       "      <td>36~45</td>\n",
       "      <td>IT/移动互联网</td>\n",
       "      <td>其他（自由职业）</td>\n",
       "    </tr>\n",
       "    <tr>\n",
       "      <th>2</th>\n",
       "      <td>8</td>\n",
       "      <td>26~29</td>\n",
       "      <td>金融</td>\n",
       "      <td>企业普通员工</td>\n",
       "    </tr>\n",
       "    <tr>\n",
       "      <th>3</th>\n",
       "      <td>38</td>\n",
       "      <td>30~35</td>\n",
       "      <td>金融</td>\n",
       "      <td>高校学生</td>\n",
       "    </tr>\n",
       "    <tr>\n",
       "      <th>4</th>\n",
       "      <td>44</td>\n",
       "      <td>36~45</td>\n",
       "      <td>IT/移动互联网</td>\n",
       "      <td>企业普通员工</td>\n",
       "    </tr>\n",
       "    <tr>\n",
       "      <th>...</th>\n",
       "      <td>...</td>\n",
       "      <td>...</td>\n",
       "      <td>...</td>\n",
       "      <td>...</td>\n",
       "    </tr>\n",
       "    <tr>\n",
       "      <th>261362</th>\n",
       "      <td>2902765</td>\n",
       "      <td>30~35</td>\n",
       "      <td>IT/移动互联网</td>\n",
       "      <td>企业普通员工</td>\n",
       "    </tr>\n",
       "    <tr>\n",
       "      <th>261363</th>\n",
       "      <td>2902766</td>\n",
       "      <td>30~35</td>\n",
       "      <td>零售消费</td>\n",
       "      <td>其他（自由职业）</td>\n",
       "    </tr>\n",
       "    <tr>\n",
       "      <th>261364</th>\n",
       "      <td>2902770</td>\n",
       "      <td>30~35</td>\n",
       "      <td>IT/移动互联网</td>\n",
       "      <td>企业普通员工</td>\n",
       "    </tr>\n",
       "    <tr>\n",
       "      <th>261365</th>\n",
       "      <td>2902775</td>\n",
       "      <td>36~45</td>\n",
       "      <td>房地产</td>\n",
       "      <td>其他（自由职业）</td>\n",
       "    </tr>\n",
       "    <tr>\n",
       "      <th>261366</th>\n",
       "      <td>2902778</td>\n",
       "      <td>36~45</td>\n",
       "      <td>电商</td>\n",
       "      <td>其他（自由职业）</td>\n",
       "    </tr>\n",
       "  </tbody>\n",
       "</table>\n",
       "<p>261367 rows × 4 columns</p>\n",
       "</div>"
      ],
      "text/plain": [
       "            uid    age     trade  position\n",
       "0             1  36~45        金融  企业一般管理人员\n",
       "1             6  36~45  IT/移动互联网  其他（自由职业）\n",
       "2             8  26~29        金融    企业普通员工\n",
       "3            38  30~35        金融      高校学生\n",
       "4            44  36~45  IT/移动互联网    企业普通员工\n",
       "...         ...    ...       ...       ...\n",
       "261362  2902765  30~35  IT/移动互联网    企业普通员工\n",
       "261363  2902766  30~35      零售消费  其他（自由职业）\n",
       "261364  2902770  30~35  IT/移动互联网    企业普通员工\n",
       "261365  2902775  36~45       房地产  其他（自由职业）\n",
       "261366  2902778  36~45        电商  其他（自由职业）\n",
       "\n",
       "[261367 rows x 4 columns]"
      ]
     },
     "execution_count": 12,
     "metadata": {},
     "output_type": "execute_result"
    }
   ],
   "source": [
    "df = pd.read_csv(os.path.join(r\"/home/zhaodachuan/code/hx_recall_system/predict_user_attribute\",\"age\",\"data\",\"res_df.csv\"))\n",
    "for flag in [\"trade\",\"position\"]:\n",
    "    df = df.merge(pd.read_csv(os.path.join(r\"/home/zhaodachuan/code/hx_recall_system/predict_user_attribute\",flag,\"data\",\"res_df.csv\")))\n",
    "df"
   ]
  },
  {
   "cell_type": "code",
   "execution_count": 15,
   "metadata": {},
   "outputs": [
    {
     "data": {
      "text/plain": [
       "{'金融': 72496,\n",
       " 'IT/移动互联网': 99972,\n",
       " '制造业': 74151,\n",
       " '房地产': 62068,\n",
       " '零售消费': 68441,\n",
       " '汽车': 53213,\n",
       " '电商': 70137,\n",
       " 'IOT': 89462,\n",
       " '游戏': 65337,\n",
       " '医疗': 83337,\n",
       " '其他': 59089}"
      ]
     },
     "execution_count": 15,
     "metadata": {},
     "output_type": "execute_result"
    }
   ],
   "source": [
    "#11808\n",
    "income_base_dict = {\n",
    "    '金融': 72496,\n",
    "    'IT/移动互联网': 99972,\n",
    "    '制造业': 74151,\n",
    "    '房地产': 62068,\n",
    "    '零售消费': 68441,\n",
    "    '汽车': 53213,\n",
    "    '电商': 70137,\n",
    "    'IOT': 89462,\n",
    "    '游戏': 65337,\n",
    "    '医疗': 83337\n",
    "}\n",
    "income_base_dict[\"其他\"] = int(np.average([v for v in income_base_dict.values()]) * 0.8)\n",
    "income_base_dict"
   ]
  },
  {
   "cell_type": "code",
   "execution_count": 19,
   "metadata": {},
   "outputs": [],
   "source": [
    "times_age_dict = {\n",
    "    '36~45': 4,\n",
    "    '26~29': 2,\n",
    "    '30~35': 3,\n",
    "    '21~25': 1,\n",
    "    '46~50': 4.5,\n",
    "    '~20': 0,\n",
    "    '50~': 5\n",
    "}    "
   ]
  },
  {
   "cell_type": "code",
   "execution_count": 20,
   "metadata": {},
   "outputs": [],
   "source": [
    "times_position_dict = {\n",
    "    '企业一般管理人员': 3, \n",
    "    '其他（自由职业）': 1, \n",
    "    '企业普通员工': 1, \n",
    "    '高校学生': 0, \n",
    "    '企业创始人/CEO': 20, \n",
    "    '事业单位员工': 1, \n",
    "    '企业业务决策层': 8\n",
    "}    "
   ]
  },
  {
   "cell_type": "code",
   "execution_count": 23,
   "metadata": {},
   "outputs": [],
   "source": [
    "income_list = []\n",
    "uid_list = []\n",
    "for index in df.index:\n",
    "    uid = df.loc[index,\"uid\"]\n",
    "    age = df.loc[index,\"age\"]\n",
    "    position = df.loc[index,\"position\"]\n",
    "    trade = df.loc[index,\"trade\"]\n",
    "    uid_list.append(uid)\n",
    "    income_list.append(income_base_dict[trade] * times_age_dict[age] * times_position_dict[position])"
   ]
  },
  {
   "cell_type": "code",
   "execution_count": 24,
   "metadata": {},
   "outputs": [],
   "source": [
    "def income_bucket(income):\n",
    "    if income < 80000:\n",
    "        return \"~8万\"\n",
    "    elif income <300000:\n",
    "        return \"8~30万\"\n",
    "    elif income < 1000000:\n",
    "        return \"30~100万\"\n",
    "    else:\n",
    "        return \"100~万\"\n",
    "income_list = [income_bucket(v) for v in income_list]"
   ]
  },
  {
   "cell_type": "code",
   "execution_count": 26,
   "metadata": {},
   "outputs": [
    {
     "data": {
      "text/plain": [
       "Counter({'30~100万': 20150, '8~30万': 201431, '~8万': 33131, '100~万': 6655})"
      ]
     },
     "execution_count": 26,
     "metadata": {},
     "output_type": "execute_result"
    }
   ],
   "source": [
    "res = collections.Counter(income_list)\n",
    "res "
   ]
  },
  {
   "cell_type": "code",
   "execution_count": 27,
   "metadata": {},
   "outputs": [
    {
     "data": {
      "text/plain": [
       "{'30~100万': 0.07709465999915827,\n",
       " '8~30万': 0.7706826033891042,\n",
       " '~8万': 0.12676045560457136,\n",
       " '100~万': 0.02546228100716617}"
      ]
     },
     "execution_count": 27,
     "metadata": {},
     "output_type": "execute_result"
    }
   ],
   "source": [
    "v_sum = np.sum([v for v in res.values()])\n",
    "{k:v/v_sum for k,v in res.items()}"
   ]
  },
  {
   "cell_type": "code",
   "execution_count": null,
   "metadata": {},
   "outputs": [],
   "source": []
  },
  {
   "cell_type": "code",
   "execution_count": null,
   "metadata": {},
   "outputs": [],
   "source": []
  },
  {
   "cell_type": "code",
   "execution_count": null,
   "metadata": {},
   "outputs": [],
   "source": [
    "# 本科及以上\n",
    "# 大专\n",
    "# 高中\n",
    "# 其他"
   ]
  },
  {
   "cell_type": "code",
   "execution_count": 28,
   "metadata": {},
   "outputs": [
    {
     "data": {
      "text/html": [
       "<div>\n",
       "<style scoped>\n",
       "    .dataframe tbody tr th:only-of-type {\n",
       "        vertical-align: middle;\n",
       "    }\n",
       "\n",
       "    .dataframe tbody tr th {\n",
       "        vertical-align: top;\n",
       "    }\n",
       "\n",
       "    .dataframe thead th {\n",
       "        text-align: right;\n",
       "    }\n",
       "</style>\n",
       "<table border=\"1\" class=\"dataframe\">\n",
       "  <thead>\n",
       "    <tr style=\"text-align: right;\">\n",
       "      <th></th>\n",
       "      <th>uid</th>\n",
       "      <th>age</th>\n",
       "      <th>trade</th>\n",
       "      <th>position</th>\n",
       "      <th>income</th>\n",
       "    </tr>\n",
       "  </thead>\n",
       "  <tbody>\n",
       "    <tr>\n",
       "      <th>0</th>\n",
       "      <td>1</td>\n",
       "      <td>36~45</td>\n",
       "      <td>金融</td>\n",
       "      <td>企业一般管理人员</td>\n",
       "      <td>30~100万</td>\n",
       "    </tr>\n",
       "    <tr>\n",
       "      <th>1</th>\n",
       "      <td>6</td>\n",
       "      <td>36~45</td>\n",
       "      <td>IT/移动互联网</td>\n",
       "      <td>其他（自由职业）</td>\n",
       "      <td>30~100万</td>\n",
       "    </tr>\n",
       "    <tr>\n",
       "      <th>2</th>\n",
       "      <td>8</td>\n",
       "      <td>26~29</td>\n",
       "      <td>金融</td>\n",
       "      <td>企业普通员工</td>\n",
       "      <td>8~30万</td>\n",
       "    </tr>\n",
       "    <tr>\n",
       "      <th>3</th>\n",
       "      <td>38</td>\n",
       "      <td>30~35</td>\n",
       "      <td>金融</td>\n",
       "      <td>高校学生</td>\n",
       "      <td>~8万</td>\n",
       "    </tr>\n",
       "    <tr>\n",
       "      <th>4</th>\n",
       "      <td>44</td>\n",
       "      <td>36~45</td>\n",
       "      <td>IT/移动互联网</td>\n",
       "      <td>企业普通员工</td>\n",
       "      <td>30~100万</td>\n",
       "    </tr>\n",
       "    <tr>\n",
       "      <th>...</th>\n",
       "      <td>...</td>\n",
       "      <td>...</td>\n",
       "      <td>...</td>\n",
       "      <td>...</td>\n",
       "      <td>...</td>\n",
       "    </tr>\n",
       "    <tr>\n",
       "      <th>261362</th>\n",
       "      <td>2902765</td>\n",
       "      <td>30~35</td>\n",
       "      <td>IT/移动互联网</td>\n",
       "      <td>企业普通员工</td>\n",
       "      <td>8~30万</td>\n",
       "    </tr>\n",
       "    <tr>\n",
       "      <th>261363</th>\n",
       "      <td>2902766</td>\n",
       "      <td>30~35</td>\n",
       "      <td>零售消费</td>\n",
       "      <td>其他（自由职业）</td>\n",
       "      <td>8~30万</td>\n",
       "    </tr>\n",
       "    <tr>\n",
       "      <th>261364</th>\n",
       "      <td>2902770</td>\n",
       "      <td>30~35</td>\n",
       "      <td>IT/移动互联网</td>\n",
       "      <td>企业普通员工</td>\n",
       "      <td>8~30万</td>\n",
       "    </tr>\n",
       "    <tr>\n",
       "      <th>261365</th>\n",
       "      <td>2902775</td>\n",
       "      <td>36~45</td>\n",
       "      <td>房地产</td>\n",
       "      <td>其他（自由职业）</td>\n",
       "      <td>8~30万</td>\n",
       "    </tr>\n",
       "    <tr>\n",
       "      <th>261366</th>\n",
       "      <td>2902778</td>\n",
       "      <td>36~45</td>\n",
       "      <td>电商</td>\n",
       "      <td>其他（自由职业）</td>\n",
       "      <td>8~30万</td>\n",
       "    </tr>\n",
       "  </tbody>\n",
       "</table>\n",
       "<p>261367 rows × 5 columns</p>\n",
       "</div>"
      ],
      "text/plain": [
       "            uid    age     trade  position   income\n",
       "0             1  36~45        金融  企业一般管理人员  30~100万\n",
       "1             6  36~45  IT/移动互联网  其他（自由职业）  30~100万\n",
       "2             8  26~29        金融    企业普通员工    8~30万\n",
       "3            38  30~35        金融      高校学生      ~8万\n",
       "4            44  36~45  IT/移动互联网    企业普通员工  30~100万\n",
       "...         ...    ...       ...       ...      ...\n",
       "261362  2902765  30~35  IT/移动互联网    企业普通员工    8~30万\n",
       "261363  2902766  30~35      零售消费  其他（自由职业）    8~30万\n",
       "261364  2902770  30~35  IT/移动互联网    企业普通员工    8~30万\n",
       "261365  2902775  36~45       房地产  其他（自由职业）    8~30万\n",
       "261366  2902778  36~45        电商  其他（自由职业）    8~30万\n",
       "\n",
       "[261367 rows x 5 columns]"
      ]
     },
     "execution_count": 28,
     "metadata": {},
     "output_type": "execute_result"
    }
   ],
   "source": [
    "df[\"income\"] = income_list\n",
    "df"
   ]
  },
  {
   "cell_type": "code",
   "execution_count": 46,
   "metadata": {},
   "outputs": [],
   "source": [
    "education_base_dict = {\n",
    "    '金融': 3,\n",
    "    'IT/移动互联网': 3,\n",
    "    '制造业': 1,\n",
    "    '房地产': 0,\n",
    "    '零售消费': 0,\n",
    "    '汽车': 1,\n",
    "    '电商': 1,\n",
    "    'IOT': 3,\n",
    "    '游戏': 3,\n",
    "    '医疗': 3,\n",
    "    \"其他\": 0\n",
    "}"
   ]
  },
  {
   "cell_type": "code",
   "execution_count": 47,
   "metadata": {},
   "outputs": [],
   "source": [
    "delta_age_dict = {\n",
    "    '36~45': 2,\n",
    "    '26~29': 1,\n",
    "    '30~35': 1,\n",
    "    '21~25': 1,\n",
    "    '46~50': 2,\n",
    "    '~20': 0,\n",
    "    '50~': 2\n",
    "}    "
   ]
  },
  {
   "cell_type": "code",
   "execution_count": 48,
   "metadata": {},
   "outputs": [],
   "source": [
    "delta_position_dict = {\n",
    "    '企业一般管理人员': 3, \n",
    "    '其他（自由职业）': 0, \n",
    "    '企业普通员工': 1, \n",
    "    '高校学生': 3, \n",
    "    '企业创始人/CEO': 3, \n",
    "    '事业单位员工': 3, \n",
    "    '企业业务决策层': 3\n",
    "}    "
   ]
  },
  {
   "cell_type": "code",
   "execution_count": 49,
   "metadata": {},
   "outputs": [],
   "source": [
    "education_list = []\n",
    "uid_list = []\n",
    "for index in df.index:\n",
    "    uid = df.loc[index,\"uid\"]\n",
    "    age = df.loc[index,\"age\"]\n",
    "    position = df.loc[index,\"position\"]\n",
    "    trade = df.loc[index,\"trade\"]\n",
    "    uid_list.append(uid)\n",
    "    education_list.append(education_base_dict[trade] + delta_age_dict[age] + delta_position_dict[position])"
   ]
  },
  {
   "cell_type": "code",
   "execution_count": 50,
   "metadata": {},
   "outputs": [],
   "source": [
    "def education_bucket(education):\n",
    "    if education == 0 :\n",
    "        return \"其他\"\n",
    "    elif education == 1:\n",
    "        return \"高中\"\n",
    "    elif education == 2:\n",
    "        return \"大专\"\n",
    "    else:\n",
    "        return \"本科及以上\"\n",
    "education_list = [education_bucket(v) for v in education_list]"
   ]
  },
  {
   "cell_type": "code",
   "execution_count": 51,
   "metadata": {},
   "outputs": [
    {
     "data": {
      "text/plain": [
       "Counter({'本科及以上': 152931, '大专': 71960, '高中': 35962, '其他': 514})"
      ]
     },
     "execution_count": 51,
     "metadata": {},
     "output_type": "execute_result"
    }
   ],
   "source": [
    "res = collections.Counter(education_list)\n",
    "res "
   ]
  },
  {
   "cell_type": "code",
   "execution_count": 52,
   "metadata": {},
   "outputs": [
    {
     "data": {
      "text/plain": [
       "{'本科及以上': 0.5851197741107332,\n",
       " '大专': 0.2753216741210635,\n",
       " '高中': 0.1375919683816243,\n",
       " '其他': 0.001966583386579025}"
      ]
     },
     "execution_count": 52,
     "metadata": {},
     "output_type": "execute_result"
    }
   ],
   "source": [
    "v_sum = np.sum([v for v in res.values()])\n",
    "{k:v/v_sum for k,v in res.items()}"
   ]
  },
  {
   "cell_type": "code",
   "execution_count": null,
   "metadata": {},
   "outputs": [],
   "source": []
  },
  {
   "cell_type": "code",
   "execution_count": 53,
   "metadata": {},
   "outputs": [
    {
     "data": {
      "text/html": [
       "<div>\n",
       "<style scoped>\n",
       "    .dataframe tbody tr th:only-of-type {\n",
       "        vertical-align: middle;\n",
       "    }\n",
       "\n",
       "    .dataframe tbody tr th {\n",
       "        vertical-align: top;\n",
       "    }\n",
       "\n",
       "    .dataframe thead th {\n",
       "        text-align: right;\n",
       "    }\n",
       "</style>\n",
       "<table border=\"1\" class=\"dataframe\">\n",
       "  <thead>\n",
       "    <tr style=\"text-align: right;\">\n",
       "      <th></th>\n",
       "      <th>uid</th>\n",
       "      <th>age</th>\n",
       "      <th>trade</th>\n",
       "      <th>position</th>\n",
       "      <th>income</th>\n",
       "      <th>education</th>\n",
       "    </tr>\n",
       "  </thead>\n",
       "  <tbody>\n",
       "    <tr>\n",
       "      <th>0</th>\n",
       "      <td>1</td>\n",
       "      <td>36~45</td>\n",
       "      <td>金融</td>\n",
       "      <td>企业一般管理人员</td>\n",
       "      <td>30~100万</td>\n",
       "      <td>本科及以上</td>\n",
       "    </tr>\n",
       "    <tr>\n",
       "      <th>1</th>\n",
       "      <td>6</td>\n",
       "      <td>36~45</td>\n",
       "      <td>IT/移动互联网</td>\n",
       "      <td>其他（自由职业）</td>\n",
       "      <td>30~100万</td>\n",
       "      <td>本科及以上</td>\n",
       "    </tr>\n",
       "    <tr>\n",
       "      <th>2</th>\n",
       "      <td>8</td>\n",
       "      <td>26~29</td>\n",
       "      <td>金融</td>\n",
       "      <td>企业普通员工</td>\n",
       "      <td>8~30万</td>\n",
       "      <td>本科及以上</td>\n",
       "    </tr>\n",
       "    <tr>\n",
       "      <th>3</th>\n",
       "      <td>38</td>\n",
       "      <td>30~35</td>\n",
       "      <td>金融</td>\n",
       "      <td>高校学生</td>\n",
       "      <td>~8万</td>\n",
       "      <td>本科及以上</td>\n",
       "    </tr>\n",
       "    <tr>\n",
       "      <th>4</th>\n",
       "      <td>44</td>\n",
       "      <td>36~45</td>\n",
       "      <td>IT/移动互联网</td>\n",
       "      <td>企业普通员工</td>\n",
       "      <td>30~100万</td>\n",
       "      <td>本科及以上</td>\n",
       "    </tr>\n",
       "    <tr>\n",
       "      <th>...</th>\n",
       "      <td>...</td>\n",
       "      <td>...</td>\n",
       "      <td>...</td>\n",
       "      <td>...</td>\n",
       "      <td>...</td>\n",
       "      <td>...</td>\n",
       "    </tr>\n",
       "    <tr>\n",
       "      <th>261362</th>\n",
       "      <td>2902765</td>\n",
       "      <td>30~35</td>\n",
       "      <td>IT/移动互联网</td>\n",
       "      <td>企业普通员工</td>\n",
       "      <td>8~30万</td>\n",
       "      <td>本科及以上</td>\n",
       "    </tr>\n",
       "    <tr>\n",
       "      <th>261363</th>\n",
       "      <td>2902766</td>\n",
       "      <td>30~35</td>\n",
       "      <td>零售消费</td>\n",
       "      <td>其他（自由职业）</td>\n",
       "      <td>8~30万</td>\n",
       "      <td>高中</td>\n",
       "    </tr>\n",
       "    <tr>\n",
       "      <th>261364</th>\n",
       "      <td>2902770</td>\n",
       "      <td>30~35</td>\n",
       "      <td>IT/移动互联网</td>\n",
       "      <td>企业普通员工</td>\n",
       "      <td>8~30万</td>\n",
       "      <td>本科及以上</td>\n",
       "    </tr>\n",
       "    <tr>\n",
       "      <th>261365</th>\n",
       "      <td>2902775</td>\n",
       "      <td>36~45</td>\n",
       "      <td>房地产</td>\n",
       "      <td>其他（自由职业）</td>\n",
       "      <td>8~30万</td>\n",
       "      <td>大专</td>\n",
       "    </tr>\n",
       "    <tr>\n",
       "      <th>261366</th>\n",
       "      <td>2902778</td>\n",
       "      <td>36~45</td>\n",
       "      <td>电商</td>\n",
       "      <td>其他（自由职业）</td>\n",
       "      <td>8~30万</td>\n",
       "      <td>本科及以上</td>\n",
       "    </tr>\n",
       "  </tbody>\n",
       "</table>\n",
       "<p>261367 rows × 6 columns</p>\n",
       "</div>"
      ],
      "text/plain": [
       "            uid    age     trade  position   income education\n",
       "0             1  36~45        金融  企业一般管理人员  30~100万     本科及以上\n",
       "1             6  36~45  IT/移动互联网  其他（自由职业）  30~100万     本科及以上\n",
       "2             8  26~29        金融    企业普通员工    8~30万     本科及以上\n",
       "3            38  30~35        金融      高校学生      ~8万     本科及以上\n",
       "4            44  36~45  IT/移动互联网    企业普通员工  30~100万     本科及以上\n",
       "...         ...    ...       ...       ...      ...       ...\n",
       "261362  2902765  30~35  IT/移动互联网    企业普通员工    8~30万     本科及以上\n",
       "261363  2902766  30~35      零售消费  其他（自由职业）    8~30万        高中\n",
       "261364  2902770  30~35  IT/移动互联网    企业普通员工    8~30万     本科及以上\n",
       "261365  2902775  36~45       房地产  其他（自由职业）    8~30万        大专\n",
       "261366  2902778  36~45        电商  其他（自由职业）    8~30万     本科及以上\n",
       "\n",
       "[261367 rows x 6 columns]"
      ]
     },
     "execution_count": 53,
     "metadata": {},
     "output_type": "execute_result"
    }
   ],
   "source": [
    "df[\"education\"] = education_list\n",
    "df"
   ]
  },
  {
   "cell_type": "code",
   "execution_count": 60,
   "metadata": {},
   "outputs": [
    {
     "name": "stdout",
     "output_type": "stream",
     "text": [
      "<class 'pandas.core.frame.DataFrame'>\n",
      "Int64Index: 261367 entries, 0 to 261366\n",
      "Data columns (total 6 columns):\n",
      " #   Column     Non-Null Count   Dtype \n",
      "---  ------     --------------   ----- \n",
      " 0   uid        261367 non-null  int64 \n",
      " 1   age        261367 non-null  object\n",
      " 2   trade      261367 non-null  object\n",
      " 3   position   261367 non-null  object\n",
      " 4   income     261367 non-null  object\n",
      " 5   education  261367 non-null  object\n",
      "dtypes: int64(1), object(5)\n",
      "memory usage: 24.0+ MB\n"
     ]
    }
   ],
   "source": [
    "df.info()"
   ]
  },
  {
   "cell_type": "code",
   "execution_count": 62,
   "metadata": {},
   "outputs": [],
   "source": [
    "pool = happybase.ConnectionPool(size=100, host=\"47.110.125.69\", port=9090, timeout=10000,protocol='binary')"
   ]
  },
  {
   "cell_type": "code",
   "execution_count": 63,
   "metadata": {},
   "outputs": [],
   "source": [
    "income_list = []\n",
    "uid_list = []\n",
    "with pool.connection() as connection:\n",
    "    table = connection.table(\"feature_center:user_profile\")\n",
    "    with table.batch() as b:\n",
    "        for index in df.index:\n",
    "            uid = df.loc[index,\"uid\"]\n",
    "            age = df.loc[index,\"age\"]\n",
    "            position = df.loc[index,\"position\"]\n",
    "            trade = df.loc[index,\"trade\"]\n",
    "            education = df.loc[index,\"education\"]\n",
    "            income = df.loc[index,\"income\"]\n",
    "            b.put(\n",
    "                str(uid).encode(), \n",
    "                {\n",
    "                    b'attribute:predict_age':age.encode(),\n",
    "                    b'attribute:predict_position':position.encode(), \n",
    "                    b'attribute:predict_trade':trade.encode(), \n",
    "                    b'attribute:predict_education':education.encode(), \n",
    "                    b'attribute:predict_income':income.encode(),\n",
    "                }\n",
    "            )\n"
   ]
  },
  {
   "cell_type": "code",
   "execution_count": null,
   "metadata": {},
   "outputs": [],
   "source": []
  }
 ],
 "metadata": {
  "kernelspec": {
   "display_name": "Python 3",
   "language": "python",
   "name": "python3"
  },
  "language_info": {
   "codemirror_mode": {
    "name": "ipython",
    "version": 3
   },
   "file_extension": ".py",
   "mimetype": "text/x-python",
   "name": "python",
   "nbconvert_exporter": "python",
   "pygments_lexer": "ipython3",
   "version": "3.7.6"
  }
 },
 "nbformat": 4,
 "nbformat_minor": 4
}
