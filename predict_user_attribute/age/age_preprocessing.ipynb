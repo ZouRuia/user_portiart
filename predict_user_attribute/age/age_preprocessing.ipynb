{
 "cells": [
  {
   "cell_type": "code",
   "execution_count": null,
   "metadata": {},
   "outputs": [],
   "source": [
    "import json\n",
    "import os\n",
    "import collections\n",
    "import numpy as np\n",
    "import pandas as pd\n",
    "import tensorflow as tf\n",
    "import LAC\n",
    "import happybase\n",
    "import joblib\n",
    "import sklearn.utils"
   ]
  },
  {
   "cell_type": "code",
   "execution_count": null,
   "metadata": {},
   "outputs": [],
   "source": [
    "df_list = []\n",
    "with open(\"/mnt1/zhaodachuan/data/predict_user_attribute20200911/raw_data/user_profile/pre_age_200910_train_res\") as f:\n",
    "    for line in f:\n",
    "        df_list.append(line.strip().split('\\001'))\n",
    "df = pd.DataFrame(df_list)"
   ]
  },
  {
   "cell_type": "code",
   "execution_count": null,
   "metadata": {},
   "outputs": [],
   "source": [
    "df_columns_list = [\"udid\",\"age\"]\n",
    "for i in range(10):\n",
    "    df_columns_list.append(\"c{}\".format(i))\n",
    "df.columns = df_columns_list"
   ]
  },
  {
   "cell_type": "code",
   "execution_count": null,
   "metadata": {},
   "outputs": [],
   "source": [
    "df"
   ]
  },
  {
   "cell_type": "code",
   "execution_count": null,
   "metadata": {},
   "outputs": [],
   "source": [
    "aid_set = set()\n",
    "for i in range(10):\n",
    "    aid_set.update(df[\"c{}\".format(i)])"
   ]
  },
  {
   "cell_type": "code",
   "execution_count": null,
   "metadata": {},
   "outputs": [],
   "source": [
    "a_dict = {}\n",
    "with open(\"/mnt1/zhaodachuan/data/predict_user_attribute20200911/raw_data/user_profile/title_res.jsonl\") as f:\n",
    "    for line in f:\n",
    "        temp_dict = json.loads(line.strip())\n",
    "        aid = temp_dict[\"aid\"]\n",
    "        title_tokenize = temp_dict[\"title_tokenize\"]\n",
    "        a_dict[aid] = title_tokenize"
   ]
  },
  {
   "cell_type": "code",
   "execution_count": null,
   "metadata": {},
   "outputs": [],
   "source": [
    "def temp_function(x):\n",
    "    #x = datetime.datetime.now().year - int(x.split(\"-\")[0])\n",
    "    y = 0\n",
    "    if x < 20:\n",
    "        y = \"~20\"\n",
    "    elif x<25:\n",
    "        y = \"21~25\"\n",
    "    elif x<29:\n",
    "        y = \"26~29\"\n",
    "    elif x<35:\n",
    "        y = \"30~35\"\n",
    "    elif x<45:\n",
    "        y = \"36~45\"\n",
    "    elif x<50:\n",
    "        y = \"46~50\"\n",
    "    else:\n",
    "        y = \"50~\"\n",
    "    return y"
   ]
  },
  {
   "cell_type": "code",
   "execution_count": null,
   "metadata": {},
   "outputs": [],
   "source": [
    "title_tokenize_list = []\n",
    "age_list = []\n",
    "for index in df.index:\n",
    "    age = temp_function(int(df.loc[index,\"age\"]))\n",
    "    temp_list = []\n",
    "    for i in range(10):\n",
    "        c = \"c{}\".format(i)\n",
    "        if str(df.loc[index,c]):\n",
    "            if str(df.loc[index,c]) in a_dict:\n",
    "                temp_list.extend(a_dict[str(df.loc[index,c])])\n",
    "                temp_list.append(\"<PADDING>\")\n",
    "            else:\n",
    "                print(\"aid不存在\",index,c,df.loc[index,c])\n",
    "        else:\n",
    "            print(index)\n",
    "    age_list.append(age)\n",
    "    title_tokenize_list.append(temp_list)"
   ]
  },
  {
   "cell_type": "code",
   "execution_count": null,
   "metadata": {},
   "outputs": [],
   "source": [
    "with open(\"/home/zhaodachuan/jupyter_lab/user_profile/age/data/最终数据集tokenize.jsonl\",\"w\") as f:\n",
    "    for tag,content_tokenize in zip(age_list,title_tokenize_list):\n",
    "        f.write(json.dumps({\"tag\":tag,\"content_tokenize\":content_tokenize},ensure_ascii=False) + \"\\n\")"
   ]
  },
  {
   "cell_type": "code",
   "execution_count": null,
   "metadata": {},
   "outputs": [],
   "source": []
  }
 ],
 "metadata": {
  "kernelspec": {
   "display_name": "Python 3",
   "language": "python",
   "name": "python3"
  },
  "language_info": {
   "codemirror_mode": {
    "name": "ipython",
    "version": 3
   },
   "file_extension": ".py",
   "mimetype": "text/x-python",
   "name": "python",
   "nbconvert_exporter": "python",
   "pygments_lexer": "ipython3",
   "version": "3.7.6"
  }
 },
 "nbformat": 4,
 "nbformat_minor": 4
}
